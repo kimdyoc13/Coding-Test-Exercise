{
 "cells": [
  {
   "cell_type": "code",
   "execution_count": null,
   "metadata": {},
   "outputs": [],
   "source": [
    "def solution(nums):\n",
    "    answer = 0\n",
    "    \n",
    "    \n",
    "    # process \n",
    "    # 중복 제거\n",
    "    # nums 는 종류\n",
    "    # 2/N 은 반환해야하는 갯수\n",
    "    N = len(nums)\n",
    "    nums = list(set(nums))\n",
    "    \n",
    "    if len(nums) >- N/2:\n",
    "        return N/2\n",
    "    elif len(nums) < N/2:\n",
    "        return len(nums)\n",
    "        "
   ]
  },
  {
   "cell_type": "code",
   "execution_count": 3,
   "metadata": {},
   "outputs": [],
   "source": [
    "nums = \t[3, 3, 3, 2, 2, 2]"
   ]
  },
  {
   "cell_type": "code",
   "execution_count": 4,
   "metadata": {},
   "outputs": [
    {
     "name": "stdout",
     "output_type": "stream",
     "text": [
      "N/2:  3.0\n",
      "nums : [2, 3]\n",
      "3.0\n"
     ]
    }
   ],
   "source": [
    "N = len(nums)\n",
    "print(\"N/2: \", N/2 )\n",
    "nums = list(set(nums))\n",
    "print(\"nums :\", nums)\n",
    "\n",
    "if len(nums) >= N/2:\n",
    "    print(N/2)\n",
    "elif len(nums) < N/2:\n",
    "    print( len(nums))"
   ]
  },
  {
   "cell_type": "markdown",
   "metadata": {},
   "source": [
    "N/2 > nums"
   ]
  },
  {
   "cell_type": "code",
   "execution_count": null,
   "metadata": {},
   "outputs": [],
   "source": []
  }
 ],
 "metadata": {
  "kernelspec": {
   "display_name": "Python 3",
   "language": "python",
   "name": "python3"
  },
  "language_info": {
   "codemirror_mode": {
    "name": "ipython",
    "version": 3
   },
   "file_extension": ".py",
   "mimetype": "text/x-python",
   "name": "python",
   "nbconvert_exporter": "python",
   "pygments_lexer": "ipython3",
   "version": "3.12.7"
  }
 },
 "nbformat": 4,
 "nbformat_minor": 2
}
