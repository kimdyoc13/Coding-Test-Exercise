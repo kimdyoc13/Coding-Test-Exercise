{
 "cells": [
  {
   "cell_type": "code",
   "execution_count": 1,
   "metadata": {},
   "outputs": [
    {
     "name": "stdout",
     "output_type": "stream",
     "text": [
      "a\n",
      "b\n",
      " \n",
      "c\n"
     ]
    }
   ],
   "source": [
    "x = 'ab c'\n",
    "\n",
    "for i in range(len(x)):\n",
    "    print(x[i])"
   ]
  },
  {
   "cell_type": "code",
   "execution_count": 3,
   "metadata": {},
   "outputs": [
    {
     "name": "stdout",
     "output_type": "stream",
     "text": [
      "['A', 'B', 'C', 'D', 'E', 'F', 'G', 'H', 'I', 'J', 'K', 'L', 'M', 'N', 'O', 'P', 'Q', 'R', 'S', 'T', 'U', 'V', 'W', 'X', 'Y', 'Z']\n",
      "['a', 'b', 'c', 'd', 'e', 'f', 'g', 'h', 'i', 'j', 'k', 'l', 'm', 'n', 'o', 'p', 'q', 'r', 's', 't', 'u', 'v', 'w', 'x', 'y', 'z']\n"
     ]
    }
   ],
   "source": [
    "import string\n",
    "Upper_List = list(string.ascii_uppercase)\n",
    "Lower_List = list(string.ascii_lowercase)\n",
    "\n",
    "print(Upper_List)\n",
    "print(Lower_List)"
   ]
  },
  {
   "cell_type": "code",
   "execution_count": 5,
   "metadata": {},
   "outputs": [
    {
     "name": "stdout",
     "output_type": "stream",
     "text": [
      "1\n"
     ]
    }
   ],
   "source": [
    "a = [11,10,12,13,20,31,11,10,10,11]\n",
    "print((a.index(10))) "
   ]
  },
  {
   "cell_type": "code",
   "execution_count": null,
   "metadata": {},
   "outputs": [],
   "source": [
    "def solution(s, n):\n",
    "    answer = ''\n",
    "    import string\n",
    "    Upper_List = list(string.ascii_uppercase)\n",
    "    Lower_List = list(string.ascii_lowercase)\n",
    "\n",
    "    for i in range(len(s)):\n",
    "        x = s[i]\n",
    "    \n",
    "        if x ==' ':\n",
    "            answer +=' '\n",
    "\n",
    "        elif x.upper() == x:\n",
    "            t = Upper_List.index(x) +n\n",
    "            if t >= 26:\n",
    "                t -= 26\n",
    "            y = Upper_List[t]\n",
    "            answer += y\n",
    "\n",
    "        elif x.lower() ==x:\n",
    "            t = Lower_List.index(x) +n\n",
    "            if t >= 26:\n",
    "                t -= 26\n",
    "            y = Lower_List[t]\n",
    "            answer += y\n",
    "        \n",
    "    return answer"
   ]
  }
 ],
 "metadata": {
  "kernelspec": {
   "display_name": "Python 3",
   "language": "python",
   "name": "python3"
  },
  "language_info": {
   "codemirror_mode": {
    "name": "ipython",
    "version": 3
   },
   "file_extension": ".py",
   "mimetype": "text/x-python",
   "name": "python",
   "nbconvert_exporter": "python",
   "pygments_lexer": "ipython3",
   "version": "3.12.2"
  }
 },
 "nbformat": 4,
 "nbformat_minor": 2
}
