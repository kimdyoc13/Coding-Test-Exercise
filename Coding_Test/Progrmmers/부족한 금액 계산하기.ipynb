{
 "cells": [
  {
   "cell_type": "code",
   "execution_count": null,
   "metadata": {},
   "outputs": [],
   "source": [
    "def solution(price, money, count):\n",
    "    for i in range(1, count +1):\n",
    "        money -= price * i\n",
    "        \n",
    "    if money <0:\n",
    "        return money * -1\n",
    "    else:\n",
    "        return 0\n",
    "        \n",
    "\n",
    "    "
   ]
  }
 ],
 "metadata": {
  "language_info": {
   "name": "python"
  }
 },
 "nbformat": 4,
 "nbformat_minor": 2
}
