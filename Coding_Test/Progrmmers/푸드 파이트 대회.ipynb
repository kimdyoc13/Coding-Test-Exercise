{
 "cells": [
  {
   "cell_type": "code",
   "execution_count": 5,
   "metadata": {},
   "outputs": [
    {
     "name": "stdout",
     "output_type": "stream",
     "text": [
      "5\n",
      "4\n",
      "3\n",
      "2\n"
     ]
    }
   ],
   "source": [
    "\n",
    "for i in range(5, 1, -1):\n",
    "    print(i)"
   ]
  },
  {
   "cell_type": "code",
   "execution_count": 7,
   "metadata": {},
   "outputs": [
    {
     "name": "stdout",
     "output_type": "stream",
     "text": [
      "0\n"
     ]
    }
   ],
   "source": [
    "answer = ''\n",
    "\n",
    "answer += '0'\n",
    "\n",
    "print(answer)"
   ]
  },
  {
   "cell_type": "code",
   "execution_count": 10,
   "metadata": {},
   "outputs": [
    {
     "name": "stdout",
     "output_type": "stream",
     "text": [
      "1223330333221\n"
     ]
    }
   ],
   "source": [
    "food = [1, 3, 4, 6]\t\n",
    "\n",
    "answer = ''\n",
    "    \n",
    "for i in range(len(food)):\n",
    "    if i ==0:\n",
    "        continue\n",
    "    elif food[i] % 2 ==1:\n",
    "        food[i] = food[i] -1\n",
    "        \n",
    "for i in range(1, len(food)):\n",
    "    if food[i] ==1:\n",
    "        continue\n",
    "    answer += (str(i) * (food[i] // 2))\n",
    "    \n",
    "answer += '0'\n",
    "                \n",
    "for i in range(len(food)-1, 0, -1):\n",
    "    if food[i] ==1:\n",
    "        continue\n",
    "    answer += (str(i) * (food[i] // 2))\n",
    "    \n",
    "print(answer)"
   ]
  },
  {
   "cell_type": "code",
   "execution_count": 9,
   "metadata": {},
   "outputs": [
    {
     "name": "stdout",
     "output_type": "stream",
     "text": [
      "4\n"
     ]
    }
   ],
   "source": [
    "print(len(food))"
   ]
  },
  {
   "cell_type": "code",
   "execution_count": null,
   "metadata": {},
   "outputs": [],
   "source": [
    "def solution(food):\n",
    "    answer = ''\n",
    "    \n",
    "    for i in range(len(food)):\n",
    "        if i ==0:\n",
    "            continue\n",
    "        elif food[i] % 2 ==1:\n",
    "            food[i] = food[i] -1\n",
    "            \n",
    "    for i in range(1, len(food)):\n",
    "        if food[i] ==1:\n",
    "            continue\n",
    "        answer += (str(i) * (food[i] // 2))\n",
    "        \n",
    "    answer += '0'\n",
    "                   \n",
    "    for i in range(len(food)-1, 0, -1):\n",
    "        if food[i] ==1:\n",
    "            continue\n",
    "        answer += (str(i) * (food[i] // 2))\n",
    "                   \n",
    "    return answer"
   ]
  }
 ],
 "metadata": {
  "kernelspec": {
   "display_name": "Python 3",
   "language": "python",
   "name": "python3"
  },
  "language_info": {
   "codemirror_mode": {
    "name": "ipython",
    "version": 3
   },
   "file_extension": ".py",
   "mimetype": "text/x-python",
   "name": "python",
   "nbconvert_exporter": "python",
   "pygments_lexer": "ipython3",
   "version": "3.12.2"
  }
 },
 "nbformat": 4,
 "nbformat_minor": 2
}
