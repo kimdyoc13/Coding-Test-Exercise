{
 "cells": [
  {
   "cell_type": "code",
   "execution_count": 1,
   "metadata": {},
   "outputs": [
    {
     "name": "stdout",
     "output_type": "stream",
     "text": [
      "[-1, -1, -1, 2, 2, 2]\n",
      "{'b': 0, 'a': 5, 'n': 4}\n"
     ]
    }
   ],
   "source": [
    "answer = []\n",
    "di = {}\n",
    "s = \"banana\"\n",
    "\n",
    "for i in range(len(s)):\n",
    "    if s[i] not in di:\n",
    "        answer.append(-1)\n",
    "    else:\n",
    "        answer.append(i-di[s[i]])\n",
    "    di[s[i]] = i\n",
    "print(answer)\n",
    "print(di)"
   ]
  },
  {
   "cell_type": "code",
   "execution_count": 2,
   "metadata": {},
   "outputs": [
    {
     "name": "stdout",
     "output_type": "stream",
     "text": [
      "{'b': 0, 'a': 5, 'n': 4, 'p': 7}\n"
     ]
    }
   ],
   "source": [
    "di['p'] = 7\n",
    "\n",
    "print(di)"
   ]
  },
  {
   "cell_type": "code",
   "execution_count": 3,
   "metadata": {},
   "outputs": [
    {
     "name": "stdout",
     "output_type": "stream",
     "text": [
      "0\n",
      "-1\n",
      "1\n",
      "-1\n",
      "2\n",
      "-1\n",
      "3\n",
      "2\n",
      "4\n",
      "2\n",
      "5\n",
      "2\n"
     ]
    }
   ],
   "source": [
    "for i, c in enumerate(answer):\n",
    "    print(i)\n",
    "    print(c)"
   ]
  },
  {
   "cell_type": "code",
   "execution_count": 4,
   "metadata": {},
   "outputs": [
    {
     "name": "stdout",
     "output_type": "stream",
     "text": [
      "4\n"
     ]
    }
   ],
   "source": [
    "a = 'abcdab'\n",
    "\n",
    "print(a.index('a', 1, 5))"
   ]
  },
  {
   "cell_type": "code",
   "execution_count": null,
   "metadata": {},
   "outputs": [],
   "source": [
    "def solution(s):\n",
    "    answer = []\n",
    "    dict = {}\n",
    "    \n",
    "    for i in range(len(s)):\n",
    "        if s[i] not in dict:\n",
    "            answer.append(-1)\n",
    "            dict[s[i]] = i\n",
    "        elif s[i] in dict:\n",
    "            answer.append(i - dict[s[i]])\n",
    "            dict[s[i]] = i\n",
    "    return answer"
   ]
  }
 ],
 "metadata": {
  "kernelspec": {
   "display_name": "Python 3",
   "language": "python",
   "name": "python3"
  },
  "language_info": {
   "codemirror_mode": {
    "name": "ipython",
    "version": 3
   },
   "file_extension": ".py",
   "mimetype": "text/x-python",
   "name": "python",
   "nbconvert_exporter": "python",
   "pygments_lexer": "ipython3",
   "version": "3.12.2"
  }
 },
 "nbformat": 4,
 "nbformat_minor": 2
}
