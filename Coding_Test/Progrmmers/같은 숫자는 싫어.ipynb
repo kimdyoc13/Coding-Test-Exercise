{
 "cells": [
  {
   "cell_type": "code",
   "execution_count": null,
   "metadata": {},
   "outputs": [],
   "source": [
    "def solution(arr):\n",
    "    check = 10\n",
    "    answer = []\n",
    "    \n",
    "    for i in arr:\n",
    "        if i == check:\n",
    "            continue\n",
    "        answer.append(i)\n",
    "        check = i\n",
    "\n",
    "    return answer"
   ]
  }
 ],
 "metadata": {
  "language_info": {
   "name": "python"
  }
 },
 "nbformat": 4,
 "nbformat_minor": 2
}
