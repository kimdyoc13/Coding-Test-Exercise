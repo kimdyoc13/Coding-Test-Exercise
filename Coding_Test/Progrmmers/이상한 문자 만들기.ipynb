{
 "cells": [
  {
   "cell_type": "code",
   "execution_count": 2,
   "metadata": {},
   "outputs": [
    {
     "name": "stdout",
     "output_type": "stream",
     "text": [
      "['try', 'hello', 'world']\n",
      "3\n",
      "3\n",
      "t\n",
      "T\n"
     ]
    }
   ],
   "source": [
    "s = \"try hello world\"\t\n",
    "\n",
    "s = s.split()\n",
    "\n",
    "print(s)\n",
    "print(len(s))\n",
    "print(len(s[0]))\n",
    "print(s[0][0])\n",
    "print(s[0][0].upper())\n"
   ]
  },
  {
   "cell_type": "code",
   "execution_count": 8,
   "metadata": {},
   "outputs": [
    {
     "name": "stdout",
     "output_type": "stream",
     "text": [
      "try\n"
     ]
    }
   ],
   "source": [
    "print(s[0])"
   ]
  },
  {
   "cell_type": "code",
   "execution_count": 7,
   "metadata": {},
   "outputs": [
    {
     "name": "stdout",
     "output_type": "stream",
     "text": [
      "0\n",
      "range(0, 3)\n",
      "range(0, 5)\n",
      "range(0, 5)\n"
     ]
    }
   ],
   "source": [
    "s = \"try hello world\"\t\n",
    "print(s.index('try'))\n",
    "\n",
    "s = s.split()\n",
    "for i in s:\n",
    "    print(range(len(i)))"
   ]
  },
  {
   "cell_type": "code",
   "execution_count": 9,
   "metadata": {},
   "outputs": [
    {
     "ename": "TypeError",
     "evalue": "'str' object does not support item assignment",
     "output_type": "error",
     "traceback": [
      "\u001b[1;31m---------------------------------------------------------------------------\u001b[0m",
      "\u001b[1;31mTypeError\u001b[0m                                 Traceback (most recent call last)",
      "Cell \u001b[1;32mIn[9], line 8\u001b[0m\n\u001b[0;32m      6\u001b[0m \u001b[38;5;28;01mif\u001b[39;00m j \u001b[38;5;241m%\u001b[39m \u001b[38;5;241m2\u001b[39m \u001b[38;5;241m==\u001b[39m\u001b[38;5;241m0\u001b[39m \u001b[38;5;129;01mor\u001b[39;00m j \u001b[38;5;241m==\u001b[39m\u001b[38;5;241m0\u001b[39m:\n\u001b[0;32m      7\u001b[0m     k \u001b[38;5;241m=\u001b[39m s\u001b[38;5;241m.\u001b[39mindex(i)\n\u001b[1;32m----> 8\u001b[0m     \u001b[43ms\u001b[49m\u001b[43m[\u001b[49m\u001b[43mk\u001b[49m\u001b[43m]\u001b[49m\u001b[43m[\u001b[49m\u001b[43mj\u001b[49m\u001b[43m]\u001b[49m \u001b[38;5;241m=\u001b[39m s[k][j]\u001b[38;5;241m.\u001b[39mupper()\n\u001b[0;32m     10\u001b[0m \u001b[38;5;28;01melse\u001b[39;00m:\n\u001b[0;32m     11\u001b[0m     k \u001b[38;5;241m=\u001b[39m s\u001b[38;5;241m.\u001b[39mindex(i)\n",
      "\u001b[1;31mTypeError\u001b[0m: 'str' object does not support item assignment"
     ]
    }
   ],
   "source": [
    "s = \"try hello world\"\t\n",
    "\n",
    "s = s.split()\n",
    "print(s)\n",
    "for i in s:\n",
    "    for j in range(len(i)):\n",
    "        if j % 2 ==0 or j ==0:\n",
    "            k = s.index(i)\n",
    "            s = s[k][j].upper()\n",
    "            \n",
    "        else:\n",
    "            k = s.index(i)\n",
    "            s[k][j] = s[k][j].lower()\n",
    "\n",
    "print(s)"
   ]
  },
  {
   "cell_type": "markdown",
   "metadata": {},
   "source": [
    "이전 코딩"
   ]
  },
  {
   "cell_type": "code",
   "execution_count": null,
   "metadata": {},
   "outputs": [],
   "source": [
    "def solution(s):\n",
    "    s = s.split()\n",
    "    for i in s:\n",
    "        for j in range(len(i)):\n",
    "            if j % 2 ==0 or j ==0:\n",
    "                s[i][j] = s[i][j].upper()\n",
    "            else:\n",
    "                s[i][j] = s[i][j].lower()\n",
    "            \n",
    "    return s.join(' ')"
   ]
  },
  {
   "cell_type": "code",
   "execution_count": 3,
   "metadata": {},
   "outputs": [
    {
     "name": "stdout",
     "output_type": "stream",
     "text": [
      "0\n",
      "t\n",
      "1\n",
      "r\n",
      "2\n",
      "y\n",
      "0\n",
      "h\n",
      "1\n",
      "e\n",
      "2\n",
      "l\n",
      "3\n",
      "l\n",
      "4\n",
      "o\n",
      "0\n",
      "w\n",
      "1\n",
      "o\n",
      "2\n",
      "r\n",
      "3\n",
      "l\n",
      "4\n",
      "d\n"
     ]
    }
   ],
   "source": [
    "s = \"try hello world\"\t\n",
    "\n",
    "s = s.split()\n",
    "\n",
    "for i in s:\n",
    "    for index, j in enumerate(i):\n",
    "        print(index)\n",
    "        print(j)"
   ]
  },
  {
   "cell_type": "code",
   "execution_count": 7,
   "metadata": {},
   "outputs": [],
   "source": [
    "def solution(s):\n",
    "    answer = ''\n",
    "    # 문자 나누기\n",
    "    s = s.split()    \n",
    "    # 대 소 문자 변환\n",
    "    for i in s:\n",
    "        for index, j in enumerate(i):\n",
    "            if index % 2 ==0:\n",
    "                answer += j.upper()\n",
    "            else:\n",
    "                answer += j\n",
    "                \n",
    "        # 대소문자 합치기\n",
    "        if s.index(i) != len(s)-1:\n",
    "            answer += ' '\n",
    "    \n",
    "            \n",
    "    return answer"
   ]
  },
  {
   "cell_type": "code",
   "execution_count": 8,
   "metadata": {},
   "outputs": [
    {
     "data": {
      "text/plain": [
       "'TrY HeLlO WoRlD '"
      ]
     },
     "execution_count": 8,
     "metadata": {},
     "output_type": "execute_result"
    }
   ],
   "source": [
    "s = \"try hello world\"\t\n",
    "\n",
    "solution(s)"
   ]
  },
  {
   "cell_type": "code",
   "execution_count": null,
   "metadata": {},
   "outputs": [],
   "source": [
    "def solution(s):\n",
    "    answer = ''\n",
    "    # 문자 나누기\n",
    "    s = s.split()    \n",
    "    # 대 소 문자 변환\n",
    "    for i in s:\n",
    "        for index, j in enumerate(i):\n",
    "            if index % 2 ==0:\n",
    "                answer += j.upper()\n",
    "            else:\n",
    "                answer += j\n",
    "                \n",
    "        # 대소문자 합치기\n",
    "        if s.index(i) != len(s)-1:\n",
    "            answer += ' '\n",
    "    \n",
    "            \n",
    "    return answer"
   ]
  },
  {
   "cell_type": "code",
   "execution_count": null,
   "metadata": {},
   "outputs": [],
   "source": [
    "def solution(s):\n",
    "    answer = ''\n",
    "    \n",
    "    # 대 소 문자 변환, 완성\n",
    "    for index, j in enumerate(s):\n",
    "        if index % 2 ==0:\n",
    "            answer += j.upper()\n",
    "        else:\n",
    "            answer += j\n",
    "            \n",
    "    return answer"
   ]
  },
  {
   "cell_type": "code",
   "execution_count": 11,
   "metadata": {},
   "outputs": [
    {
     "name": "stdout",
     "output_type": "stream",
     "text": [
      "0   t\n",
      "1   r\n",
      "2   y\n",
      "0   h\n",
      "1   e\n",
      "2   l\n",
      "3   l\n",
      "4   o\n",
      "0   w\n",
      "1   o\n",
      "2   r\n",
      "3   l\n",
      "4   d\n"
     ]
    }
   ],
   "source": [
    "s = \"try hello world\"\t\n",
    "\n",
    "answer = ''\n",
    "\n",
    "s = s.split()    \n",
    "# 대 소 문자 변환\n",
    "for i in s:\n",
    "    for index, j in enumerate(i):\n",
    "        if index % 2 ==0:\n",
    "            answer += j.upper()\n",
    "        else:\n",
    "            answer += j\n",
    "        print(index, ' ', j)"
   ]
  },
  {
   "cell_type": "code",
   "execution_count": 10,
   "metadata": {},
   "outputs": [],
   "source": [
    "def solution(s):\n",
    "    answer = ''\n",
    "    # 문자 나누기\n",
    "    s = s.split()    \n",
    "    # 대 소 문자 변환\n",
    "    for i in s:\n",
    "        for index, j in enumerate(i):\n",
    "            if index % 2 ==0:\n",
    "                answer += j.upper()\n",
    "            else:\n",
    "                answer += j.lower()\n",
    "            print(index, ' ', j)\n",
    "                \n",
    "        # 대소문자 합치기\n",
    "        if s.index(i) != len(s)-1:\n",
    "            answer += ' '\n",
    "    \n",
    "            \n",
    "    return answer"
   ]
  },
  {
   "cell_type": "code",
   "execution_count": null,
   "metadata": {},
   "outputs": [],
   "source": [
    "def solution(s):\n",
    "    answer = ''\n",
    "    # 문자 나누기\n",
    "    s = s.split()    \n",
    "    # 대 소 문자 변환\n",
    "    for i in s:\n",
    "        for index, j in enumerate(i):\n",
    "            if index % 2 ==0:\n",
    "                answer += j.upper()\n",
    "            else:\n",
    "                answer += j.lower()\n",
    "                \n",
    "        # 대소문자 합치기\n",
    "        if s.index(i) != len(s)-1:\n",
    "            answer += ' '\n",
    "    \n",
    "            \n",
    "    return answer"
   ]
  },
  {
   "cell_type": "code",
   "execution_count": null,
   "metadata": {},
   "outputs": [],
   "source": [
    "def solution(s):\n",
    "    answer = ''\n",
    "    # 문자 나누기\n",
    "    s = s.split(' ')    \n",
    "    # 대 소 문자 변환\n",
    "    for i in s:\n",
    "        for index, j in enumerate(i):\n",
    "            if index % 2 ==0:\n",
    "                answer += j.upper()\n",
    "            elif index % 2 ==1:\n",
    "                answer += j.lower()\n",
    "                \n",
    "        # 대소문자 합치기\n",
    "        \n",
    "        answer += ' '\n",
    "    \n",
    "            \n",
    "    return answer[:-1]"
   ]
  }
 ],
 "metadata": {
  "kernelspec": {
   "display_name": "Python 3",
   "language": "python",
   "name": "python3"
  },
  "language_info": {
   "codemirror_mode": {
    "name": "ipython",
    "version": 3
   },
   "file_extension": ".py",
   "mimetype": "text/x-python",
   "name": "python",
   "nbconvert_exporter": "python",
   "pygments_lexer": "ipython3",
   "version": "3.12.2"
  }
 },
 "nbformat": 4,
 "nbformat_minor": 2
}
