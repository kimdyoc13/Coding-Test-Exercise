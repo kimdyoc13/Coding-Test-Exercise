{
 "cells": [
  {
   "cell_type": "code",
   "execution_count": 2,
   "metadata": {},
   "outputs": [
    {
     "name": "stdout",
     "output_type": "stream",
     "text": [
      "['car', 'bed', 'sun']\n",
      "['acar', 'ebed', 'usun']\n"
     ]
    }
   ],
   "source": [
    "strings = [\"sun\", \"bed\", \"car\"]\t\n",
    "n = 1\n",
    "\n",
    "answer = []\n",
    "\n",
    "for i in strings : \n",
    "    answer.append(i[n]+i)\n",
    "answer.sort()\n",
    "print([i[1:] for i in answer])\n",
    "print(answer)"
   ]
  },
  {
   "cell_type": "code",
   "execution_count": 1,
   "metadata": {},
   "outputs": [],
   "source": [
    "strings = [\"sun\", \"bed\", \"car\"]\t\n",
    "n = 1"
   ]
  },
  {
   "cell_type": "code",
   "execution_count": 8,
   "metadata": {},
   "outputs": [
    {
     "name": "stdout",
     "output_type": "stream",
     "text": [
      "{'sun': 'u', 'bed': 'e', 'car': 'a'}\n",
      "[('car', 'a'), ('bed', 'e'), ('sun', 'u')]\n",
      "['car', 'bed', 'sun']\n"
     ]
    }
   ],
   "source": [
    "answer = []\n",
    "dict = {}\n",
    "\n",
    "for i in strings:\n",
    "    dict[i] = i[n]\n",
    "\n",
    "print(dict)    \n",
    "sorted_dict = sorted(dict.items(), key = lambda item:item[1])\n",
    "\n",
    "print(sorted_dict)\n",
    "for j in sorted_dict:\n",
    "    answer.append(j[0])\n",
    "print(answer)"
   ]
  },
  {
   "cell_type": "code",
   "execution_count": null,
   "metadata": {},
   "outputs": [],
   "source": [
    "def solution(strings, n):\n",
    "    answer = []\n",
    "    \n",
    "    sorted_strings = sorted(strings, key = lambda x : (x[n+1], x))\n",
    "    \n",
    "    \n",
    "    return sorted_strings"
   ]
  },
  {
   "cell_type": "code",
   "execution_count": null,
   "metadata": {},
   "outputs": [],
   "source": [
    "def solution(strings, n):\n",
    "    answer = []\n",
    "    dict = {}\n",
    "    \n",
    "    for i in strings:\n",
    "        dict[i] = i[n]\n",
    "        \n",
    "    sorted_dict = sorted(dict.items(), key = lambda item:item[1])\n",
    "    for j in sorted_dict:\n",
    "        answer.append(j[0])\n",
    "    \n",
    "    return answer"
   ]
  },
  {
   "cell_type": "code",
   "execution_count": null,
   "metadata": {},
   "outputs": [],
   "source": [
    "def solution(strings, n):\n",
    "    answer = []\n",
    "    for i in strings : \n",
    "        answer.append(i[n]+i)\n",
    "    answer.sort()\n",
    "    \n",
    "    \n",
    "    return [i[1:] for i in answer]"
   ]
  }
 ],
 "metadata": {
  "kernelspec": {
   "display_name": "Python 3",
   "language": "python",
   "name": "python3"
  },
  "language_info": {
   "codemirror_mode": {
    "name": "ipython",
    "version": 3
   },
   "file_extension": ".py",
   "mimetype": "text/x-python",
   "name": "python",
   "nbconvert_exporter": "python",
   "pygments_lexer": "ipython3",
   "version": "3.12.2"
  }
 },
 "nbformat": 4,
 "nbformat_minor": 2
}
