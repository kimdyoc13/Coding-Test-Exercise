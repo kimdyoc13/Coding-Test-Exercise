{
 "cells": [
  {
   "cell_type": "code",
   "execution_count": null,
   "metadata": {},
   "outputs": [],
   "source": [
    "n = 7"
   ]
  },
  {
   "cell_type": "code",
   "execution_count": null,
   "metadata": {},
   "outputs": [],
   "source": [
    "def solution(n):\n",
    "    answer = 0\n",
    "    \n",
    "    \n",
    "    \n",
    "    return answer"
   ]
  },
  {
   "cell_type": "code",
   "execution_count": 2,
   "metadata": {},
   "outputs": [
    {
     "name": "stdout",
     "output_type": "stream",
     "text": [
      "3\n",
      "1\n"
     ]
    }
   ],
   "source": [
    "x, y = divmod(10 , 3)\n",
    "# 예상 x 3, 예상 y 1\n",
    "print(x)\n",
    "print(y)"
   ]
  },
  {
   "cell_type": "code",
   "execution_count": null,
   "metadata": {},
   "outputs": [],
   "source": [
    "def solution(n):\n",
    "    \n",
    "# 삼진법 변환\n",
    "    def trans(n, q):\n",
    "        rev_base = ''\n",
    "\n",
    "        while n > 0:\n",
    "            n, mod = divmod(n, q)\n",
    "            rev_base += str(mod)\n",
    "\n",
    "        return rev_base[::-1] \n",
    "        # 역순인 진수를 뒤집어 줘야 원래 변환 하고자하는 base가 출력\n",
    "        \n",
    "    n = trans(n, 3)\n",
    "    # 앞 뒤 뒤집기\n",
    "\n",
    "    n = n[:: -1]\n",
    "\n",
    "    # 십진법 표현\n",
    "\n",
    "    answer = int(n,3)\n",
    "        \n",
    "    return answer\n",
    "    \n",
    "    \n",
    "\n"
   ]
  },
  {
   "cell_type": "code",
   "execution_count": 4,
   "metadata": {},
   "outputs": [
    {
     "ename": "NameError",
     "evalue": "name 'rev_base' is not defined",
     "output_type": "error",
     "traceback": [
      "\u001b[1;31m---------------------------------------------------------------------------\u001b[0m",
      "\u001b[1;31mNameError\u001b[0m                                 Traceback (most recent call last)",
      "Cell \u001b[1;32mIn[4], line 1\u001b[0m\n\u001b[1;32m----> 1\u001b[0m \u001b[38;5;28mprint\u001b[39m(\u001b[43mrev_base\u001b[49m)\n",
      "\u001b[1;31mNameError\u001b[0m: name 'rev_base' is not defined"
     ]
    }
   ],
   "source": [
    "print(rev_base)"
   ]
  },
  {
   "cell_type": "code",
   "execution_count": 6,
   "metadata": {},
   "outputs": [
    {
     "name": "stdout",
     "output_type": "stream",
     "text": [
      "12\n"
     ]
    }
   ],
   "source": [
    "x = ''\n",
    "\n",
    "x = x +'1'\n",
    "x = x +'2'\n",
    "\n",
    "print(x)"
   ]
  },
  {
   "cell_type": "code",
   "execution_count": 7,
   "metadata": {},
   "outputs": [
    {
     "name": "stdout",
     "output_type": "stream",
     "text": [
      "나가\n"
     ]
    }
   ],
   "source": [
    "infinite_challenge = ['재석', '명수', '준하', '홀철', '형돈', '하하', '길']\n",
    "\n",
    "x = '가나'\n",
    "\n",
    "print(x[::-1])"
   ]
  },
  {
   "cell_type": "code",
   "execution_count": 8,
   "metadata": {},
   "outputs": [
    {
     "name": "stdout",
     "output_type": "stream",
     "text": [
      "['길', '하하', '형돈', '홀철', '준하', '명수', '재석']\n"
     ]
    }
   ],
   "source": [
    "infinite_challenge = ['재석', '명수', '준하', '홀철', '형돈', '하하', '길']\n",
    "\n",
    "print(infinite_challenge[::-1])"
   ]
  },
  {
   "cell_type": "code",
   "execution_count": null,
   "metadata": {},
   "outputs": [],
   "source": []
  }
 ],
 "metadata": {
  "kernelspec": {
   "display_name": "Python 3",
   "language": "python",
   "name": "python3"
  },
  "language_info": {
   "codemirror_mode": {
    "name": "ipython",
    "version": 3
   },
   "file_extension": ".py",
   "mimetype": "text/x-python",
   "name": "python",
   "nbconvert_exporter": "python",
   "pygments_lexer": "ipython3",
   "version": "3.12.2"
  }
 },
 "nbformat": 4,
 "nbformat_minor": 2
}
