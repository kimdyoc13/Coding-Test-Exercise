{
 "cells": [
  {
   "cell_type": "code",
   "execution_count": 3,
   "metadata": {},
   "outputs": [
    {
     "name": "stdout",
     "output_type": "stream",
     "text": [
      "z\n"
     ]
    }
   ],
   "source": [
    "alpha_str = 'abcdefghizklmnopqrstuvwxyz'\n",
    "\n",
    "print(alpha_str[25])"
   ]
  },
  {
   "cell_type": "code",
   "execution_count": null,
   "metadata": {},
   "outputs": [],
   "source": [
    "print(len(alpha_str))"
   ]
  },
  {
   "cell_type": "code",
   "execution_count": 7,
   "metadata": {},
   "outputs": [
    {
     "ename": "AttributeError",
     "evalue": "'int' object has no attribute 'type'",
     "output_type": "error",
     "traceback": [
      "\u001b[1;31m---------------------------------------------------------------------------\u001b[0m",
      "\u001b[1;31mAttributeError\u001b[0m                            Traceback (most recent call last)",
      "Cell \u001b[1;32mIn[7], line 1\u001b[0m\n\u001b[1;32m----> 1\u001b[0m \u001b[38;5;28mprint\u001b[39m(\u001b[43malpha_str\u001b[49m\u001b[38;5;241;43m.\u001b[39;49m\u001b[43mindex\u001b[49m\u001b[43m(\u001b[49m\u001b[38;5;124;43m'\u001b[39;49m\u001b[38;5;124;43ma\u001b[39;49m\u001b[38;5;124;43m'\u001b[39;49m\u001b[43m)\u001b[49m\u001b[38;5;241;43m.\u001b[39;49m\u001b[43mtype\u001b[49m)\n",
      "\u001b[1;31mAttributeError\u001b[0m: 'int' object has no attribute 'type'"
     ]
    }
   ],
   "source": [
    "print(alpha_str.index('a').type)"
   ]
  },
  {
   "cell_type": "code",
   "execution_count": 14,
   "metadata": {},
   "outputs": [
    {
     "name": "stdout",
     "output_type": "stream",
     "text": [
      "w\n",
      "b\n",
      "q\n",
      "d\n",
      "22\n"
     ]
    }
   ],
   "source": [
    "skip = \"wbqd\"\n",
    "\n",
    "alpha_str = 'abcdefghizklmnopqrstuvwxyz'\n",
    "\n",
    "for i in skip:\n",
    "    print(i)\n",
    "    alpha_str = alpha_str.replace(i, '')\n",
    "    \n",
    "print(len(alpha_str))"
   ]
  },
  {
   "cell_type": "code",
   "execution_count": 15,
   "metadata": {},
   "outputs": [
    {
     "name": "stdout",
     "output_type": "stream",
     "text": [
      "acefghizklmnoprstuvxyz\n"
     ]
    }
   ],
   "source": [
    "print(alpha_str)"
   ]
  },
  {
   "cell_type": "code",
   "execution_count": 16,
   "metadata": {},
   "outputs": [
    {
     "name": "stdout",
     "output_type": "stream",
     "text": [
      "ab\n"
     ]
    }
   ],
   "source": [
    "a = 'a'\n",
    "\n",
    "b = 'b'\n",
    "print(a + b)"
   ]
  },
  {
   "cell_type": "code",
   "execution_count": 13,
   "metadata": {},
   "outputs": [
    {
     "ename": "IndexError",
     "evalue": "string index out of range",
     "output_type": "error",
     "traceback": [
      "\u001b[1;31m---------------------------------------------------------------------------\u001b[0m",
      "\u001b[1;31mIndexError\u001b[0m                                Traceback (most recent call last)",
      "Cell \u001b[1;32mIn[13], line 19\u001b[0m\n\u001b[0;32m     17\u001b[0m         x \u001b[38;5;241m=\u001b[39m x \u001b[38;5;241m-\u001b[39m \u001b[38;5;28mlen\u001b[39m(alpha_str)\n\u001b[0;32m     18\u001b[0m             \u001b[38;5;66;03m# result 에 반영\u001b[39;00m\n\u001b[1;32m---> 19\u001b[0m     answer \u001b[38;5;241m+\u001b[39m\u001b[38;5;241m=\u001b[39m \u001b[43malpha_str\u001b[49m\u001b[43m[\u001b[49m\u001b[43mx\u001b[49m\u001b[43m]\u001b[49m\n\u001b[0;32m     21\u001b[0m \u001b[38;5;28mprint\u001b[39m(answer)\n",
      "\u001b[1;31mIndexError\u001b[0m: string index out of range"
     ]
    }
   ],
   "source": [
    "\n",
    "\n",
    "s = \"aukks\"\t\n",
    "skip = \"wbqd\"\t\n",
    "index = 5\n",
    "\n",
    "answer = ''\n",
    "# 알파벳 불러오기, skip 반영\n",
    "alpha_str = 'abcdefghizklmnopqrstuvwxyz'\n",
    "\n",
    "for i in skip:\n",
    "    alpha_str = alpha_str.replace(i, '')\n",
    "\n",
    "# s 순환\n",
    "for j in s:\n",
    "    x = alpha_str.index(j) + index\n",
    "    # len(alpha_str) 빼주기\n",
    "    if x > len(alpha_str):\n",
    "        x = x - len(alpha_str)\n",
    "            # result 에 반영\n",
    "    answer += alpha_str[x]\n",
    "        \n",
    "print(answer)"
   ]
  },
  {
   "cell_type": "code",
   "execution_count": 17,
   "metadata": {},
   "outputs": [
    {
     "name": "stdout",
     "output_type": "stream",
     "text": [
      "h\n"
     ]
    }
   ],
   "source": [
    "print(answer)"
   ]
  },
  {
   "cell_type": "code",
   "execution_count": null,
   "metadata": {},
   "outputs": [],
   "source": [
    "def solution(s, skip, index):\n",
    "    answer = ''\n",
    "    # 알파벳 불러오기, skip 반영\n",
    "    alpha_str = 'abcdefghizklmnopqrstuvwxyz'\n",
    "    \n",
    "    for i in skip:\n",
    "        alpha_str = alpha_str.replace(i, '')\n",
    "    \n",
    "    # s 순환\n",
    "    for j in s:\n",
    "        x = alpha_str.index(j) + index\n",
    "        # len(alpha_str) 빼주기\n",
    "        if x >= len(alpha_str):\n",
    "            x = x - len(alpha_str)\n",
    "             # result 에 반영\n",
    "        answer += alpha_str[x]\n",
    "           \n",
    "    return answer"
   ]
  }
 ],
 "metadata": {
  "kernelspec": {
   "display_name": "Python 3",
   "language": "python",
   "name": "python3"
  },
  "language_info": {
   "codemirror_mode": {
    "name": "ipython",
    "version": 3
   },
   "file_extension": ".py",
   "mimetype": "text/x-python",
   "name": "python",
   "nbconvert_exporter": "python",
   "pygments_lexer": "ipython3",
   "version": "3.12.2"
  }
 },
 "nbformat": 4,
 "nbformat_minor": 2
}
