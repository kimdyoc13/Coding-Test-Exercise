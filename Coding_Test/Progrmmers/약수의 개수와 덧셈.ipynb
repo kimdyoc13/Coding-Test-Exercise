{
 "cells": [
  {
   "cell_type": "code",
   "execution_count": null,
   "metadata": {},
   "outputs": [],
   "source": [
    "def solution(left, right):\n",
    "    #약수의 갯수\n",
    "    divisor_1 = []\n",
    "    # 약수의 합\n",
    "    divisor_2 = []\n",
    "    for i in range(left, right +1):\n",
    "        for n in range(1, i+1):\n",
    "            if i % n ==0:\n",
    "                divisor_1.append(n)\n",
    "        if len(divisor_1) % 2 ==0:\n",
    "            divisor_2.append(i)\n",
    "        else:\n",
    "            divisor_2.append(i * -1)\n",
    "        divisor_1 = []\n",
    "    return sum(divisor_2)"
   ]
  }
 ],
 "metadata": {
  "language_info": {
   "name": "python"
  }
 },
 "nbformat": 4,
 "nbformat_minor": 2
}
