{
 "cells": [
  {
   "cell_type": "code",
   "execution_count": null,
   "metadata": {},
   "outputs": [],
   "source": [
    "str, n = input().strip().split(' ')\n",
    "n = int(n)"
   ]
  },
  {
   "cell_type": "code",
   "execution_count": null,
   "metadata": {},
   "outputs": [],
   "source": [
    "str, n = input().strip().split(' ')\n",
    "n = int(n)\n",
    "\n",
    "result = ''\n",
    "\n",
    "for i in range(n):\n",
    "    result =result + str\n",
    "    \n",
    "print(result)"
   ]
  }
 ],
 "metadata": {
  "language_info": {
   "name": "python"
  }
 },
 "nbformat": 4,
 "nbformat_minor": 2
}
