{
 "cells": [
  {
   "cell_type": "code",
   "execution_count": null,
   "metadata": {},
   "outputs": [],
   "source": [
    "def solution(numbers):\n",
    "    answer = []\n",
    "    import itertools\n",
    "\n",
    "    com = list(itertools.combinations(numbers, 2))\n",
    "\n",
    "    for ele in com:\n",
    "        answer.append(sum(ele))\n",
    "    answer = list(set(answer))\n",
    "    answer.sort\n",
    "    return answer"
   ]
  },
  {
   "cell_type": "code",
   "execution_count": 4,
   "metadata": {},
   "outputs": [
    {
     "name": "stdout",
     "output_type": "stream",
     "text": [
      "[0]\n"
     ]
    }
   ],
   "source": [
    "numbers = [2,1,3,4,1]\t\n",
    "\n",
    "answer = []\n",
    "import itertools\n",
    "\n",
    "com = list(itertools.combinations(numbers, 2))\n",
    "\n",
    "for ele in com:\n",
    "    answer.append(sum(ele))\n",
    "answer = list(set(answer))\n",
    "answer = sorted(answer)\n",
    "\n",
    "print(answer)"
   ]
  },
  {
   "cell_type": "code",
   "execution_count": 5,
   "metadata": {},
   "outputs": [
    {
     "ename": "IndexError",
     "evalue": "list index out of range",
     "output_type": "error",
     "traceback": [
      "\u001b[1;31m---------------------------------------------------------------------------\u001b[0m",
      "\u001b[1;31mIndexError\u001b[0m                                Traceback (most recent call last)",
      "Cell \u001b[1;32mIn[5], line 3\u001b[0m\n\u001b[0;32m      1\u001b[0m numbers \u001b[38;5;241m=\u001b[39m [\u001b[38;5;241m0\u001b[39m, \u001b[38;5;241m0\u001b[39m, \u001b[38;5;241m0\u001b[39m]\n\u001b[1;32m----> 3\u001b[0m \u001b[38;5;28mprint\u001b[39m(\u001b[43mnumbers\u001b[49m\u001b[43m[\u001b[49m\u001b[38;5;241;43m6\u001b[39;49m\u001b[43m]\u001b[49m)\n",
      "\u001b[1;31mIndexError\u001b[0m: list index out of range"
     ]
    }
   ],
   "source": [
    "numbers = [0, 0, 0]\n",
    "\n",
    "print(numbers[6])"
   ]
  },
  {
   "cell_type": "code",
   "execution_count": null,
   "metadata": {},
   "outputs": [],
   "source": [
    "def solution(numbers):\n",
    "    answer = []\n",
    "    for i in range(len(numbers)):\n",
    "        for j in range(i+1, len(numbers)):\n",
    "            answer.append(numbers[i] + numbers[j])\n",
    "    return sorted(list(set(answer)))"
   ]
  },
  {
   "cell_type": "code",
   "execution_count": 11,
   "metadata": {},
   "outputs": [
    {
     "name": "stdout",
     "output_type": "stream",
     "text": [
      "i 는 0\n",
      "j 는 1\n",
      "i 는 0\n",
      "j 는 2\n",
      "i 는 0\n",
      "j 는 3\n",
      "i 는 0\n",
      "j 는 4\n",
      "i 는 1\n",
      "j 는 2\n",
      "i 는 1\n",
      "j 는 3\n",
      "i 는 1\n",
      "j 는 4\n",
      "i 는 2\n",
      "j 는 3\n",
      "i 는 2\n",
      "j 는 4\n",
      "i 는 3\n",
      "j 는 4\n"
     ]
    }
   ],
   "source": [
    "numbers = [2,1,3,4,1]\t\n",
    "for i in range(len(numbers)):\n",
    "    for j in range(i+1, len(numbers)):\n",
    "        print('i 는', i)\n",
    "        print('j 는', j)"
   ]
  },
  {
   "cell_type": "code",
   "execution_count": null,
   "metadata": {},
   "outputs": [],
   "source": []
  }
 ],
 "metadata": {
  "kernelspec": {
   "display_name": "Python 3",
   "language": "python",
   "name": "python3"
  },
  "language_info": {
   "codemirror_mode": {
    "name": "ipython",
    "version": 3
   },
   "file_extension": ".py",
   "mimetype": "text/x-python",
   "name": "python",
   "nbconvert_exporter": "python",
   "pygments_lexer": "ipython3",
   "version": "3.12.2"
  }
 },
 "nbformat": 4,
 "nbformat_minor": 2
}
