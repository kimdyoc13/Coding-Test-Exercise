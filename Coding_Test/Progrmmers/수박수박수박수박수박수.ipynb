{
 "cells": [
  {
   "cell_type": "code",
   "execution_count": null,
   "metadata": {},
   "outputs": [],
   "source": [
    "def solution(n):\n",
    "    if n%2 ==1:\n",
    "        return '수박' * (n//2) + '수'\n",
    "    else:\n",
    "        return '수박' * (n//2)"
   ]
  }
 ],
 "metadata": {
  "language_info": {
   "name": "python"
  }
 },
 "nbformat": 4,
 "nbformat_minor": 2
}
