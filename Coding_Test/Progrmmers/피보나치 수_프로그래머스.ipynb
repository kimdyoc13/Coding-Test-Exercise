{
 "cells": [
  {
   "cell_type": "code",
   "execution_count": 1,
   "metadata": {},
   "outputs": [
    {
     "name": "stdout",
     "output_type": "stream",
     "text": [
      "5\n"
     ]
    }
   ],
   "source": [
    "n = 5\n",
    "\n",
    "number_list = [0, 1]\n",
    "\n",
    "\n",
    "for i in range(2, n+1):\n",
    "    number_list.append(number_list[i-2] + number_list[i-1])\n",
    "    \n",
    "print(number_list[-1] % 1234567)"
   ]
  },
  {
   "cell_type": "code",
   "execution_count": null,
   "metadata": {},
   "outputs": [],
   "source": [
    "def solution(n):\n",
    "    # 피보나치 수 0, 1 리스트 정의\n",
    "    number_list = [0, 1]\n",
    "    \n",
    "    # 반복문을 순회하며 피보나치 수 리스트에 추가\n",
    "    for i in range(2, n+1):\n",
    "        number_list.append(number_list[i-2] + number_list[i-1])\n",
    "    \n",
    "    # 결과값 출력\n",
    "    return number_list[-1] % 1234567"
   ]
  }
 ],
 "metadata": {
  "kernelspec": {
   "display_name": "Python 3",
   "language": "python",
   "name": "python3"
  },
  "language_info": {
   "codemirror_mode": {
    "name": "ipython",
    "version": 3
   },
   "file_extension": ".py",
   "mimetype": "text/x-python",
   "name": "python",
   "nbconvert_exporter": "python",
   "pygments_lexer": "ipython3",
   "version": "3.12.2"
  }
 },
 "nbformat": 4,
 "nbformat_minor": 2
}
