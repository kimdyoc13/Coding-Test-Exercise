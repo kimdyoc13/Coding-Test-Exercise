{
 "cells": [
  {
   "cell_type": "code",
   "execution_count": null,
   "metadata": {},
   "outputs": [],
   "source": [
    "def solution(n):\n",
    "    x = []\n",
    "    \n",
    "    for i in str(n):\n",
    "        x.append(i)\n",
    "    \n",
    "    x.sort(reverse = True)\n",
    "    \n",
    "    answer = ''\n",
    "    for i in x:\n",
    "        answer = answer + i\n",
    "        \n",
    "    answer = int(answer)\n",
    "    return answer"
   ]
  }
 ],
 "metadata": {
  "language_info": {
   "name": "python"
  }
 },
 "nbformat": 4,
 "nbformat_minor": 2
}
