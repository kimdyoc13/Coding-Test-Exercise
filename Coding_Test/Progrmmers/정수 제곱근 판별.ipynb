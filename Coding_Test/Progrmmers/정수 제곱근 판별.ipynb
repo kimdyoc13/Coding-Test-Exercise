{
 "cells": [
  {
   "cell_type": "code",
   "execution_count": null,
   "metadata": {},
   "outputs": [],
   "source": [
    "def solution(n):\n",
    "    if sqrt(n) == int(sqrt(n)):\n",
    "        answer = (n+1)**2\n",
    "    elif sqrt(n) != int(sqrt(n)):\n",
    "        answer = -1\n",
    "    return answer"
   ]
  },
  {
   "cell_type": "code",
   "execution_count": null,
   "metadata": {},
   "outputs": [],
   "source": [
    "def solution(n):\n",
    "    if n**0.5 == int(n**0.5):\n",
    "        answer = ((n**0.5) +1)**2\n",
    "    elif n**0.5 != int(n**0.5):\n",
    "        answer = -1\n",
    "    return answer"
   ]
  }
 ],
 "metadata": {
  "language_info": {
   "name": "python"
  }
 },
 "nbformat": 4,
 "nbformat_minor": 2
}
