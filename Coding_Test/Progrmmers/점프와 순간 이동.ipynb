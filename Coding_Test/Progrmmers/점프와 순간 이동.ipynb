{
 "cells": [
  {
   "cell_type": "code",
   "execution_count": null,
   "metadata": {},
   "outputs": [],
   "source": [
    "def solution(n):\n",
    "    chargen = 0\n",
    "    \n",
    "    while n >0:\n",
    "        if n % 2 ==1:\n",
    "            n -= 1\n",
    "            chargen += 1\n",
    "        elif n % 2 ==0:\n",
    "            n /= 2\n",
    "    \n",
    "\n",
    "\n",
    "    return chargen"
   ]
  }
 ],
 "metadata": {
  "language_info": {
   "name": "python"
  }
 },
 "nbformat": 4,
 "nbformat_minor": 2
}
