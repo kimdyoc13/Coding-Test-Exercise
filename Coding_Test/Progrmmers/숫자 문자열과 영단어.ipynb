{
 "cells": [
  {
   "cell_type": "code",
   "execution_count": null,
   "metadata": {},
   "outputs": [],
   "source": [
    "def solution(s):\n",
    "    answer = 0\n",
    "    voca = ['zero', 'one', 'two', 'three', 'four', 'five', 'six', 'seven', 'eight', 'nine']\n",
    "    \n",
    "    for x, y, in enumerate(voca):\n",
    "        s = s.replace(y, str(x))\n",
    "    return int(s)"
   ]
  }
 ],
 "metadata": {
  "language_info": {
   "name": "python"
  }
 },
 "nbformat": 4,
 "nbformat_minor": 2
}
