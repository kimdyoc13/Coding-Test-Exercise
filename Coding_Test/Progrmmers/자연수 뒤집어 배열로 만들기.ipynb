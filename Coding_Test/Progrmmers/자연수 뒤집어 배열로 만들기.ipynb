{
 "cells": [
  {
   "cell_type": "code",
   "execution_count": null,
   "metadata": {},
   "outputs": [],
   "source": [
    "def solution(n):\n",
    "    answer = []\n",
    "    n = str(n)\n",
    "    for i in n:\n",
    "        answer.append(int(n))\n",
    "    return answer"
   ]
  },
  {
   "cell_type": "code",
   "execution_count": null,
   "metadata": {},
   "outputs": [],
   "source": [
    "def solution(n):\n",
    "    answer = []\n",
    "    n = str(n)\n",
    "    for i in n:\n",
    "        answer.append(int(n))\n",
    "    return answer"
   ]
  },
  {
   "cell_type": "code",
   "execution_count": null,
   "metadata": {},
   "outputs": [],
   "source": [
    "def solution(n):\n",
    "    answer = []\n",
    "    n = str(n)\n",
    "    for i in n:\n",
    "        answer.append(int(i))\n",
    "    answer = answer.reverse()\n",
    "    return answer"
   ]
  },
  {
   "cell_type": "code",
   "execution_count": null,
   "metadata": {},
   "outputs": [],
   "source": [
    "def solution(n):\n",
    "    answer = []\n",
    "    n = str(n)\n",
    "    for i in n:\n",
    "        answer.append(int(i))\n",
    "    \n",
    "    answer = list(reversed(answer))\n",
    "    return answer"
   ]
  }
 ],
 "metadata": {
  "language_info": {
   "name": "python"
  }
 },
 "nbformat": 4,
 "nbformat_minor": 2
}
