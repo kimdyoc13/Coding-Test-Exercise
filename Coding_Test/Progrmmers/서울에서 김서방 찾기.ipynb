{
 "cells": [
  {
   "cell_type": "code",
   "execution_count": null,
   "metadata": {},
   "outputs": [],
   "source": [
    "def solution(seoul):\n",
    "    lot = seaoul.index(\"Kim\")\n",
    "    answer = f\"김서방은 {lot}에 있다\"\n",
    "    return answer"
   ]
  },
  {
   "cell_type": "code",
   "execution_count": null,
   "metadata": {},
   "outputs": [],
   "source": [
    "def solution(seoul):\n",
    "    lot = seoul.index(\"Kim\")\n",
    "    answer = f\"김서방은 {lot}에 있다\"\n",
    "    return answer"
   ]
  }
 ],
 "metadata": {
  "language_info": {
   "name": "python"
  }
 },
 "nbformat": 4,
 "nbformat_minor": 2
}
