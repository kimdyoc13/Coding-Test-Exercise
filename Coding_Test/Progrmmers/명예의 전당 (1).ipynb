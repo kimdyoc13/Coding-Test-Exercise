{
 "cells": [
  {
   "cell_type": "code",
   "execution_count": 2,
   "metadata": {},
   "outputs": [
    {
     "name": "stdout",
     "output_type": "stream",
     "text": [
      "[1, 2, 3, 4, 5, 6]\n"
     ]
    }
   ],
   "source": [
    "annor = [1, 2, 3, 4, 5, 6]\n",
    "\n",
    "annor = annor[:6]\n",
    "\n",
    "print(annor)"
   ]
  },
  {
   "cell_type": "code",
   "execution_count": null,
   "metadata": {},
   "outputs": [],
   "source": [
    "def solution(k, score):\n",
    "    answer = []\n",
    "    annor = []\n",
    "    \n",
    "    # for 문으로 score 를 annor 에 추가\n",
    "    for i in range(len(score)):\n",
    "        annor.append(score[i])\n",
    "        \n",
    "        # 내림차순 정렬, k 만큼 만 가져오기\n",
    "        annor = sorted(annor, reverse = True)[:k]\n",
    "        \n",
    "        # answer 에 annor 의 최저값 추가하기\n",
    "        answer.append(min(annor))\n",
    "        \n",
    "        \n",
    "    return answer"
   ]
  }
 ],
 "metadata": {
  "kernelspec": {
   "display_name": "Python 3",
   "language": "python",
   "name": "python3"
  },
  "language_info": {
   "codemirror_mode": {
    "name": "ipython",
    "version": 3
   },
   "file_extension": ".py",
   "mimetype": "text/x-python",
   "name": "python",
   "nbconvert_exporter": "python",
   "pygments_lexer": "ipython3",
   "version": "3.12.2"
  }
 },
 "nbformat": 4,
 "nbformat_minor": 2
}
