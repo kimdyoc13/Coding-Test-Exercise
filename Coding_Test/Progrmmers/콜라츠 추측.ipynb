{
 "cells": [
  {
   "cell_type": "code",
   "execution_count": null,
   "metadata": {},
   "outputs": [],
   "source": [
    "def solution(num):\n",
    "    tried = 0\n",
    "    while True:\n",
    "        tried += 1\n",
    "        if n % 2 ==0:\n",
    "            n = n%2\n",
    "        elif n % 2 == 1:\n",
    "            n = n*3\n",
    "            n = n+1\n",
    "        \n",
    "        if n ==1:\n",
    "            answer = tried\n",
    "            break\n",
    "        \n",
    "        if tried > 500:\n",
    "            answer == -1\n",
    "            break\n",
    "    return answer"
   ]
  },
  {
   "cell_type": "code",
   "execution_count": null,
   "metadata": {},
   "outputs": [],
   "source": [
    "def solution(num):\n",
    "    tried = 0\n",
    "    while True:\n",
    "        tried += 1\n",
    "        if num % 2 ==0:\n",
    "            num = num%2\n",
    "        elif num % 2 == 1:\n",
    "            num = num*3\n",
    "            num = num+1\n",
    "        \n",
    "        if num ==1:\n",
    "            result = tried\n",
    "            break\n",
    "        \n",
    "        if tried > 500:\n",
    "            result = -1\n",
    "            break\n",
    "    answer = result\n",
    "    return answer"
   ]
  },
  {
   "cell_type": "code",
   "execution_count": 2,
   "metadata": {},
   "outputs": [
    {
     "name": "stdout",
     "output_type": "stream",
     "text": [
      "2\n"
     ]
    }
   ],
   "source": [
    "tried = 0\n",
    "num = 4\n",
    "while True:\n",
    "    tried += 1\n",
    "    if num % 2 ==0:\n",
    "        num = num/2\n",
    "    elif num % 2 == 1:\n",
    "        num = num*3\n",
    "        num = num+1\n",
    "    \n",
    "    if num ==1:\n",
    "        result = tried\n",
    "        break\n",
    "    \n",
    "    if tried > 500:\n",
    "        result = -1\n",
    "        break\n",
    "print( result)"
   ]
  },
  {
   "cell_type": "code",
   "execution_count": null,
   "metadata": {},
   "outputs": [],
   "source": [
    "def solution(num):\n",
    "    tried = 0\n",
    "    while True:\n",
    "        tried += 1\n",
    "        if num % 2 ==0:\n",
    "            num = num/2\n",
    "        elif num % 2 == 1:\n",
    "            num = num*3\n",
    "            num = num+1\n",
    "        \n",
    "        if num ==1:\n",
    "            result = tried\n",
    "            break\n",
    "        \n",
    "        if tried > 500:\n",
    "            result = -1\n",
    "            break\n",
    "    answer = result\n",
    "    return answer"
   ]
  },
  {
   "cell_type": "code",
   "execution_count": null,
   "metadata": {},
   "outputs": [],
   "source": [
    "def solution(num):\n",
    "    tried = 0\n",
    "    while True:\n",
    "        if tried ==0 and  num ==1:\n",
    "            result ==0\n",
    "            break\n",
    "        tried += 1\n",
    "        if num % 2 ==0:\n",
    "            num = num/2\n",
    "        elif num % 2 == 1:\n",
    "            num = num*3\n",
    "            num = num+1\n",
    "        \n",
    "        if num ==1:\n",
    "            result = tried\n",
    "            break\n",
    "        \n",
    "        if tried > 500:\n",
    "            result = -1\n",
    "            break\n",
    "    answer = result\n",
    "    return answer"
   ]
  }
 ],
 "metadata": {
  "kernelspec": {
   "display_name": "Python 3",
   "language": "python",
   "name": "python3"
  },
  "language_info": {
   "codemirror_mode": {
    "name": "ipython",
    "version": 3
   },
   "file_extension": ".py",
   "mimetype": "text/x-python",
   "name": "python",
   "nbconvert_exporter": "python",
   "pygments_lexer": "ipython3",
   "version": "3.12.2"
  }
 },
 "nbformat": 4,
 "nbformat_minor": 2
}
