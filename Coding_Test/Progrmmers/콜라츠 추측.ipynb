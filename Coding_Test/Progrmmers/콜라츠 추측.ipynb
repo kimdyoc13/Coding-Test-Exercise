{
 "cells": [
  {
   "cell_type": "code",
   "execution_count": null,
   "metadata": {},
   "outputs": [],
   "source": [
    "def solution(num):\n",
    "    tried = 0\n",
    "    while True:\n",
    "        tried += 1\n",
    "        if n % 2 ==0:\n",
    "            n = n%2\n",
    "        elif n % 2 == 1:\n",
    "            n = n*3\n",
    "            n = n+1\n",
    "        \n",
    "        if n ==1:\n",
    "            answer = tried\n",
    "            break\n",
    "        \n",
    "        if tried > 500:\n",
    "            answer == -1\n",
    "            break\n",
    "    return answer"
   ]
  },
  {
   "cell_type": "code",
   "execution_count": null,
   "metadata": {},
   "outputs": [],
   "source": [
    "def solution(num):\n",
    "    tried = 0\n",
    "    while True:\n",
    "        tried += 1\n",
    "        if num % 2 ==0:\n",
    "            num = num%2\n",
    "        elif num % 2 == 1:\n",
    "            num = num*3\n",
    "            num = num+1\n",
    "        \n",
    "        if num ==1:\n",
    "            result = tried\n",
    "            break\n",
    "        \n",
    "        if tried > 500:\n",
    "            result = -1\n",
    "            break\n",
    "    answer = result\n",
    "    return answer"
   ]
  },
  {
   "cell_type": "code",
   "execution_count": null,
   "metadata": {},
   "outputs": [],
   "source": [
    "tried = 0\n",
    "\n",
    "while True:\n",
    "    tried += 1\n",
    "    if num % 2 ==0:\n",
    "        num = num%2\n",
    "    elif num % 2 == 1:\n",
    "        num = num*3\n",
    "        num = num+1\n",
    "    \n",
    "    if num ==1:\n",
    "        result = tried\n",
    "        break\n",
    "    \n",
    "    if tried > 500:\n",
    "        result = -1\n",
    "        break\n",
    "print( result)"
   ]
  }
 ],
 "metadata": {
  "language_info": {
   "name": "python"
  }
 },
 "nbformat": 4,
 "nbformat_minor": 2
}
