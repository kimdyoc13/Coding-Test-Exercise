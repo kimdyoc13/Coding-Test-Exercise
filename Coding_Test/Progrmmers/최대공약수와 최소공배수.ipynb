{
 "cells": [
  {
   "cell_type": "code",
   "execution_count": null,
   "metadata": {},
   "outputs": [],
   "source": [
    "def solution(n, m):\n",
    "    # 최소 공약수\n",
    "    n_list, m_list, answer = [], [], []\n",
    "    \n",
    "    for i in range(1 ,n+1):\n",
    "        if n % i ==0:\n",
    "            n_list.append(i)\n",
    "    for i in range(1 ,m+1):\n",
    "        if m % i ==0:\n",
    "            m_list.append(i)\n",
    "    common_list = [item for item in n_list if item in m_list]\n",
    "    answer.append(max(common_list))\n",
    "    \n",
    "    \n",
    "    \n",
    "    # 최대 공배수\n",
    "    n_list, m_list, common_list = [], [], []\n",
    "    \n",
    "    for i in range(1, m+1):\n",
    "        n_list.append(i*n)\n",
    "    for i in range(1, n+1):\n",
    "        m_list.append(i*m)\n",
    "    \n",
    "    common_values = [item for item in n_list if item in m_list]\n",
    "    \n",
    "    answer.append(min(common_values))\n",
    "    \n",
    "    \n",
    "    return answer"
   ]
  }
 ],
 "metadata": {
  "language_info": {
   "name": "python"
  }
 },
 "nbformat": 4,
 "nbformat_minor": 2
}
