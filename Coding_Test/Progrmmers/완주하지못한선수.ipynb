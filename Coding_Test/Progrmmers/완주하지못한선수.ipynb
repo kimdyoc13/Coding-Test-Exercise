{
 "cells": [
  {
   "cell_type": "code",
   "execution_count": null,
   "metadata": {},
   "outputs": [],
   "source": [
    "def solution(participant, completion):\n",
    "    answer = ''\n",
    "    # 일단 동명이인 제외하고 해보자\n",
    "    # 간단히 for문으로 가능(remove 활둉)\n",
    "    for i in completion:\n",
    "        participant.remove(i)\n",
    "    \n",
    "    # answer\n",
    "    \n",
    "    return \",\".join(list(map(lambda x : \"\"+ x + \"\",  participant  )))"
   ]
  }
 ],
 "metadata": {
  "language_info": {
   "name": "python"
  }
 },
 "nbformat": 4,
 "nbformat_minor": 2
}
