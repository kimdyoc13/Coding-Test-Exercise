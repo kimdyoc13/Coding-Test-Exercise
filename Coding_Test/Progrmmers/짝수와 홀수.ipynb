{
 "cells": [
  {
   "cell_type": "code",
   "execution_count": null,
   "metadata": {},
   "outputs": [],
   "source": [
    "def solution(num):\n",
    "    if n%2 ==1:\n",
    "        return = \"Odd\"\n",
    "    elif n%2 ==0:\n",
    "        return = \"Even\"\n",
    "    return answer"
   ]
  },
  {
   "cell_type": "code",
   "execution_count": null,
   "metadata": {},
   "outputs": [],
   "source": [
    "def solution(num):\n",
    "    if num%2 ==1:\n",
    "        answer = \"Odd\"\n",
    "    elif num%2 ==0:\n",
    "        answer = \"Even\"\n",
    "    return answer"
   ]
  }
 ],
 "metadata": {
  "language_info": {
   "name": "python"
  }
 },
 "nbformat": 4,
 "nbformat_minor": 2
}
