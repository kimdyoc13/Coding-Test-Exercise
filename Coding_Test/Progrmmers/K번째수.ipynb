{
 "cells": [
  {
   "cell_type": "code",
   "execution_count": 1,
   "metadata": {},
   "outputs": [
    {
     "ename": "AttributeError",
     "evalue": "'list' object has no attribute 'split'",
     "output_type": "error",
     "traceback": [
      "\u001b[1;31m---------------------------------------------------------------------------\u001b[0m",
      "\u001b[1;31mAttributeError\u001b[0m                            Traceback (most recent call last)",
      "Cell \u001b[1;32mIn[1], line 3\u001b[0m\n\u001b[0;32m      1\u001b[0m commands \u001b[38;5;241m=\u001b[39m [\u001b[38;5;241m2\u001b[39m, \u001b[38;5;241m5\u001b[39m, \u001b[38;5;241m3\u001b[39m]\n\u001b[1;32m----> 3\u001b[0m A, B, C \u001b[38;5;241m=\u001b[39m \u001b[38;5;28mmap\u001b[39m(\u001b[38;5;28mint\u001b[39m, \u001b[43mcommands\u001b[49m\u001b[38;5;241;43m.\u001b[39;49m\u001b[43msplit\u001b[49m())\n\u001b[0;32m      4\u001b[0m \u001b[38;5;28mprint\u001b[39m(A, B, C)\n",
      "\u001b[1;31mAttributeError\u001b[0m: 'list' object has no attribute 'split'"
     ]
    }
   ],
   "source": [
    "commands = [2, 5, 3]\n",
    "\n",
    "A, B, C = map(int, commands.split())\n",
    "print(A, B, C)"
   ]
  },
  {
   "cell_type": "code",
   "execution_count": 3,
   "metadata": {},
   "outputs": [
    {
     "name": "stdout",
     "output_type": "stream",
     "text": [
      "<class 'int'>\n",
      "5\n",
      "3\n"
     ]
    }
   ],
   "source": [
    "i = [2, 5, 3]\n",
    "for j in i:\n",
    "    A = i[0]\n",
    "    B = i[1]\n",
    "    C = i[2]\n",
    "\n",
    "print(type(A))\n",
    "print(B)\n",
    "print(C)"
   ]
  },
  {
   "cell_type": "code",
   "execution_count": 5,
   "metadata": {},
   "outputs": [
    {
     "name": "stdout",
     "output_type": "stream",
     "text": [
      "2 5 3\n",
      "[5, 2, 6, 3]\n",
      "4 4 1\n",
      "[6]\n",
      "1 7 3\n",
      "[1, 5, 2, 6, 3, 7, 4]\n"
     ]
    }
   ],
   "source": [
    "commands = [[2, 5, 3], [4, 4, 1], [1, 7, 3]]\n",
    "array = [1, 5, 2, 6, 3, 7, 4]\t\n",
    "for i in commands:\n",
    "    A = i[0]\n",
    "    B = i[1]\n",
    "    C = i[2]\n",
    "    print(A, B, C)\n",
    "    \n",
    "    num_list = array[A-1:B]\n",
    "    print(num_list)"
   ]
  },
  {
   "cell_type": "code",
   "execution_count": null,
   "metadata": {},
   "outputs": [],
   "source": [
    "def solution(array, commands):\n",
    "    answer = []\n",
    "    for i in commands:\n",
    "        A = i[0]\n",
    "        B = i[1]\n",
    "        C = i[2]\n",
    "        \n",
    "        num_list = sorted(array[A-1:B])\n",
    "        answer.append(num_list[C-1])\n",
    "    return answer"
   ]
  }
 ],
 "metadata": {
  "kernelspec": {
   "display_name": "Python 3",
   "language": "python",
   "name": "python3"
  },
  "language_info": {
   "codemirror_mode": {
    "name": "ipython",
    "version": 3
   },
   "file_extension": ".py",
   "mimetype": "text/x-python",
   "name": "python",
   "nbconvert_exporter": "python",
   "pygments_lexer": "ipython3",
   "version": "3.12.2"
  }
 },
 "nbformat": 4,
 "nbformat_minor": 2
}
