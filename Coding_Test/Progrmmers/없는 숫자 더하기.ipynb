{
 "cells": [
  {
   "cell_type": "code",
   "execution_count": null,
   "metadata": {},
   "outputs": [],
   "source": [
    "def solution(numbers):\n",
    "    number_list = []\n",
    "    for i in range(10):\n",
    "        if i in numbers == True:\n",
    "            continue\n",
    "        elif i in numbers == False:\n",
    "            number_list.append(i)\n",
    "    \n",
    "    answer = sum(number_list)\n",
    "    return answer"
   ]
  },
  {
   "cell_type": "code",
   "execution_count": 6,
   "metadata": {},
   "outputs": [
    {
     "name": "stdout",
     "output_type": "stream",
     "text": [
      "14\n"
     ]
    }
   ],
   "source": [
    "numbers = [1,2,3,4,6,7,8,0]\n",
    "number_list = []\n",
    "\n",
    "for i in range(10):\n",
    "    if i in numbers:\n",
    "        continue\n",
    "    elif i not in numbers:\n",
    "        number_list.append(i)\n",
    "\n",
    "answer = sum(number_list)\n",
    "\n",
    "print(answer)"
   ]
  },
  {
   "cell_type": "code",
   "execution_count": 7,
   "metadata": {},
   "outputs": [],
   "source": [
    "def solution(numbers):\n",
    "    number_list = []\n",
    "    for i in range(10):\n",
    "        if i in numbers:\n",
    "            continue\n",
    "        elif i not in numbers:\n",
    "            number_list.append(i)\n",
    "    \n",
    "    answer = sum(number_list)\n",
    "    return answer"
   ]
  },
  {
   "cell_type": "code",
   "execution_count": null,
   "metadata": {},
   "outputs": [],
   "source": []
  }
 ],
 "metadata": {
  "kernelspec": {
   "display_name": "Python 3",
   "language": "python",
   "name": "python3"
  },
  "language_info": {
   "codemirror_mode": {
    "name": "ipython",
    "version": 3
   },
   "file_extension": ".py",
   "mimetype": "text/x-python",
   "name": "python",
   "nbconvert_exporter": "python",
   "pygments_lexer": "ipython3",
   "version": "3.12.2"
  }
 },
 "nbformat": 4,
 "nbformat_minor": 2
}
