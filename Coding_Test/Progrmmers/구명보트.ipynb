{
 "cells": [
  {
   "cell_type": "code",
   "execution_count": 1,
   "metadata": {},
   "outputs": [
    {
     "name": "stdout",
     "output_type": "stream",
     "text": [
      "[1, 2, 3, 4]\n"
     ]
    }
   ],
   "source": [
    "a = [1, 2, 3, 4]\n",
    "\n",
    "print(sorted(a))"
   ]
  },
  {
   "cell_type": "code",
   "execution_count": null,
   "metadata": {},
   "outputs": [],
   "source": [
    "def solution(people, limit):\n",
    "    \n",
    "    # 필요 변수 서언\n",
    "    answer = 1\n",
    "    space = limit\n",
    "    \n",
    "    # 오름차순 정렬\n",
    "    people.sort()\n",
    "    \n",
    "    # 반복문\n",
    "    for i in range(len(people)):\n",
    "        \n",
    "        # 조건문 지정\n",
    "        if space - people[i] >0:\n",
    "            space -= people[i]\n",
    "            \n",
    "        elif space - people[i] <0:\n",
    "            answer += 1\n",
    "            space = limit\n",
    "            space -= people[i]\n",
    "    \n",
    "    return answer"
   ]
  }
 ],
 "metadata": {
  "kernelspec": {
   "display_name": "base",
   "language": "python",
   "name": "python3"
  },
  "language_info": {
   "codemirror_mode": {
    "name": "ipython",
    "version": 3
   },
   "file_extension": ".py",
   "mimetype": "text/x-python",
   "name": "python",
   "nbconvert_exporter": "python",
   "pygments_lexer": "ipython3",
   "version": "3.12.4"
  }
 },
 "nbformat": 4,
 "nbformat_minor": 2
}
