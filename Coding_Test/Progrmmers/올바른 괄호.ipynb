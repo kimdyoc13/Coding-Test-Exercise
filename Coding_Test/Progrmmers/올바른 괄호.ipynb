{
 "cells": [
  {
   "cell_type": "code",
   "execution_count": null,
   "metadata": {},
   "outputs": [],
   "source": [
    "def solution(s):\n",
    "    # 빈스택 만들기\n",
    "    stack = []\n",
    "    \n",
    "    for i in s:\n",
    "        if i =='(':\n",
    "            stack.append(i)\n",
    "        else: \n",
    "            # 스택이 비어있으면\n",
    "            if stack ==[]:\n",
    "                return False\n",
    "            # 스택이 차있으면\n",
    "            else:\n",
    "                stack.pop()\n",
    "    \n",
    "    if stack ==[]:\n",
    "        return True\n",
    "    if stack != []:\n",
    "        return False\n",
    "        \n"
   ]
  }
 ],
 "metadata": {
  "language_info": {
   "name": "python"
  }
 },
 "nbformat": 4,
 "nbformat_minor": 2
}
