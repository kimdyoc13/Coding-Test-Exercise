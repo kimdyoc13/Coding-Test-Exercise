{
 "cells": [
  {
   "cell_type": "code",
   "execution_count": null,
   "metadata": {},
   "outputs": [],
   "source": [
    "def solution(t, p):\n",
    "    p_list = []\n",
    "    for i in range((len(t) - len(p)+1)):\n",
    "                   p_list.append(p[i:i+3])\n",
    "                   \n",
    "    upper_one = [item for item in p_list if int(item) > int(p)]\n",
    "    return len(upper_one)"
   ]
  },
  {
   "cell_type": "code",
   "execution_count": null,
   "metadata": {},
   "outputs": [],
   "source": [
    "def solution(t, p):\n",
    "    t_list = []\n",
    "    for i in range(len(t) - len(p)+1):\n",
    "        t_list.append(t[i:i+(len(p))])\n",
    "                   \n",
    "    upper_one = [item for item in t_list if int(item) > int(p)]\n",
    "    return len(upper_one)"
   ]
  }
 ],
 "metadata": {
  "language_info": {
   "name": "python"
  }
 },
 "nbformat": 4,
 "nbformat_minor": 2
}
