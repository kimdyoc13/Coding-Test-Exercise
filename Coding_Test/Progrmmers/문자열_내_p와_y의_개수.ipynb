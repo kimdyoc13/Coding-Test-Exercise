{
 "cells": [
  {
   "cell_type": "code",
   "execution_count": null,
   "metadata": {},
   "outputs": [],
   "source": [
    "def solution(s):\n",
    "    \n",
    "    \n",
    "    s = s.upper\n",
    "    count_s = 0\n",
    "    count_p = 0\n",
    "    \n",
    "    for i in s:\n",
    "        if i == S:\n",
    "            count_s += 1\n",
    "        elif i == P:\n",
    "            count_p += 1\n",
    "    \n",
    "    if count_s == count_p:\n",
    "        answer = true\n",
    "    else:\n",
    "        answer = false\n",
    "    \n",
    "    \n",
    "    \n",
    "\n",
    "    return answer"
   ]
  },
  {
   "cell_type": "code",
   "execution_count": null,
   "metadata": {},
   "outputs": [],
   "source": [
    "def solution(s):\n",
    "    \n",
    "    \n",
    "    s = s.upper\n",
    "    count_s = 0\n",
    "    count_p = 0\n",
    "    \n",
    "    for i in s:\n",
    "        if i == 'S':\n",
    "            count_s += 1\n",
    "        elif i == 'P':\n",
    "            count_p += 1\n",
    "    \n",
    "    if count_s == count_p:\n",
    "        answer = 'true'\n",
    "    else:\n",
    "        answer = 'false'\n",
    "    \n",
    "    \n",
    "    \n",
    "\n",
    "    return answer"
   ]
  },
  {
   "cell_type": "code",
   "execution_count": null,
   "metadata": {},
   "outputs": [],
   "source": [
    "def solution(s):\n",
    "    \n",
    "    \n",
    "    s = s.upper()\n",
    "    count_s = 0\n",
    "    count_p = 0\n",
    "    \n",
    "    for i in s:\n",
    "        if i == 'S':\n",
    "            count_s += 1\n",
    "        elif i == 'P':\n",
    "            count_p += 1\n",
    "    \n",
    "    if count_s == count_p:\n",
    "        answer = 'true'\n",
    "    else:\n",
    "        answer = 'false'\n",
    "    \n",
    "    \n",
    "    \n",
    "\n",
    "    return answer"
   ]
  }
 ],
 "metadata": {
  "language_info": {
   "name": "python"
  }
 },
 "nbformat": 4,
 "nbformat_minor": 2
}
