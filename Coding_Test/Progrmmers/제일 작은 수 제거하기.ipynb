{
 "cells": [
  {
   "cell_type": "code",
   "execution_count": null,
   "metadata": {},
   "outputs": [],
   "source": [
    "def solution(arr):\n",
    "    answer = []\n",
    "    \n",
    "    for i in range(len(arr)):\n",
    "        if arr[i] == min(arr):\n",
    "            continue\n",
    "        elif len(arr) == 1 and arr[i] ==10:\n",
    "            answer.append(-1)\n",
    "            break\n",
    "        \n",
    "        answer.append(arr[i])\n",
    "        \n",
    "    return answer"
   ]
  },
  {
   "cell_type": "code",
   "execution_count": null,
   "metadata": {},
   "outputs": [],
   "source": [
    "def solution(arr):\n",
    "    answer = []\n",
    "    \n",
    "    for i in range(len(arr)):\n",
    "        if len(arr) == 1 and arr[i] ==10:\n",
    "            answer.append(-1)\n",
    "            break\n",
    "        \n",
    "        if arr[i] == min(arr):\n",
    "            continue\n",
    "            \n",
    "        \n",
    "        answer.append(arr[i])\n",
    "        \n",
    "    return answer"
   ]
  },
  {
   "cell_type": "code",
   "execution_count": null,
   "metadata": {},
   "outputs": [],
   "source": [
    "def solution(arr):\n",
    "    if len(arr) >1:\n",
    "        arr.remove(min(arr))\n",
    "        return arr\n",
    "    else:\n",
    "        return [-1]\n",
    "        \n",
    "    "
   ]
  }
 ],
 "metadata": {
  "language_info": {
   "name": "python"
  }
 },
 "nbformat": 4,
 "nbformat_minor": 2
}
