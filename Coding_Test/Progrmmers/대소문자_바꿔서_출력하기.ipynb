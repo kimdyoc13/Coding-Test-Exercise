{
 "cells": [
  {
   "cell_type": "code",
   "execution_count": null,
   "metadata": {},
   "outputs": [],
   "source": [
    "str = input()\n"
   ]
  },
  {
   "cell_type": "code",
   "execution_count": 6,
   "metadata": {},
   "outputs": [
    {
     "ename": "TypeError",
     "evalue": "'str' object does not support item assignment",
     "output_type": "error",
     "traceback": [
      "\u001b[1;31m---------------------------------------------------------------------------\u001b[0m",
      "\u001b[1;31mTypeError\u001b[0m                                 Traceback (most recent call last)",
      "Cell \u001b[1;32mIn[6], line 12\u001b[0m\n\u001b[0;32m      9\u001b[0m         \u001b[38;5;28mstr\u001b[39m[i] \u001b[38;5;241m=\u001b[39m a\u001b[38;5;241m.\u001b[39mlower()\n\u001b[0;32m     11\u001b[0m     \u001b[38;5;28;01melif\u001b[39;00m a\u001b[38;5;241m.\u001b[39mislower() \u001b[38;5;241m==\u001b[39m \u001b[38;5;28;01mTrue\u001b[39;00m:\n\u001b[1;32m---> 12\u001b[0m         \u001b[38;5;28;43mstr\u001b[39;49m\u001b[43m[\u001b[49m\u001b[43mi\u001b[49m\u001b[43m]\u001b[49m \u001b[38;5;241m=\u001b[39m a\u001b[38;5;241m.\u001b[39mupper()\n\u001b[0;32m     14\u001b[0m \u001b[38;5;28mprint\u001b[39m(\u001b[38;5;28mstr\u001b[39m)\n",
      "\u001b[1;31mTypeError\u001b[0m: 'str' object does not support item assignment"
     ]
    }
   ],
   "source": [
    "str = input()\n",
    "\n",
    "long = len(str)\n",
    "\n",
    "for i in range(long):\n",
    "    a = str[i]\n",
    "    \n",
    "    if a.isupper() == True:\n",
    "        str[i] = a.lower()\n",
    "        \n",
    "    elif a.islower() == True:\n",
    "        str[i] = a.upper()\n",
    "        \n",
    "print(str)"
   ]
  },
  {
   "cell_type": "code",
   "execution_count": 7,
   "metadata": {},
   "outputs": [
    {
     "name": "stdout",
     "output_type": "stream",
     "text": [
      "AbCdE"
     ]
    }
   ],
   "source": [
    "\n",
    "str = input()\n",
    "for i in str:\n",
    "    if i.islower():\n",
    "        print(i.upper(),end='')\n",
    "    else:\n",
    "        print(i.lower(),end='')"
   ]
  },
  {
   "cell_type": "code",
   "execution_count": null,
   "metadata": {},
   "outputs": [],
   "source": [
    "str = input()\n",
    "\n",
    "str = str.swapcase()\n",
    "        \n",
    "print(str)"
   ]
  }
 ],
 "metadata": {
  "kernelspec": {
   "display_name": "Python 3",
   "language": "python",
   "name": "python3"
  },
  "language_info": {
   "codemirror_mode": {
    "name": "ipython",
    "version": 3
   },
   "file_extension": ".py",
   "mimetype": "text/x-python",
   "name": "python",
   "nbconvert_exporter": "python",
   "pygments_lexer": "ipython3",
   "version": "3.12.2"
  }
 },
 "nbformat": 4,
 "nbformat_minor": 2
}
