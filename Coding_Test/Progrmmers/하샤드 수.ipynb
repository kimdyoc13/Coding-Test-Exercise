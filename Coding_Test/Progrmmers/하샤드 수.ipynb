{
 "cells": [
  {
   "cell_type": "code",
   "execution_count": null,
   "metadata": {},
   "outputs": [],
   "source": [
    "def solution(x):\n",
    "    x = str(x)\n",
    "    x_list = []\n",
    "    \n",
    "    for i in x:\n",
    "        x_list.append(i)\n",
    "    \n",
    "    t = sum(x_list)\n",
    "    \n",
    "    if x % t >=0:\n",
    "        answer = False\n",
    "    elif x % t<0:\n",
    "        answer = True\n",
    "    return answer"
   ]
  },
  {
   "cell_type": "code",
   "execution_count": null,
   "metadata": {},
   "outputs": [],
   "source": [
    "def solution(x):\n",
    "    x_list = []\n",
    "    \n",
    "    for i in str(x):\n",
    "        x_list.append(int(i))\n",
    "    \n",
    "    t = sum(x_list)\n",
    "    \n",
    "    if x % t >=0:\n",
    "        answer = False\n",
    "    elif x % t<0:\n",
    "        answer = True\n",
    "    return answer"
   ]
  },
  {
   "cell_type": "markdown",
   "metadata": {},
   "source": [
    "테스트용"
   ]
  },
  {
   "cell_type": "code",
   "execution_count": 5,
   "metadata": {},
   "outputs": [
    {
     "name": "stdout",
     "output_type": "stream",
     "text": [
      "False\n"
     ]
    }
   ],
   "source": [
    "x = 10\n",
    "\n",
    "x_list = []\n",
    "\n",
    "for i in str(x):\n",
    "    x_list.append(int(i))\n",
    "\n",
    "t = sum(x_list)\n",
    "\n",
    "if x % t >=0:\n",
    "    answer = False\n",
    "elif x % t<0:\n",
    "    answer = True\n",
    "print(answer)"
   ]
  },
  {
   "cell_type": "code",
   "execution_count": 4,
   "metadata": {},
   "outputs": [
    {
     "name": "stdout",
     "output_type": "stream",
     "text": [
      "1\n",
      "0\n"
     ]
    }
   ],
   "source": [
    "x = 10\n",
    "\n",
    "x = str(x)\n",
    "x_list = []\n",
    "\n"
   ]
  },
  {
   "cell_type": "code",
   "execution_count": null,
   "metadata": {},
   "outputs": [],
   "source": [
    "def solution(x):\n",
    "    x_list = []\n",
    "    \n",
    "    for i in str(x):\n",
    "        x_list.append(int(i))\n",
    "    \n",
    "    t = sum(x_list)\n",
    "    \n",
    "    if x % t ==0:\n",
    "        answer = True\n",
    "    elif x % t!=0:\n",
    "        answer = False\n",
    "    return answer"
   ]
  }
 ],
 "metadata": {
  "kernelspec": {
   "display_name": "Python 3",
   "language": "python",
   "name": "python3"
  },
  "language_info": {
   "codemirror_mode": {
    "name": "ipython",
    "version": 3
   },
   "file_extension": ".py",
   "mimetype": "text/x-python",
   "name": "python",
   "nbconvert_exporter": "python",
   "pygments_lexer": "ipython3",
   "version": "3.12.2"
  }
 },
 "nbformat": 4,
 "nbformat_minor": 2
}
