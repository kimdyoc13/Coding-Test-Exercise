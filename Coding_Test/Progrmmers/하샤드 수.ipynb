{
 "cells": [
  {
   "cell_type": "code",
   "execution_count": null,
   "metadata": {},
   "outputs": [],
   "source": [
    "def solution(x):\n",
    "    x = str(x)\n",
    "    x_list = []\n",
    "    \n",
    "    for i in x:\n",
    "        x_list.append(i)\n",
    "    \n",
    "    t = sum(x_list)\n",
    "    \n",
    "    if x % t >=0:\n",
    "        answer = False\n",
    "    elif x % t<0:\n",
    "        answer = True\n",
    "    return answer"
   ]
  }
 ],
 "metadata": {
  "language_info": {
   "name": "python"
  }
 },
 "nbformat": 4,
 "nbformat_minor": 2
}
