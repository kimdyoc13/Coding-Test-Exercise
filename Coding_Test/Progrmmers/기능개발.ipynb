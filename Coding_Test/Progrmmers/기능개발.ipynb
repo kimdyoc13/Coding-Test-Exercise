{
 "cells": [
  {
   "cell_type": "markdown",
   "metadata": {},
   "source": [
    "큐 문제\n",
    "\n",
    "앞의 기능이 호출 되면 뒤에 있는 기능이 호출\n",
    "\n",
    "100% 가 넘어가면 배포\n",
    "\n",
    "while 문으로 사용\n"
   ]
  },
  {
   "cell_type": "code",
   "execution_count": 1,
   "metadata": {},
   "outputs": [
    {
     "name": "stdout",
     "output_type": "stream",
     "text": [
      "[1, 3, 4, 5]\n"
     ]
    }
   ],
   "source": [
    "stack = [1, 2, 3,4 ,5]\n",
    "\n",
    "stack.pop(1)\n",
    "\n",
    "print(stack)"
   ]
  },
  {
   "cell_type": "code",
   "execution_count": 20,
   "metadata": {},
   "outputs": [],
   "source": [
    "progresses = [93, 30, 55]\t\n",
    "speeds = [1, 30, 5]\t"
   ]
  },
  {
   "cell_type": "code",
   "execution_count": 12,
   "metadata": {},
   "outputs": [
    {
     "name": "stdout",
     "output_type": "stream",
     "text": [
      "range(0, 2)\n"
     ]
    }
   ],
   "source": [
    "print(range(len(progresses)))"
   ]
  },
  {
   "cell_type": "markdown",
   "metadata": {},
   "source": [
    "앞의 기능 되면 배포 기능 추가"
   ]
  },
  {
   "cell_type": "code",
   "execution_count": 21,
   "metadata": {},
   "outputs": [],
   "source": [
    "answer = []\n",
    "while len(progresses) > 0:\n",
    "    # 세팅\n",
    "    complete = 0\n",
    "\n",
    "    # 추가\n",
    "    for i in range(len(progresses)):\n",
    "        progresses[i] += speeds[i]\n",
    "    \n",
    "    # 계산\n",
    "    for i in range(len(progresses)):\n",
    "        if progresses[i] >100:\n",
    "            complete += 1\n",
    "    \n",
    "    # 제거\n",
    "\n",
    "    for index, data in  enumerate(progresses):\n",
    "        if data >100:\n",
    "            progresses.pop(index)\n",
    "            speeds.pop(index)\n",
    "\n",
    "    \n",
    "    #추가\n",
    "    if complete >0:\n",
    "        answer.append(complete)\n"
   ]
  },
  {
   "cell_type": "code",
   "execution_count": 22,
   "metadata": {},
   "outputs": [
    {
     "name": "stdout",
     "output_type": "stream",
     "text": [
      "[1, 1, 1]\n"
     ]
    }
   ],
   "source": [
    "print(answer)"
   ]
  },
  {
   "cell_type": "code",
   "execution_count": null,
   "metadata": {},
   "outputs": [],
   "source": [
    "answer = []\n",
    "while len(progresses) > 0:\n",
    "    # 세팅\n",
    "    complete = 0\n",
    "\n",
    "    # 추가\n",
    "    for i in range(len(progresses)):\n",
    "        progresses[i] += speeds[i]\n",
    "    \n",
    "    # 계산\n",
    "    for i in range(len(progresses)):\n",
    "        if progresses[i] >100:\n",
    "            complete += 1\n",
    "    \n",
    "    # 제거\n",
    "\n",
    "    for index, data in  enumerate(progresses):\n",
    "        if data >100:\n",
    "            progresses.pop(index)\n",
    "            speeds.pop(index)\n",
    "\n",
    "    \n",
    "    #추가\n",
    "    if complete >0:\n",
    "        answer.append(complete)\n"
   ]
  }
 ],
 "metadata": {
  "kernelspec": {
   "display_name": "Python 3",
   "language": "python",
   "name": "python3"
  },
  "language_info": {
   "codemirror_mode": {
    "name": "ipython",
    "version": 3
   },
   "file_extension": ".py",
   "mimetype": "text/x-python",
   "name": "python",
   "nbconvert_exporter": "python",
   "pygments_lexer": "ipython3",
   "version": "3.12.7"
  }
 },
 "nbformat": 4,
 "nbformat_minor": 2
}
