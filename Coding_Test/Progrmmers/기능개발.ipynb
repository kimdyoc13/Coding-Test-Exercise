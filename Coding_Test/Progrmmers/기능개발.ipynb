{
 "cells": [
  {
   "cell_type": "markdown",
   "metadata": {},
   "source": [
    "큐 문제\n",
    "\n",
    "앞의 기능이 호출 되면 뒤에 있는 기능이 호출\n",
    "\n",
    "100% 가 넘어가면 배포\n",
    "\n",
    "while 문으로 사용\n"
   ]
  },
  {
   "cell_type": "code",
   "execution_count": 1,
   "metadata": {},
   "outputs": [
    {
     "name": "stdout",
     "output_type": "stream",
     "text": [
      "[1, 3, 4, 5]\n"
     ]
    }
   ],
   "source": [
    "stack = [1, 2, 3,4 ,5]\n",
    "\n",
    "stack.pop(1)\n",
    "\n",
    "print(stack)"
   ]
  },
  {
   "cell_type": "code",
   "execution_count": 20,
   "metadata": {},
   "outputs": [],
   "source": [
    "progresses = [93, 30, 55]\t\n",
    "speeds = [1, 30, 5]\t"
   ]
  },
  {
   "cell_type": "code",
   "execution_count": 12,
   "metadata": {},
   "outputs": [
    {
     "name": "stdout",
     "output_type": "stream",
     "text": [
      "range(0, 2)\n"
     ]
    }
   ],
   "source": [
    "print(range(len(progresses)))"
   ]
  },
  {
   "cell_type": "markdown",
   "metadata": {},
   "source": [
    "앞의 기능 되면 배포 기능 추가"
   ]
  },
  {
   "cell_type": "code",
   "execution_count": 21,
   "metadata": {},
   "outputs": [],
   "source": [
    "answer = []\n",
    "while len(progresses) > 0:\n",
    "    # 세팅\n",
    "    complete = 0\n",
    "\n",
    "    # 추가\n",
    "    for i in range(len(progresses)):\n",
    "        progresses[i] += speeds[i]\n",
    "    \n",
    "    # 계산\n",
    "    for i in range(len(progresses)):\n",
    "        if progresses[i] >100:\n",
    "            complete += 1\n",
    "    \n",
    "    # 제거\n",
    "\n",
    "    for index, data in  enumerate(progresses):\n",
    "        if data >100:\n",
    "            progresses.pop(index)\n",
    "            speeds.pop(index)\n",
    "\n",
    "    \n",
    "    #추가\n",
    "    if complete >0:\n",
    "        answer.append(complete)\n"
   ]
  },
  {
   "cell_type": "code",
   "execution_count": 22,
   "metadata": {},
   "outputs": [
    {
     "name": "stdout",
     "output_type": "stream",
     "text": [
      "[1, 1, 1]\n"
     ]
    }
   ],
   "source": [
    "print(answer)"
   ]
  },
  {
   "cell_type": "markdown",
   "metadata": {},
   "source": [
    "앞의 기능 되면 배포 기능 추가"
   ]
  },
  {
   "cell_type": "code",
   "execution_count": 9,
   "metadata": {},
   "outputs": [
    {
     "name": "stdout",
     "output_type": "stream",
     "text": [
      "0 93\n",
      "1 30\n"
     ]
    }
   ],
   "source": [
    "progresses = [93, 30, 55]\t\n",
    "\n",
    "for index, data in enumerate(progresses):\n",
    "    if index == 1:\n",
    "        progresses.pop(index)\n",
    "    print(index, data)"
   ]
  },
  {
   "cell_type": "code",
   "execution_count": 1,
   "metadata": {},
   "outputs": [],
   "source": [
    "progresses = [93, 30, 55]\t\n",
    "speeds = [1, 30, 5]\t"
   ]
  },
  {
   "cell_type": "code",
   "execution_count": 4,
   "metadata": {},
   "outputs": [],
   "source": [
    "answer = []\n",
    "\n",
    "while len(progresses) > 0:\n",
    "    # 세팅\n",
    "    complete = 0\n",
    "    list = []\n",
    "\n",
    "    # 추가\n",
    "    for i in range(len(progresses)):\n",
    "        progresses[i] += speeds[i]\n",
    "\n",
    "    # 제거 목록 탐색\n",
    "    for index, data in  enumerate(progresses):\n",
    "        if data <100:\n",
    "            break\n",
    "        elif data >=100:\n",
    "            complete += 1\n",
    "            list.append(index)\n",
    "\n",
    "    # 제거\n",
    "    if len(list) > 0:\n",
    "        del progresses[list]\n",
    "        del speeds[list]\n",
    "\n",
    "\n",
    "    #추가\n",
    "    if complete >0:\n",
    "        answer.append(complete)\n"
   ]
  },
  {
   "cell_type": "code",
   "execution_count": 5,
   "metadata": {},
   "outputs": [
    {
     "name": "stdout",
     "output_type": "stream",
     "text": [
      "[]\n"
     ]
    }
   ],
   "source": [
    "print(answer)"
   ]
  },
  {
   "cell_type": "code",
   "execution_count": null,
   "metadata": {},
   "outputs": [],
   "source": [
    "progresses = [93, 30, 55]\n",
    "to_remove = []\n",
    "\n",
    "for index, data in enumerate(progresses):\n",
    "    if index == 1:\n",
    "        to_remove.append(index)\n",
    "    print(index, data)\n",
    "\n",
    "for index in reversed(to_remove):\n",
    "    progresses.pop(index)\n",
    "\n",
    "print(progresses)\n"
   ]
  },
  {
   "cell_type": "code",
   "execution_count": 7,
   "metadata": {},
   "outputs": [
    {
     "ename": "TypeError",
     "evalue": "list indices must be integers or slices, not list",
     "output_type": "error",
     "traceback": [
      "\u001b[1;31m---------------------------------------------------------------------------\u001b[0m",
      "\u001b[1;31mTypeError\u001b[0m                                 Traceback (most recent call last)",
      "Cell \u001b[1;32mIn[7], line 5\u001b[0m\n\u001b[0;32m      1\u001b[0m progresses \u001b[38;5;241m=\u001b[39m [\u001b[38;5;241m93\u001b[39m, \u001b[38;5;241m30\u001b[39m, \u001b[38;5;241m55\u001b[39m]\n\u001b[0;32m      3\u001b[0m \u001b[38;5;28mlist\u001b[39m \u001b[38;5;241m=\u001b[39m [\u001b[38;5;241m1\u001b[39m, \u001b[38;5;241m2\u001b[39m]\n\u001b[1;32m----> 5\u001b[0m \u001b[38;5;28;01mdel\u001b[39;00m \u001b[43mprogresses\u001b[49m\u001b[43m[\u001b[49m\u001b[38;5;28;43mlist\u001b[39;49m\u001b[43m]\u001b[49m\n\u001b[0;32m      7\u001b[0m \u001b[38;5;28mprint\u001b[39m(progresses)\n",
      "\u001b[1;31mTypeError\u001b[0m: list indices must be integers or slices, not list"
     ]
    }
   ],
   "source": [
    "progresses = [93, 30, 55]\n",
    "\n",
    "list = [1, 2]\n",
    "\n",
    "del progresses[list]\n",
    "\n",
    "print(progresses)"
   ]
  },
  {
   "cell_type": "code",
   "execution_count": null,
   "metadata": {},
   "outputs": [],
   "source": []
  }
 ],
 "metadata": {
  "kernelspec": {
   "display_name": "Python 3",
   "language": "python",
   "name": "python3"
  },
  "language_info": {
   "codemirror_mode": {
    "name": "ipython",
    "version": 3
   },
   "file_extension": ".py",
   "mimetype": "text/x-python",
   "name": "python",
   "nbconvert_exporter": "python",
   "pygments_lexer": "ipython3",
   "version": "3.12.7"
  }
 },
 "nbformat": 4,
 "nbformat_minor": 2
}
