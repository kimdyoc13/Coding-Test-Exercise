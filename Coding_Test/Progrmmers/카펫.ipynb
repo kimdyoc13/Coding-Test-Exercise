{
 "cells": [
  {
   "cell_type": "code",
   "execution_count": 1,
   "metadata": {},
   "outputs": [
    {
     "name": "stdout",
     "output_type": "stream",
     "text": [
      "1.5\n",
      "1\n"
     ]
    }
   ],
   "source": [
    "print(3 / 2)\n",
    "\n",
    "print( 3//2)"
   ]
  },
  {
   "cell_type": "code",
   "execution_count": null,
   "metadata": {},
   "outputs": [],
   "source": [
    "def solution(brown, yellow):\n",
    "    answer = []\n",
    "    \n",
    "    for i in range(1, yellow+1):\n",
    "        if yellow % i ==0:\n",
    "            # yellow_x 지정\n",
    "            yellow_x = i\n",
    "            \n",
    "            # yellow_y 지정\n",
    "            yellow_y = yellow // yellow_x\n",
    "            \n",
    "            if (2 * yellow_x) + (2 * yellow_y) + 4 == brown:\n",
    "                answer.extend([yellow_x +2, yellow_y + 2])\n",
    "                break\n",
    "        \n",
    "            \n",
    "    return sorted(answer, reverse = True)"
   ]
  }
 ],
 "metadata": {
  "kernelspec": {
   "display_name": "Python 3",
   "language": "python",
   "name": "python3"
  },
  "language_info": {
   "codemirror_mode": {
    "name": "ipython",
    "version": 3
   },
   "file_extension": ".py",
   "mimetype": "text/x-python",
   "name": "python",
   "nbconvert_exporter": "python",
   "pygments_lexer": "ipython3",
   "version": "3.12.2"
  }
 },
 "nbformat": 4,
 "nbformat_minor": 2
}
