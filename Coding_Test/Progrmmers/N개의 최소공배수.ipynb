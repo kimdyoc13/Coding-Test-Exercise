{
 "cells": [
  {
   "cell_type": "code",
   "execution_count": 3,
   "metadata": {},
   "outputs": [
    {
     "name": "stdout",
     "output_type": "stream",
     "text": [
      "1344\n"
     ]
    }
   ],
   "source": [
    "arr = [2,6,8,14]\t\n",
    "arr = sorted(arr)\n",
    "x = 1\n",
    "for n in arr:\n",
    "    x *= n\n",
    "print(x)"
   ]
  },
  {
   "cell_type": "code",
   "execution_count": null,
   "metadata": {},
   "outputs": [],
   "source": [
    "def solution(arr):\n",
    "    answer = 0\n",
    "    k = 0\n",
    "    arr = sorted(arr)\n",
    "    x = 1\n",
    "    for n in arr:\n",
    "        x *= n\n",
    "    \n",
    "    for i in range(1, x + 1):\n",
    "        for j in arr:\n",
    "            if i  % j ==0:\n",
    "                continue\n",
    "            k = 1\n",
    "        if k ==0:\n",
    "            answer = i\n",
    "            break\n",
    "        k = 0\n",
    "    return answer"
   ]
  }
 ],
 "metadata": {
  "kernelspec": {
   "display_name": "Python 3",
   "language": "python",
   "name": "python3"
  },
  "language_info": {
   "codemirror_mode": {
    "name": "ipython",
    "version": 3
   },
   "file_extension": ".py",
   "mimetype": "text/x-python",
   "name": "python",
   "nbconvert_exporter": "python",
   "pygments_lexer": "ipython3",
   "version": "3.12.2"
  }
 },
 "nbformat": 4,
 "nbformat_minor": 2
}
