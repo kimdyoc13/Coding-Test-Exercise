{
 "cells": [
  {
   "cell_type": "code",
   "execution_count": null,
   "metadata": {},
   "outputs": [],
   "source": [
    "def solution(n):\n",
    "    n = int(n)\n",
    "    \n",
    "    divisor_List = []\n",
    "    \n",
    "    for i in range(1, n+1):\n",
    "        if (n % i == 0):\n",
    "            divisor_List.append(i)\n",
    "            answer = sum(divisor_List)\n",
    "    return answer"
   ]
  },
  {
   "cell_type": "code",
   "execution_count": null,
   "metadata": {},
   "outputs": [],
   "source": [
    "def solution(n):\n",
    "    divisor_List = []\n",
    "    \n",
    "    for i in range(1, n+1):\n",
    "        if (n % i == 0):\n",
    "            divisor_List.append(i)\n",
    "            answer = sum(divisor_List)\n",
    "    return answer"
   ]
  },
  {
   "cell_type": "code",
   "execution_count": null,
   "metadata": {},
   "outputs": [],
   "source": [
    "def solution(n):\n",
    "    divisor_List = []\n",
    "    \n",
    "    for i in range(1, n+1):\n",
    "        if (n % i == 0):\n",
    "            divisor_List.append(i)\n",
    "    return sum(divisor_List)"
   ]
  }
 ],
 "metadata": {
  "language_info": {
   "name": "python"
  }
 },
 "nbformat": 4,
 "nbformat_minor": 2
}
