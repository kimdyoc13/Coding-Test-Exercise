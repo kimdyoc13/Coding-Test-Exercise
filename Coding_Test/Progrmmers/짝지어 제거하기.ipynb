{
 "cells": [
  {
   "cell_type": "code",
   "execution_count": 15,
   "metadata": {},
   "outputs": [
    {
     "name": "stdout",
     "output_type": "stream",
     "text": [
      "['b', 'c', 'd', 'e']\n"
     ]
    }
   ],
   "source": [
    "op = ['a', 'b', 'c', 'd', 'e']\n",
    "\n",
    "op.pop(0)\n",
    "\n",
    "print(op)\n"
   ]
  },
  {
   "cell_type": "code",
   "execution_count": 17,
   "metadata": {},
   "outputs": [
    {
     "name": "stdout",
     "output_type": "stream",
     "text": [
      "['a', 'b']\n",
      "1\n",
      "['b', 'a', 'a', 'b', 'a', 'a']\n",
      "['b', 'b', 'a', 'a']\n",
      "1\n",
      "0\n",
      "[]\n"
     ]
    }
   ],
   "source": [
    "s = 'baabaa'\n",
    "s_list = []\n",
    "l = []\n",
    "\n",
    "# 문자열 받고 set으로 중복 제가\n",
    "for i in range(len(s)):\n",
    "    l.append(s[i])\n",
    "\n",
    "l = list(set(l))\n",
    "print(l)\n",
    "\n",
    "#문자열 리스트로 변경\n",
    "for i in range(len(s)):\n",
    "    s_list.append(s[i])\n",
    "    \n",
    "print((s_list.index(l[0])))\n",
    "print(s_list)\n",
    "s_list.pop((s_list.index(l[0])))\n",
    "s_list.pop((s_list.index(l[0])))\n",
    "print(s_list)\n",
    "# 처음 문자 제거\n",
    "while s_list.count(l[0]) >= 2:\n",
    "    s_list.pop((s_list.index(l[0])))\n",
    "    s_list.pop((s_list.index(l[0])))\n",
    "    \n",
    "# 두번쨰 문자 제거\n",
    "while s_list.count(l[1]) >= 2:\n",
    "    s_list.pop((s_list.index(l[1])))\n",
    "    s_list.pop((s_list.index(l[1])))\n",
    "    \n",
    "if len(s_list) == 0:\n",
    "    print('1')\n",
    "elif len(s_list) >0:\n",
    "    print('0')\n",
    "    \n",
    "print(len(s_list))\n",
    "print(s_list)"
   ]
  },
  {
   "cell_type": "code",
   "execution_count": null,
   "metadata": {},
   "outputs": [],
   "source": [
    "s = 'baabaa'\n",
    "s_list = []\n",
    "l = []\n",
    "\n",
    "# 문자열 받고 set으로 중복 제가\n",
    "for i in range(len(s)):\n",
    "    l.append(s[i])\n",
    "\n",
    "l = list(set(l))\n",
    "\n",
    "#문자열 리스트로 변경\n",
    "for i in range(len(s)):\n",
    "    s_list.append(s[i])\n",
    "    \n",
    "\n",
    "s_list.pop((s_list.index(l[0])))\n",
    "s_list.pop((s_list.index(l[0])))\n",
    "\n",
    "# 처음 문자 제거\n",
    "while s_list.count(l[0]) >= 2:\n",
    "    s_list.pop((s_list.index(l[0])))\n",
    "    s_list.pop((s_list.index(l[0])))\n",
    "    \n",
    "# 두번쨰 문자 제거\n",
    "while s_list.count(l[1]) >= 2:\n",
    "    s_list.pop((s_list.index(l[1])))\n",
    "    s_list.pop((s_list.index(l[1])))\n",
    "    \n",
    "if len(s_list) == 0:\n",
    "    print('1')\n",
    "elif len(s_list) >0:\n",
    "    print('0')\n",
    "    \n",
    "print(len(s_list))\n",
    "print(s_list)"
   ]
  },
  {
   "cell_type": "code",
   "execution_count": 1,
   "metadata": {},
   "outputs": [
    {
     "name": "stdout",
     "output_type": "stream",
     "text": [
      "empty\n"
     ]
    }
   ],
   "source": [
    "stack = []\n",
    "if not stack:\n",
    "    print('empty')"
   ]
  },
  {
   "cell_type": "code",
   "execution_count": null,
   "metadata": {},
   "outputs": [],
   "source": [
    "def solution(s):\n",
    "    stack = []\n",
    "    \n",
    "    for i in range(len(s)):\n",
    "        if not stack:\n",
    "            stack.append(s[i])\n",
    "        else:   \n",
    "            if s[i] == stack[-1]:\n",
    "                stack.pop()\n",
    "            else:\n",
    "                stack.append(s[i])\n",
    "    \n",
    "    if stack:\n",
    "        return 0\n",
    "    else:\n",
    "        return 1"
   ]
  }
 ],
 "metadata": {
  "kernelspec": {
   "display_name": "Python 3",
   "language": "python",
   "name": "python3"
  },
  "language_info": {
   "codemirror_mode": {
    "name": "ipython",
    "version": 3
   },
   "file_extension": ".py",
   "mimetype": "text/x-python",
   "name": "python",
   "nbconvert_exporter": "python",
   "pygments_lexer": "ipython3",
   "version": "3.12.2"
  }
 },
 "nbformat": 4,
 "nbformat_minor": 2
}
