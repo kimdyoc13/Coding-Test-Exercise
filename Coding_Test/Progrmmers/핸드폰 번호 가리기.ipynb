{
 "cells": [
  {
   "cell_type": "code",
   "execution_count": null,
   "metadata": {},
   "outputs": [],
   "source": [
    "def solution(phone_number):\n",
    "    answer = ''\n",
    "    \n",
    "    for i in range(len(phone_number)):\n",
    "        if i <len(phone_number) - 4:\n",
    "            answer += '*'\n",
    "        else:\n",
    "            answer += phone_number[i]\n",
    "    \n",
    "    return answer"
   ]
  }
 ],
 "metadata": {
  "language_info": {
   "name": "python"
  }
 },
 "nbformat": 4,
 "nbformat_minor": 2
}
