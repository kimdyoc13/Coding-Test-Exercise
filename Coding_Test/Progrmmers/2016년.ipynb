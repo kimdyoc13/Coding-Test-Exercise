{
 "cells": [
  {
   "cell_type": "code",
   "execution_count": 6,
   "metadata": {},
   "outputs": [
    {
     "name": "stdout",
     "output_type": "stream",
     "text": [
      "1\n"
     ]
    }
   ],
   "source": [
    "print(day.weekday())"
   ]
  },
  {
   "cell_type": "code",
   "execution_count": null,
   "metadata": {},
   "outputs": [],
   "source": [
    "def solution(a, b):\n",
    "    import datetime\n",
    "    day = datetime.date(2016, a, b)\n",
    "    if day.weekday() ==0:\n",
    "        return \"Mon\"\n",
    "    elif day.weekday() ==1:\n",
    "        return \"TUE\"\n",
    "    elif day.weekday() ==2:\n",
    "        return \"WED\"\n",
    "    elif day.weekday() ==3:\n",
    "        return \"THU\"\n",
    "    elif day.weekday() ==4:\n",
    "        return \"FRI\"\n",
    "    elif day.weekday() ==5:\n",
    "        return \"SAT\"\n",
    "    elif day.weekday() ==6:\n",
    "        return \"SUN\""
   ]
  },
  {
   "cell_type": "code",
   "execution_count": 10,
   "metadata": {},
   "outputs": [
    {
     "name": "stdout",
     "output_type": "stream",
     "text": [
      "2016-01-01\n",
      "FRI\n"
     ]
    }
   ],
   "source": [
    "a = 5\n",
    "b = 24\n",
    "import datetime\n",
    "day = datetime.date(2016, 1, 1)\n",
    "print(day)\n",
    "if day.weekday() ==0:\n",
    "    print(\"Mon\")\n",
    "elif day.weekday() ==1:\n",
    "    print(\"TUE\")\n",
    "elif day.weekday() ==2:\n",
    "    print(\"WED\")\n",
    "elif day.weekday() ==3:\n",
    "    print(\"THU\")\n",
    "elif day.weekday() ==4:\n",
    "    print(\"FRI\")\n",
    "elif day.weekday() ==5:\n",
    "    print(\"SAT\")\n",
    "elif day.weekday() ==6:\n",
    "    print(\"SUN\")"
   ]
  },
  {
   "cell_type": "code",
   "execution_count": null,
   "metadata": {},
   "outputs": [],
   "source": []
  }
 ],
 "metadata": {
  "kernelspec": {
   "display_name": "Python 3",
   "language": "python",
   "name": "python3"
  },
  "language_info": {
   "codemirror_mode": {
    "name": "ipython",
    "version": 3
   },
   "file_extension": ".py",
   "mimetype": "text/x-python",
   "name": "python",
   "nbconvert_exporter": "python",
   "pygments_lexer": "ipython3",
   "version": "3.12.2"
  }
 },
 "nbformat": 4,
 "nbformat_minor": 2
}
