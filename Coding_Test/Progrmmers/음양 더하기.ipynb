{
 "cells": [
  {
   "cell_type": "code",
   "execution_count": null,
   "metadata": {},
   "outputs": [],
   "source": [
    "def solution(absolutes, signs):\n",
    "    results = []\n",
    "    length = len(absolutes)\n",
    "    \n",
    "    for i in range(length):\n",
    "        \n",
    "        if signs[i] == True:\n",
    "            result = absolutes[i]\n",
    "            results.append(result)\n",
    "        elif signs[i] == False:\n",
    "            result = absolutes[i] * -1\n",
    "            results.append(result)\n",
    "        \n",
    "        answer = sum(results)\n",
    "    return answer"
   ]
  }
 ],
 "metadata": {
  "language_info": {
   "name": "python"
  }
 },
 "nbformat": 4,
 "nbformat_minor": 2
}
