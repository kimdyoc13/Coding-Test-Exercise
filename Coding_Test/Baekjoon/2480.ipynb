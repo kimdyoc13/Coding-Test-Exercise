{
 "cells": [
  {
   "cell_type": "code",
   "execution_count": null,
   "metadata": {},
   "outputs": [],
   "source": [
    "A, B, C = map(int, input().split())\n",
    "\n",
    "if A == B == C:\n",
    "    print(10000+(A*1000))\n",
    "elif A == B:\n",
    "    print(1000+(A*100))\n",
    "elif B ==C:\n",
    "    print(1000+(B*100))\n",
    "elif C ==A:\n",
    "    print(1000+(C*100))\n",
    "elif A != B != C:\n",
    "    X = [A, B, C]\n",
    "    Y = max(X)\n",
    "    print(Y * 100)\n"
   ]
  },
  {
   "attachments": {},
   "cell_type": "markdown",
   "metadata": {},
   "source": [
    "A, B, C 를 가져오고 \n",
    "가장 조건문을 사용해 상금을 출력하는 코드"
   ]
  }
 ],
 "metadata": {
  "language_info": {
   "name": "python"
  },
  "orig_nbformat": 4
 },
 "nbformat": 4,
 "nbformat_minor": 2
}
