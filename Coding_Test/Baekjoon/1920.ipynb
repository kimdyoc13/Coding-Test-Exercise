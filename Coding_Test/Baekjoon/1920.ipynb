{
 "cells": [
  {
   "cell_type": "code",
   "execution_count": null,
   "metadata": {},
   "outputs": [],
   "source": [
    "# 입력\n",
    "N = int(input())\n",
    "A = list(map(int, input().split()))\n",
    "M = int(input())\n",
    "arr = list(map(int, input().split()))\n",
    "A.sort()\t\t\t# A 정렬\n",
    "\n",
    "# arr의 각 원소별로 이분탐색\n",
    "for num in arr:\n",
    "    lt, rt = 0, N - 1\t\t# lt는 맨 앞, rt는 맨 뒤\n",
    "    isExist = False\t\t# 찾음 여부\n",
    "\n",
    "    # 이분탐색 시작\n",
    "    while lt <= rt:\t\t# lt가 rt보다 커지면 반복문 탈출\n",
    "        mid = (lt + rt) // 2\t# mid는 lt와 rt의 중간값\n",
    "        if num == A[mid]:\t# num(목표값)이 A[mid]값과 같다면 (목표값 존재여부를 알았다면)\n",
    "            isExist = True\t# isExist Ture 변경\n",
    "            print(1)\t\t# 1 출력\n",
    "            break\t\t# 반복문 탈출\n",
    "        elif num > A[mid]:\t# A[mid]가 num보다 작으면\n",
    "            lt = mid + 1\t# lt를 높임\n",
    "        else:\t\t\t# A[mid]가 num보다 크다면\n",
    "            rt = mid - 1\t# rt를 낮춤\n",
    "\n",
    "    if not isExist:\t\t# 찾지 못한 경우\n",
    "        print(0)\t\t# 0 출력"
   ]
  }
 ],
 "metadata": {
  "kernelspec": {
   "display_name": "Python 3",
   "language": "python",
   "name": "python3"
  },
  "language_info": {
   "name": "python",
   "version": "3.9.11"
  }
 },
 "nbformat": 4,
 "nbformat_minor": 2
}
