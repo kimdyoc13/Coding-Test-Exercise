{
 "cells": [
  {
   "cell_type": "code",
   "execution_count": null,
   "metadata": {},
   "outputs": [],
   "source": [
    "a, b = input().split()\n",
    "a, b = int(a), int(b)\n",
    "print(a + b /n a-b /n a * b /n a/b)"
   ]
  },
  {
   "attachments": {},
   "cell_type": "markdown",
   "metadata": {},
   "source": [
    "1"
   ]
  },
  {
   "cell_type": "code",
   "execution_count": null,
   "metadata": {},
   "outputs": [],
   "source": [
    "a, b = input().split()\n",
    "a, b = int(a), int(b)\n",
    "print(a + b)\n",
    "print(a-b)\n",
    "print(a * b)\n",
    "print(a/b)"
   ]
  },
  {
   "attachments": {},
   "cell_type": "markdown",
   "metadata": {},
   "source": [
    "2"
   ]
  },
  {
   "cell_type": "code",
   "execution_count": null,
   "metadata": {},
   "outputs": [],
   "source": [
    "a, b = input().split()\n",
    "a, b = int(a), int(b)\n",
    "print(a + b)\n",
    "print(a-b)\n",
    "print(a * b)\n",
    "print(a/b)\n",
    "print(a%b)"
   ]
  },
  {
   "attachments": {},
   "cell_type": "markdown",
   "metadata": {},
   "source": [
    "3"
   ]
  },
  {
   "cell_type": "code",
   "execution_count": null,
   "metadata": {},
   "outputs": [],
   "source": [
    "a, b = input().split()\n",
    "a= int(a)\n",
    "b = int(b)\n",
    "print(a + b)\n",
    "print(a-b)\n",
    "print(a * b)\n",
    "print(a/b)\n",
    "print(a%b)"
   ]
  },
  {
   "attachments": {},
   "cell_type": "markdown",
   "metadata": {},
   "source": [
    "4"
   ]
  },
  {
   "cell_type": "code",
   "execution_count": null,
   "metadata": {},
   "outputs": [],
   "source": [
    "a, b = input().split()\n",
    "a= int(a)\n",
    "b = int(b)\n",
    "print(a+b, a-b, a*b, a/b, a%b, sep = '\\n')"
   ]
  },
  {
   "cell_type": "code",
   "execution_count": null,
   "metadata": {},
   "outputs": [],
   "source": [
    "a, b = input().split( ' ')\n",
    "a= int(a)\n",
    "b = int(b)\n",
    "print(a+b, a-b, a*b, a/b, a%b, sep = '\\n')"
   ]
  },
  {
   "cell_type": "code",
   "execution_count": null,
   "metadata": {},
   "outputs": [],
   "source": [
    "a, b = input().split( ' ')\n",
    "a= int(a)\n",
    "b = int(b)\n",
    "print(a+b,a-b,a*b,a/b,a%b,sep = '\\n')"
   ]
  }
 ],
 "metadata": {
  "language_info": {
   "name": "python"
  },
  "orig_nbformat": 4
 },
 "nbformat": 4,
 "nbformat_minor": 2
}
