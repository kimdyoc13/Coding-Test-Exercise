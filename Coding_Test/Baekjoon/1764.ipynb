{
 "cells": [
  {
   "cell_type": "code",
   "execution_count": 2,
   "metadata": {},
   "outputs": [],
   "source": [
    "# 숫자 받기\n",
    "def solution():\n",
    "    N, M = map(int, input().split())\n",
    "    # 문자열 차례로 받기\n",
    "    dic = []\n",
    "    while True:\n",
    "        if str(input()) == '':\n",
    "            break\n",
    "        dic.append(str(input()))\n",
    "\n",
    "    #  문자열 나누기\n",
    "    X_list = dic[:N+1]\n",
    "    Y_list = dic[N+1:]\n",
    "\n",
    "    # 중복 비교\n",
    "    answer = []\n",
    "    # for 문으로\n",
    "    for i in X_list:\n",
    "        if i in Y_list:\n",
    "            answer.append(i)\n",
    "\n",
    "    # 출력\n",
    "    print(len(answer))\n",
    "    answer.sort()\n",
    "\n"
   ]
  },
  {
   "cell_type": "code",
   "execution_count": 3,
   "metadata": {},
   "outputs": [
    {
     "name": "stdout",
     "output_type": "stream",
     "text": [
      "0\n"
     ]
    }
   ],
   "source": [
    "solution()"
   ]
  },
  {
   "cell_type": "code",
   "execution_count": null,
   "metadata": {},
   "outputs": [],
   "source": [
    "# 숫자 받기\n",
    "\n",
    "N, M = map(int, input().split())\n",
    "# 문자열 차례로 받기\n",
    "dic = []\n",
    "while True:\n",
    "    if str(input()) == '':\n",
    "        break\n",
    "    dic.append(str(input()))\n",
    "\n",
    "#  문자열 나누기\n",
    "X_list = dic[:N+1]\n",
    "Y_list = dic[N+1:]\n",
    "\n",
    "# 중복 비교\n",
    "answer = []\n",
    "# for 문으로\n",
    "for i in X_list:\n",
    "    if i in Y_list:\n",
    "        answer.append(i)\n",
    "\n",
    "# 출력\n",
    "print(len(answer))\n",
    "answer.sort()\n",
    "\n"
   ]
  },
  {
   "cell_type": "code",
   "execution_count": null,
   "metadata": {},
   "outputs": [],
   "source": [
    "import sys\n",
    "\n",
    "# 숫자 받기\n",
    "N, M = map(int, input().split())\n",
    "# 문자열 차례로 받기\n",
    "A = []\n",
    "B = []\n",
    "\n",
    "for i in range(N):\n",
    "    A.append(int(sys.stdin.readline()))\n",
    "\n",
    "for i in range(M):\n",
    "    B.append(int(sys.stdin.readline()))\n",
    "\n",
    "\n",
    "# 중복 비교\n",
    "answer = []\n",
    "# for 문으로\n",
    "for i in A:\n",
    "    if i in B:\n",
    "        answer.append(i)\n",
    "\n",
    "# 출력\n",
    "print(len(answer))\n",
    "answer.sort()\n",
    "for i in answer:\n",
    "    print(i)\n",
    "\n",
    "\n"
   ]
  },
  {
   "cell_type": "code",
   "execution_count": null,
   "metadata": {},
   "outputs": [],
   "source": [
    "import sys\n",
    "\n",
    "# 숫자 받기\n",
    "N, M = map(int, input().split())\n",
    "# 문자열 차례로 받기\n",
    "A = set()\n",
    "B = set()\n",
    "\n",
    "for i in range(N):\n",
    "    A.add(sys.stdin.readline().strip())\n",
    "\n",
    "for i in range(M):\n",
    "    B.add(sys.stdin.readline().strip())\n",
    "\n",
    "# 중복 비교 (교집합 사용)\n",
    "answer = sorted(list(A & B))\n",
    "\n",
    "# 출력\n",
    "print(len(answer))\n",
    "for i in answer:\n",
    "    print(i)"
   ]
  }
 ],
 "metadata": {
  "kernelspec": {
   "display_name": "Python 3",
   "language": "python",
   "name": "python3"
  },
  "language_info": {
   "codemirror_mode": {
    "name": "ipython",
    "version": 3
   },
   "file_extension": ".py",
   "mimetype": "text/x-python",
   "name": "python",
   "nbconvert_exporter": "python",
   "pygments_lexer": "ipython3",
   "version": "3.9.11"
  }
 },
 "nbformat": 4,
 "nbformat_minor": 2
}
