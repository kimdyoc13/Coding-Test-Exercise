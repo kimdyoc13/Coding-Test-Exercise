{
 "cells": [
  {
   "cell_type": "code",
   "execution_count": null,
   "metadata": {},
   "outputs": [],
   "source": [
    "X = int(input())\n",
    "things = int(input())\n",
    "Result = 0\n",
    "\n",
    "for i in range(things):\n",
    "    A, B = map(int, input().split())\n",
    "    Result = Result + (A*B)\n",
    "  \n",
    "if Result == X :\n",
    "    print(\"Yes\")\n",
    "else:\n",
    "    print(\"No\")"
   ]
  },
  {
   "attachments": {},
   "cell_type": "markdown",
   "metadata": {},
   "source": [
    "가격 , 품목 갯수, 물건과 물건 갯수를 input으로   받고 for  문으로 물건과 물건 갯수를 곱한 값을   Result 에 저장하고 이를 품목 갯수만큼 반복한다   \n",
    "이 Result 값과 가격 값을 비교해서 Yes No 를 판별한다."
   ]
  }
 ],
 "metadata": {
  "language_info": {
   "name": "python"
  },
  "orig_nbformat": 4
 },
 "nbformat": 4,
 "nbformat_minor": 2
}
