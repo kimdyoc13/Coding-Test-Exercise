{
 "cells": [
  {
   "cell_type": "markdown",
   "metadata": {},
   "source": [
    "풀이법 \n",
    "반복문 for i 문으로 풀기"
   ]
  },
  {
   "cell_type": "code",
   "execution_count": 1,
   "metadata": {},
   "outputs": [
    {
     "ename": "ValueError",
     "evalue": "not enough values to unpack (expected 2, got 0)",
     "output_type": "error",
     "traceback": [
      "\u001b[1;31m---------------------------------------------------------------------------\u001b[0m",
      "\u001b[1;31mValueError\u001b[0m                                Traceback (most recent call last)",
      "Cell \u001b[1;32mIn[1], line 2\u001b[0m\n\u001b[0;32m      1\u001b[0m \u001b[38;5;66;03m# 수의 개수 N 과 합을 구해야하는 횟수 M 받기\u001b[39;00m\n\u001b[1;32m----> 2\u001b[0m N, M  \u001b[38;5;241m=\u001b[39m \u001b[38;5;28mmap\u001b[39m(\u001b[38;5;28mint\u001b[39m, \u001b[38;5;28minput\u001b[39m()\u001b[38;5;241m.\u001b[39msplit())\n\u001b[0;32m      3\u001b[0m \u001b[38;5;66;03m# N개의 개수 받기\u001b[39;00m\n\u001b[0;32m      4\u001b[0m num_list \u001b[38;5;241m=\u001b[39m \u001b[38;5;28mlist\u001b[39m(\u001b[38;5;28mmap\u001b[39m(\u001b[38;5;28mint\u001b[39m, \u001b[38;5;28minput\u001b[39m()\u001b[38;5;241m.\u001b[39msplit()))\n",
      "\u001b[1;31mValueError\u001b[0m: not enough values to unpack (expected 2, got 0)"
     ]
    }
   ],
   "source": [
    "# 수의 개수 N 과 합을 구해야하는 횟수 M 받기\n",
    "N, M  = map(int, input().split())\n",
    "# N개의 개수 받기\n",
    "num_list = list(map(int, input().split()))\n",
    "print(num_list)\n",
    "# 구간 받기\n",
    "for i in range(M):\n",
    "    x, y = map(int, input().split())\n",
    "    print(x, y)\n",
    "    # 출력\n",
    "    print(sum(num_list[x-1:y]))\n",
    "\n",
    "  "
   ]
  },
  {
   "cell_type": "code",
   "execution_count": null,
   "metadata": {},
   "outputs": [],
   "source": [
    "import sys\n",
    "\n",
    "# 수의 개수 N 과 합을 구해야하는 횟수 M 받기\n",
    "N, M  = map(int, input().split())\n",
    "# N개의 개수 받기\n",
    "num_list = list(map(int, input().split()))\n",
    "# 구간 받기\n",
    "for i in range(M):\n",
    "    x, y = map(int, input().split())\n",
    "    # 출력\n",
    "    print(sum(num_list[x-1:y]))\n",
    "\n",
    "  "
   ]
  },
  {
   "cell_type": "code",
   "execution_count": null,
   "metadata": {},
   "outputs": [],
   "source": [
    "import sys\n",
    "sys.setrecursionlimit(1000000)\n",
    "\n",
    "# 수의 개수 N 과 합을 구해야하는 횟수 M 받기\n",
    "N, M  = map(int, sys.stdin.readline().split())\n",
    "# N개의 개수 받기\n",
    "num_list = list(map(int, sys.stdin.readline().split()))\n",
    "# 구간 받기\n",
    "for i in range(M):\n",
    "    x, y = map(int, sys.stdin.readline().split())\n",
    "    # 출력\n",
    "    print(sum(num_list[x-1:y]))\n",
    "\n",
    "  "
   ]
  },
  {
   "cell_type": "markdown",
   "metadata": {},
   "source": [
    "# 누적합\n"
   ]
  },
  {
   "cell_type": "code",
   "execution_count": null,
   "metadata": {},
   "outputs": [],
   "source": [
    "import sys\n",
    "\n",
    "def prefix_sum(N):\n",
    "    prefixSum = [0]*N\n",
    "    prefixSum[0] = num_list[0]\n",
    "    for i in range(1, N):\n",
    "        prefixSum[i] = prefixSum[i-1] + num_list[i]\n",
    "    return prefixSum\n",
    "\n",
    "\n",
    "# 수의 개수 N 과 합을 구해야하는 횟수 M 받기\n",
    "N, M  = map(int, sys.stdin.readline().split())\n",
    "# N개의 개수 받기\n",
    "num_list = list(map(int, sys.stdin.readline().split()))\n",
    "\n",
    "prefixSum = prefix_sum(N)\n",
    "\n",
    "print(prefixSum)\n",
    "\n",
    "# # 구간 받기\n",
    "# for i in range(M):\n",
    "#     x, y = map(int, sys.stdin.readline().split())\n",
    "#     print(prefixSum[y-1] - prefixSum[x-1])"
   ]
  },
  {
   "cell_type": "code",
   "execution_count": 1,
   "metadata": {},
   "outputs": [
    {
     "name": "stdout",
     "output_type": "stream",
     "text": [
      "hi\n"
     ]
    }
   ],
   "source": [
    "print('hi')"
   ]
  },
  {
   "cell_type": "code",
   "execution_count": null,
   "metadata": {},
   "outputs": [],
   "source": [
    "import sys\n",
    "\n",
    "def prefix_sum(N):\n",
    "    prefixSum = [0]*N\n",
    "    prefixSum[0] = num_list[0]\n",
    "    for i in range(1, N):\n",
    "        prefixSum[i] = prefixSum[i-1] + num_list[i]\n",
    "    return prefixSum\n",
    "\n",
    "\n",
    "# 수의 개수 N 과 합을 구해야하는 횟수 M 받기\n",
    "N, M  = map(int, input().split())\n",
    "# N개의 개수 받기\n",
    "num_list = list(map(int, sys.stdin.readline().split()))\n",
    "\n",
    "prefixSum = prefix_sum(N)\n",
    "\n",
    "print(prefixSum)\n",
    "\n",
    "# # 구간 받기\n",
    "# for i in range(M):\n",
    "#     x, y = map(int, sys.stdin.readline().split())\n",
    "#     print(prefixSum[y-1] - prefixSum[x-1])"
   ]
  },
  {
   "cell_type": "markdown",
   "metadata": {},
   "source": []
  }
 ],
 "metadata": {
  "kernelspec": {
   "display_name": "Python 3",
   "language": "python",
   "name": "python3"
  },
  "language_info": {
   "codemirror_mode": {
    "name": "ipython",
    "version": 3
   },
   "file_extension": ".py",
   "mimetype": "text/x-python",
   "name": "python",
   "nbconvert_exporter": "python",
   "pygments_lexer": "ipython3",
   "version": "3.9.11"
  }
 },
 "nbformat": 4,
 "nbformat_minor": 2
}
