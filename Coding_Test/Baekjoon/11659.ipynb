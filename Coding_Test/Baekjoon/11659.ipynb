{
 "cells": [
  {
   "cell_type": "markdown",
   "metadata": {},
   "source": [
    "풀이법 \n",
    "반복문 for i 문으로 풀기"
   ]
  },
  {
   "cell_type": "code",
   "execution_count": null,
   "metadata": {},
   "outputs": [
    {
     "name": "stdout",
     "output_type": "stream",
     "text": [
      "[5, 4, 3, 2, 1]\n",
      "1 3\n",
      "12\n",
      "2 4\n",
      "9\n",
      "5 5\n",
      "1\n"
     ]
    }
   ],
   "source": [
    "# 수의 개수 N 과 합을 구해야하는 횟수 M 받기\n",
    "N, M  = map(int, input().split())\n",
    "# N개의 개수 받기\n",
    "num_list = list(map(int, input().split()))\n",
    "print(num_list)\n",
    "# 구간 받기\n",
    "for i in range(M):\n",
    "    x, y = map(int, input().split())\n",
    "    print(x, y)\n",
    "    # 출력\n",
    "    print(sum(num_list[x-1:y]))\n",
    "\n",
    "  "
   ]
  },
  {
   "cell_type": "code",
   "execution_count": null,
   "metadata": {},
   "outputs": [],
   "source": [
    "import sys\n",
    "\n",
    "# 수의 개수 N 과 합을 구해야하는 횟수 M 받기\n",
    "N, M  = map(int, input().split())\n",
    "# N개의 개수 받기\n",
    "num_list = list(map(int, input().split()))\n",
    "# 구간 받기\n",
    "for i in range(M):\n",
    "    x, y = map(int, input().split())\n",
    "    # 출력\n",
    "    print(sum(num_list[x-1:y]))\n",
    "\n",
    "  "
   ]
  },
  {
   "cell_type": "code",
   "execution_count": null,
   "metadata": {},
   "outputs": [],
   "source": [
    "import sys\n",
    "sys.setrecursionlimit(1000000)\n",
    "\n",
    "# 수의 개수 N 과 합을 구해야하는 횟수 M 받기\n",
    "N, M  = map(int, sys.stdin.readline().split())\n",
    "# N개의 개수 받기\n",
    "num_list = list(map(int, sys.stdin.readline().split()))\n",
    "# 구간 받기\n",
    "for i in range(M):\n",
    "    x, y = map(int, sys.stdin.readline().split())\n",
    "    # 출력\n",
    "    print(sum(num_list[x-1:y]))\n",
    "\n",
    "  "
   ]
  }
 ],
 "metadata": {
  "kernelspec": {
   "display_name": "Python 3",
   "language": "python",
   "name": "python3"
  },
  "language_info": {
   "codemirror_mode": {
    "name": "ipython",
    "version": 3
   },
   "file_extension": ".py",
   "mimetype": "text/x-python",
   "name": "python",
   "nbconvert_exporter": "python",
   "pygments_lexer": "ipython3",
   "version": "3.9.11"
  }
 },
 "nbformat": 4,
 "nbformat_minor": 2
}
