{
 "cells": [
  {
   "cell_type": "code",
   "execution_count": null,
   "metadata": {},
   "outputs": [],
   "source": [
    "a, b = input().split()\n",
    "print(int(a) / int(b))"
   ]
  },
  {
   "attachments": {},
   "cell_type": "markdown",
   "metadata": {},
   "source": [
    "입력값을 input으로 불러와 split으로 a,b 를 나눈 후 a,b 로 할당한다.  \n",
    "그후  a,b 를 int() 함수를 활용해 정수로 인식시키고, a를 b 로 나눈 값을 출력 한다. "
   ]
  },
  {
   "cell_type": "markdown",
   "metadata": {},
   "source": []
  }
 ],
 "metadata": {
  "language_info": {
   "name": "python"
  },
  "orig_nbformat": 4
 },
 "nbformat": 4,
 "nbformat_minor": 2
}
