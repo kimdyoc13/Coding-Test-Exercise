{
 "cells": [
  {
   "cell_type": "code",
   "execution_count": null,
   "metadata": {},
   "outputs": [],
   "source": [
    "x = int(input())\n",
    "y = int(input())\n",
    "\n",
    "if x >0 and y >0:\n",
    "    print(\"1\")\n",
    "elif x < 0 and y>0:\n",
    "    print(\"2\")\n",
    "elif x < 0 and y <0:\n",
    "    print(\"3\")\n",
    "elif x > 0 and y <0:\n",
    "    print(\"4\") "
   ]
  }
 ],
 "metadata": {
  "language_info": {
   "name": "python"
  },
  "orig_nbformat": 4
 },
 "nbformat": 4,
 "nbformat_minor": 2
}
