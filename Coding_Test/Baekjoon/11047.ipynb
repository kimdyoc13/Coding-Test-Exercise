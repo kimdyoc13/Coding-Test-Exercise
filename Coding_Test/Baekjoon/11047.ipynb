{
 "cells": [
  {
   "cell_type": "code",
   "execution_count": 12,
   "metadata": {},
   "outputs": [
    {
     "name": "stdout",
     "output_type": "stream",
     "text": [
      "[1, 5, 10, 50, 100, 500, 1000]\n",
      "12\n"
     ]
    }
   ],
   "source": [
    "# 구조\n",
    "\n",
    "# 데이터 받기\n",
    "N, K = map(int, input().split())\n",
    "\n",
    "# N = 10\n",
    "# K = 4200\n",
    "num_list = []\n",
    "for i in range(N):\n",
    "    num_list.append(int(input()))\n",
    "\n",
    "# 계산\n",
    "\n",
    "# 변수 지정\n",
    "Count = 0\n",
    "# N 보다 크지 않은 num 가져와서 \n",
    "num_list = [x for x in num_list if x < K]\n",
    "\n",
    "print(num_list)\n",
    "# 그걸로 나누고 나머지로 계속 나누기\n",
    "for i in range(N):\n",
    "    if K ==0:\n",
    "        break\n",
    "    value = num_list.pop()\n",
    "    Count += K // value\n",
    "    K = K % value\n",
    "    \n",
    "print(Count)\n",
    "\n",
    "\n",
    "\n",
    "\n"
   ]
  },
  {
   "cell_type": "markdown",
   "metadata": {},
   "source": [
    "제출용"
   ]
  },
  {
   "cell_type": "code",
   "execution_count": null,
   "metadata": {},
   "outputs": [
    {
     "name": "stdout",
     "output_type": "stream",
     "text": [
      "12\n"
     ]
    }
   ],
   "source": [
    "# 구조\n",
    "\n",
    "# 데이터 받기\n",
    "N, K = map(int, input().split())\n",
    "\n",
    "# N = 10\n",
    "# K = 4200\n",
    "num_list = []\n",
    "for i in range(N):\n",
    "    num_list.append(int(input()))\n",
    "\n",
    "# 계산\n",
    "\n",
    "## 변수 지정\n",
    "Count = 0\n",
    "## N 보다 크지 않은 num 가져와서 \n",
    "num_list = [x for x in num_list if x <= K]\n",
    "\n",
    "\n",
    "## 그걸로 나누고 나머지로 계속 나누기\n",
    "for i in range(len(num_list)):\n",
    "    if K ==0:\n",
    "        break\n",
    "    value = num_list.pop()\n",
    "    Count += K // value\n",
    "    K = K % value\n",
    "    \n",
    "print(Count)\n",
    "\n",
    "\n",
    "\n",
    "\n"
   ]
  },
  {
   "cell_type": "code",
   "execution_count": null,
   "metadata": {},
   "outputs": [],
   "source": []
  }
 ],
 "metadata": {
  "kernelspec": {
   "display_name": "Python 3",
   "language": "python",
   "name": "python3"
  },
  "language_info": {
   "codemirror_mode": {
    "name": "ipython",
    "version": 3
   },
   "file_extension": ".py",
   "mimetype": "text/x-python",
   "name": "python",
   "nbconvert_exporter": "python",
   "pygments_lexer": "ipython3",
   "version": "3.9.11"
  }
 },
 "nbformat": 4,
 "nbformat_minor": 2
}
