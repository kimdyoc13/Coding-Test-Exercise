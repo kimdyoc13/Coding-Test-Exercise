{
 "cells": [
  {
   "cell_type": "markdown",
   "metadata": {},
   "source": [
    "아이디어! 전체를 노드 수 만큼 순환 하면서 1과 연결된 애들, (worm 리스트에 존재할 경우 추가한다 는을 한 리스트에 넣고\n",
    "\n",
    "\n",
    "이를 중복제거 한후 갯수를 출력 하면 되겠어\n",
    "\n",
    "# 문제점 중간에 빼먹는 애들이 있을수 있겠다. (원인 : 1이 처음에 안나올 수도 있다)\n",
    "# 해결 : 애들을 그냥 리스트로 받고 이를 정렬하자"
   ]
  },
  {
   "cell_type": "code",
   "execution_count": 7,
   "metadata": {},
   "outputs": [
    {
     "name": "stdout",
     "output_type": "stream",
     "text": [
      "[[1, 2], [1, 5], [2, 3], [4, 7], [5, 2], [5, 6]]\n",
      "[1, 1, 2, 1, 5, 2, 3, 5, 2, 5, 6]\n",
      "4\n"
     ]
    }
   ],
   "source": [
    "# 컴퓨터수 입력 받기\n",
    "computer_number = int(input())\n",
    "\n",
    "# 네트워크 노드 갯수 입력 받기\n",
    "node = int(input())\n",
    "\n",
    "# 변수 지정\n",
    "worm = [1]\n",
    "node_detail = []\n",
    "\n",
    "## 순환\n",
    "\n",
    "### 받기\n",
    "for i in range(node):\n",
    "    A, B = map(int, input().split())\n",
    "    node_detail.append([A, B])\n",
    "node_detail.sort()\n",
    "# 검증\n",
    "print(node_detail)\n",
    "### 순환\n",
    "for i in node_detail:\n",
    "    if set(worm) & set(i):\n",
    "        worm.append(i[0])\n",
    "        worm.append(i[1])\n",
    "\n",
    "# 검증\n",
    "print(worm)\n",
    "\n",
    "# 출력 수\n",
    "print(len(set(worm)) - 1)\n",
    "\n"
   ]
  },
  {
   "cell_type": "code",
   "execution_count": 5,
   "metadata": {},
   "outputs": [
    {
     "name": "stdout",
     "output_type": "stream",
     "text": [
      "4\n"
     ]
    }
   ],
   "source": [
    "# 검증\n",
    "\n",
    "print(len(set([1, 1, 2, 1, 5, 2, 3, 5, 2, 5, 6])) - 1)"
   ]
  },
  {
   "cell_type": "markdown",
   "metadata": {},
   "source": [
    "# 최종 제출"
   ]
  },
  {
   "cell_type": "code",
   "execution_count": null,
   "metadata": {},
   "outputs": [
    {
     "name": "stdout",
     "output_type": "stream",
     "text": [
      "4\n"
     ]
    }
   ],
   "source": [
    "# 컴퓨터수 입력 받기\n",
    "computer_number = int(input())\n",
    "\n",
    "# 네트워크 노드 갯수 입력 받기\n",
    "node = int(input())\n",
    "\n",
    "# 변수 지정\n",
    "worm = [1]\n",
    "node_detail = []\n",
    "\n",
    "## 순환\n",
    "\n",
    "### 받기\n",
    "for i in range(node):\n",
    "    A, B = map(int, input().split())\n",
    "    \n",
    "    node_detail.append([A, B])\n",
    "node_detail.sort()\n",
    "\n",
    "### 순환\n",
    "for i in node_detail:\n",
    "    if set(worm) & set(i):\n",
    "        worm.append(i[0])\n",
    "        worm.append(i[1])\n",
    "\n",
    "### 순환\n",
    "for i in node_detail:\n",
    "    if set(worm) & set(i):\n",
    "        worm.append(i[0])\n",
    "        worm.append(i[1])\n",
    "\n",
    "\n",
    "# 출력 수\n",
    "print(len(set(worm)) - 1)\n",
    "\n"
   ]
  },
  {
   "cell_type": "markdown",
   "metadata": {},
   "source": [
    "DFS"
   ]
  },
  {
   "cell_type": "code",
   "execution_count": 3,
   "metadata": {},
   "outputs": [
    {
     "name": "stdout",
     "output_type": "stream",
     "text": [
      "{1: [2, 5], 2: [1, 3, 5], 3: [2], 5: [1, 2, 6], 6: [5], 4: [7], 7: [4]}\n",
      "4\n"
     ]
    }
   ],
   "source": [
    "# 컴퓨터수 입력 받기\n",
    "computer_number = int(input())\n",
    "\n",
    "# 네트워크 노드 갯수 입력 받기\n",
    "node = int(input())\n",
    "\n",
    "graph = {}\n",
    "\n",
    "for i in range(node):\n",
    "    A, B = map(int, input().split())\n",
    "    if A not in graph:\n",
    "        graph[A] = []\n",
    "    if B not in graph:\n",
    "        graph[B] = []\n",
    "    graph[A].append(B)\n",
    "    graph[B].append(A)\n",
    "\n",
    "print(graph)    \n",
    "\n",
    "\n",
    "\n",
    "def dfs(graph, start_node):\n",
    " \n",
    "    ## 기본은 항상 두개의 리스트를 별도로 관리해주는 것\n",
    "    need_visited, visited = list(), list()\n",
    " \n",
    "    ## 시작 노드를 시정하기 \n",
    "    need_visited.append(start_node)\n",
    "    \n",
    "    ## 만약 아직도 방문이 필요한 노드가 있다면,\n",
    "    while need_visited:\n",
    " \n",
    "        ## 그 중에서 가장 마지막 데이터를 추출 (스택 구조의 활용)\n",
    "        node = need_visited.pop()\n",
    "        \n",
    "        ## 만약 그 노드가 방문한 목록에 없다면\n",
    "        if node not in visited:\n",
    " \n",
    "            ## 방문한 목록에 추가하기 \n",
    "            visited.append(node)\n",
    " \n",
    "            ## 그 노드에 연결된 노드를 \n",
    "            need_visited.extend(graph[node])\n",
    "            \n",
    "    return visited\n",
    "\n",
    "print(len(dfs(graph, 1)) -1)"
   ]
  },
  {
   "cell_type": "markdown",
   "metadata": {},
   "source": [
    "제출"
   ]
  },
  {
   "cell_type": "code",
   "execution_count": null,
   "metadata": {},
   "outputs": [],
   "source": [
    "# 컴퓨터수 입력 받기\n",
    "computer_number = int(input())\n",
    "\n",
    "graph = {}\n",
    "\n",
    "for i in range(1, computer_number+1):\n",
    "    graph[i] = []\n",
    "# 네트워크 노드 갯수 입력 받기\n",
    "node = int(input())\n",
    "\n",
    "\n",
    "\n",
    "for i in range(node):\n",
    "    A, B = map(int, input().split())\n",
    "    graph[A].append(B)\n",
    "    graph[B].append(A)\n",
    "\n",
    "\n",
    "\n",
    "\n",
    "def dfs(graph, start_node):\n",
    " \n",
    "    ## 기본은 항상 두개의 리스트를 별도로 관리해주는 것\n",
    "    need_visited, visited = list(), list()\n",
    " \n",
    "    ## 시작 노드를 시정하기 \n",
    "    need_visited.append(start_node)\n",
    "    \n",
    "    ## 만약 아직도 방문이 필요한 노드가 있다면,\n",
    "    while need_visited:\n",
    " \n",
    "        ## 그 중에서 가장 마지막 데이터를 추출 (스택 구조의 활용)\n",
    "        node = need_visited.pop()\n",
    "        \n",
    "        ## 만약 그 노드가 방문한 목록에 없다면\n",
    "        if node not in visited:\n",
    " \n",
    "            ## 방문한 목록에 추가하기 \n",
    "            visited.append(node)\n",
    " \n",
    "            ## 그 노드에 연결된 노드를 \n",
    "            need_visited.extend(graph[node])\n",
    "            \n",
    "    return visited\n",
    "\n",
    "print(len(dfs(graph, 1)) -1)"
   ]
  },
  {
   "cell_type": "code",
   "execution_count": 1,
   "metadata": {},
   "outputs": [
    {
     "name": "stdout",
     "output_type": "stream",
     "text": [
      "[(1, 2)]\n"
     ]
    }
   ],
   "source": [
    "a= [(1,2)]\n",
    "print(a)"
   ]
  },
  {
   "cell_type": "code",
   "execution_count": 2,
   "metadata": {},
   "outputs": [
    {
     "name": "stdout",
     "output_type": "stream",
     "text": [
      "(1, 2)\n"
     ]
    }
   ],
   "source": [
    "print(a[0])"
   ]
  },
  {
   "cell_type": "code",
   "execution_count": null,
   "metadata": {},
   "outputs": [],
   "source": []
  }
 ],
 "metadata": {
  "kernelspec": {
   "display_name": "Python 3",
   "language": "python",
   "name": "python3"
  },
  "language_info": {
   "codemirror_mode": {
    "name": "ipython",
    "version": 3
   },
   "file_extension": ".py",
   "mimetype": "text/x-python",
   "name": "python",
   "nbconvert_exporter": "python",
   "pygments_lexer": "ipython3",
   "version": "3.9.11"
  }
 },
 "nbformat": 4,
 "nbformat_minor": 2
}
