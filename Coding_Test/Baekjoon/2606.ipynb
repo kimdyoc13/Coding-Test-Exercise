{
 "cells": [
  {
   "cell_type": "markdown",
   "metadata": {},
   "source": [
    "아이디어! 전체를 노드 수 만큼 순환 하면서 1과 연결된 애들, (worm 리스트에 존재할 경우 추가한다 는을 한 리스트에 넣고\n",
    "\n",
    "\n",
    "이를 중복제거 한후 갯수를 출력 하면 되겠어\n",
    "\n",
    "# 문제점 중간에 빼먹는 애들이 있을수 있겠다. (원인 : 1이 처음에 안나올 수도 있다)\n",
    "# 해결 : 애들을 그냥 리스트로 받고 이를 정렬하자"
   ]
  },
  {
   "cell_type": "code",
   "execution_count": 7,
   "metadata": {},
   "outputs": [
    {
     "name": "stdout",
     "output_type": "stream",
     "text": [
      "[[1, 2], [1, 5], [2, 3], [4, 7], [5, 2], [5, 6]]\n",
      "[1, 1, 2, 1, 5, 2, 3, 5, 2, 5, 6]\n",
      "4\n"
     ]
    }
   ],
   "source": [
    "# 컴퓨터수 입력 받기\n",
    "computer_number = int(input())\n",
    "\n",
    "# 네트워크 노드 갯수 입력 받기\n",
    "node = int(input())\n",
    "\n",
    "# 변수 지정\n",
    "worm = [1]\n",
    "node_detail = []\n",
    "\n",
    "## 순환\n",
    "\n",
    "### 받기\n",
    "for i in range(node):\n",
    "    A, B = map(int, input().split())\n",
    "    node_detail.append([A, B])\n",
    "node_detail.sort()\n",
    "# 검증\n",
    "print(node_detail)\n",
    "### 순환\n",
    "for i in node_detail:\n",
    "    if set(worm) & set(i):\n",
    "        worm.append(i[0])\n",
    "        worm.append(i[1])\n",
    "\n",
    "# 검증\n",
    "print(worm)\n",
    "\n",
    "# 출력 수\n",
    "print(len(set(worm)) - 1)\n",
    "\n"
   ]
  },
  {
   "cell_type": "code",
   "execution_count": 5,
   "metadata": {},
   "outputs": [
    {
     "name": "stdout",
     "output_type": "stream",
     "text": [
      "4\n"
     ]
    }
   ],
   "source": [
    "# 검증\n",
    "\n",
    "print(len(set([1, 1, 2, 1, 5, 2, 3, 5, 2, 5, 6])) - 1)"
   ]
  },
  {
   "cell_type": "markdown",
   "metadata": {},
   "source": [
    "# 최종 제출"
   ]
  },
  {
   "cell_type": "code",
   "execution_count": null,
   "metadata": {},
   "outputs": [
    {
     "name": "stdout",
     "output_type": "stream",
     "text": [
      "4\n"
     ]
    }
   ],
   "source": [
    "# 컴퓨터수 입력 받기\n",
    "computer_number = int(input())\n",
    "\n",
    "# 네트워크 노드 갯수 입력 받기\n",
    "node = int(input())\n",
    "\n",
    "# 변수 지정\n",
    "worm = [1]\n",
    "node_detail = []\n",
    "\n",
    "## 순환\n",
    "\n",
    "### 받기\n",
    "for i in range(node):\n",
    "    A, B = map(int, input().split())\n",
    "    node_detail.append([A, B])\n",
    "node_detail.sort()\n",
    "\n",
    "### 순환\n",
    "for i in node_detail:\n",
    "    if set(worm) & set(i):\n",
    "        worm.append(i[0])\n",
    "        worm.append(i[1])\n",
    "\n",
    "### 순환\n",
    "for i in node_detail:\n",
    "    if set(worm) & set(i):\n",
    "        worm.append(i[0])\n",
    "        worm.append(i[1])\n",
    "\n",
    "\n",
    "# 출력 수\n",
    "print(len(set(worm)) - 1)\n",
    "\n"
   ]
  },
  {
   "cell_type": "code",
   "execution_count": null,
   "metadata": {},
   "outputs": [],
   "source": []
  }
 ],
 "metadata": {
  "kernelspec": {
   "display_name": "Python 3",
   "language": "python",
   "name": "python3"
  },
  "language_info": {
   "codemirror_mode": {
    "name": "ipython",
    "version": 3
   },
   "file_extension": ".py",
   "mimetype": "text/x-python",
   "name": "python",
   "nbconvert_exporter": "python",
   "pygments_lexer": "ipython3",
   "version": "3.9.11"
  }
 },
 "nbformat": 4,
 "nbformat_minor": 2
}
