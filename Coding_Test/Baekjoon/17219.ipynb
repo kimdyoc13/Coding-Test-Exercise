{
 "cells": [
  {
   "cell_type": "markdown",
   "metadata": {},
   "source": [
    "N : 저장된 사이트 주소의 수\n",
    "    - 제약조건 1<= N <= 100000"
   ]
  },
  {
   "cell_type": "markdown",
   "metadata": {},
   "source": [
    "M : 비밀번호를 찾으려는 주소의 수\n",
    "    - 제약조건 1<= M <= 100000"
   ]
  },
  {
   "cell_type": "markdown",
   "metadata": {},
   "source": [
    "N+2번째 줄부터 M개의 줄에 걸쳐 비밀번호를 찾으려는 사이트 주소가 한줄에 하나씩 입력된다. 이때, 반드시 이미 저장된 사이트 주소가 입력된다.\n",
    "\n"
   ]
  },
  {
   "cell_type": "code",
   "execution_count": null,
   "metadata": {},
   "outputs": [],
   "source": [
    "# 구조\n",
    "\n",
    "## 16만큼 입력 받음\n",
    "# 딕셔너리 사용이 좋을것으로 보임\n",
    "\n",
    "site_passward = {}\n",
    "N, M = map(int, input().split())\n",
    "\n",
    "for i in range(N):\n",
    "    key, value = map(str, input().split())\n",
    "    site_passward[key] = value\n",
    "\n",
    "## 4만큼 입력 받으며 찾음\n",
    "\n",
    "for i in range(M):\n",
    "    A = str(input())\n",
    "    print(site_passward[A])"
   ]
  }
 ],
 "metadata": {
  "language_info": {
   "name": "python"
  }
 },
 "nbformat": 4,
 "nbformat_minor": 2
}
