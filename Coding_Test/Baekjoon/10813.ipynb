{
 "cells": [
  {
   "cell_type": "code",
   "execution_count": null,
   "metadata": {},
   "outputs": [],
   "source": [
    "N, M = map(int, input().split())\n",
    "\n",
    "X = [t for t  in range(1, N+1)]\n",
    "\n",
    "for _ in range(M):\n",
    "    i, j = map(int, input().split())\n",
    "    X[i], X[j] = X[j], X[i]\n",
    "print(X)\n",
    "\n",
    "for _ in X:\n",
    "    print(_, end = ' ')"
   ]
  },
  {
   "cell_type": "code",
   "execution_count": null,
   "metadata": {},
   "outputs": [],
   "source": [
    "N, M = map(int, input().split())\n",
    "X = [t for t  in range(1, N+1)]\n",
    "\n",
    "for _ in range(M):\n",
    "    i, j = map(int, input().split())\n",
    "    X[i], X[j] = X[j], X[i]\n",
    "print(X)\n",
    "\n",
    "for y in X:\n",
    "    print(y, end = ' ')"
   ]
  },
  {
   "cell_type": "code",
   "execution_count": null,
   "metadata": {},
   "outputs": [],
   "source": [
    "N, M = map(int, input().split())\n",
    "X = [t for t  in range(1, N+1)]\n",
    "\n",
    "for _ in range(M):\n",
    "    i, j = map(int, input().split())\n",
    "    X[i], X[j] = X[j], X[i]\n",
    "\n",
    "for y in X:\n",
    "    print(y, end = ' ')"
   ]
  }
 ],
 "metadata": {
  "language_info": {
   "name": "python"
  },
  "orig_nbformat": 4
 },
 "nbformat": 4,
 "nbformat_minor": 2
}
