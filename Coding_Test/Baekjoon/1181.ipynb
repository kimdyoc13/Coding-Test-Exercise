{
 "cells": [
  {
   "cell_type": "code",
   "execution_count": 5,
   "metadata": {},
   "outputs": [],
   "source": [
    "def solution():\n",
    "\n",
    "    # N 받기\n",
    "    N = int(input())\n",
    "\n",
    "    #N 만큼 단어 받기\n",
    "    word_list = []\n",
    "    for i in range(N):\n",
    "        word = str(input())\n",
    "        word_list.append(word)\n",
    "    #중복 제거\n",
    "\n",
    "    word_list = list(set(word_list))\n",
    "    # 정렬 기준으로 정렬\n",
    "    word_list.sort()\n",
    "\n",
    "    word_list = sorted(word_list, key = len)\n",
    "\n",
    "    \n",
    "\n",
    "\n",
    "    # 출력\n",
    "    for i in word_list:\n",
    "        print(i)"
   ]
  },
  {
   "cell_type": "code",
   "execution_count": 6,
   "metadata": {},
   "outputs": [
    {
     "name": "stdout",
     "output_type": "stream",
     "text": [
      "i\n",
      "im\n",
      "it\n",
      "no\n",
      "but\n",
      "more\n",
      "wait\n",
      "wont\n",
      "yours\n",
      "cannot\n",
      "hesitate\n"
     ]
    }
   ],
   "source": [
    "solution()"
   ]
  },
  {
   "cell_type": "code",
   "execution_count": null,
   "metadata": {},
   "outputs": [],
   "source": [
    "\n",
    "\n",
    "# N 받기\n",
    "N = int(input())\n",
    "\n",
    "#N 만큼 단어 받기\n",
    "word_list = []\n",
    "for i in range(N):\n",
    "    word = str(input())\n",
    "    word_list.append(word)\n",
    "#중복 제거\n",
    "\n",
    "word_list = list(set(word_list))\n",
    "# 정렬 기준으로 정렬\n",
    "word_list.sort()\n",
    "\n",
    "word_list = sorted(word_list, key = len)\n",
    "\n",
    "\n",
    "\n",
    "\n",
    "# 출력\n",
    "for i in word_list:\n",
    "    print(i)"
   ]
  }
 ],
 "metadata": {
  "kernelspec": {
   "display_name": "Python 3",
   "language": "python",
   "name": "python3"
  },
  "language_info": {
   "codemirror_mode": {
    "name": "ipython",
    "version": 3
   },
   "file_extension": ".py",
   "mimetype": "text/x-python",
   "name": "python",
   "nbconvert_exporter": "python",
   "pygments_lexer": "ipython3",
   "version": "3.9.11"
  }
 },
 "nbformat": 4,
 "nbformat_minor": 2
}
