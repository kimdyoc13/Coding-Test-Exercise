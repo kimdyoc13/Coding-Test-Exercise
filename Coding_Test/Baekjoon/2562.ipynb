{
 "cells": [
  {
   "cell_type": "code",
   "execution_count": null,
   "metadata": {},
   "outputs": [],
   "source": [
    "X = []\n",
    "\n",
    "for i in range(9):\n",
    "    A = list(int(input()))\n",
    "    X = X + A\n",
    "\n",
    "print(max(X))\n",
    "print(X.index(max(X)))\n",
    "\n",
    "    "
   ]
  },
  {
   "cell_type": "code",
   "execution_count": null,
   "metadata": {},
   "outputs": [],
   "source": [
    "list = list(map(int, input().split()))\n"
   ]
  }
 ],
 "metadata": {
  "language_info": {
   "name": "python"
  },
  "orig_nbformat": 4
 },
 "nbformat": 4,
 "nbformat_minor": 2
}
