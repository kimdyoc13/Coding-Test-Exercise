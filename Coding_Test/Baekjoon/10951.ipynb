{
 "cells": [
  {
   "cell_type": "code",
   "execution_count": 4,
   "metadata": {},
   "outputs": [
    {
     "name": "stdout",
     "output_type": "stream",
     "text": [
      "2\n",
      "5\n",
      "7\n",
      "17\n",
      "7\n"
     ]
    },
    {
     "ename": "ValueError",
     "evalue": "not enough values to unpack (expected 2, got 0)",
     "output_type": "error",
     "traceback": [
      "\u001b[1;31m---------------------------------------------------------------------------\u001b[0m",
      "\u001b[1;31mValueError\u001b[0m                                Traceback (most recent call last)",
      "Cell \u001b[1;32mIn[4], line 6\u001b[0m\n\u001b[0;32m      2\u001b[0m B \u001b[39m=\u001b[39m \u001b[39mint\u001b[39m(\u001b[39m5\u001b[39m)\n\u001b[0;32m      5\u001b[0m \u001b[39mwhile\u001b[39;00m A\u001b[39m>\u001b[39m\u001b[39m0\u001b[39m \u001b[39mand\u001b[39;00m B \u001b[39m<\u001b[39m\u001b[39m10\u001b[39m:\n\u001b[1;32m----> 6\u001b[0m     A, B \u001b[39m=\u001b[39m \u001b[39mmap\u001b[39m(\u001b[39mint\u001b[39m, \u001b[39minput\u001b[39m()\u001b[39m.\u001b[39msplit())\n\u001b[0;32m      7\u001b[0m     \u001b[39mprint\u001b[39m(A \u001b[39m+\u001b[39m B)\n",
      "\u001b[1;31mValueError\u001b[0m: not enough values to unpack (expected 2, got 0)"
     ]
    }
   ],
   "source": [
    "A = int(10)\n",
    "B = int(5)\n",
    "\n",
    "\n",
    "while A>0 and B <10:\n",
    "    A, B = map(int, input().split())\n",
    "    print(A + B)"
   ]
  },
  {
   "cell_type": "code",
   "execution_count": null,
   "metadata": {},
   "outputs": [],
   "source": [
    "A = int(10)\n",
    "B = int(5)\n",
    "\n",
    "while A>0 and B <10:\n",
    "    A, B = map(int, input().split())\n",
    "    print(A + B)\n",
    "    if A == None, B ==None:\n",
    "        break"
   ]
  },
  {
   "cell_type": "code",
   "execution_count": 6,
   "metadata": {},
   "outputs": [
    {
     "name": "stdout",
     "output_type": "stream",
     "text": [
      "2\n",
      "5\n",
      "7\n",
      "17\n",
      "7\n"
     ]
    },
    {
     "ename": "ValueError",
     "evalue": "not enough values to unpack (expected 2, got 0)",
     "output_type": "error",
     "traceback": [
      "\u001b[1;31m---------------------------------------------------------------------------\u001b[0m",
      "\u001b[1;31mValueError\u001b[0m                                Traceback (most recent call last)",
      "Cell \u001b[1;32mIn[6], line 5\u001b[0m\n\u001b[0;32m      2\u001b[0m B \u001b[39m=\u001b[39m \u001b[39mint\u001b[39m(\u001b[39m5\u001b[39m)\n\u001b[0;32m      4\u001b[0m \u001b[39mwhile\u001b[39;00m A\u001b[39m>\u001b[39m\u001b[39m0\u001b[39m \u001b[39mand\u001b[39;00m B \u001b[39m<\u001b[39m\u001b[39m10\u001b[39m:\n\u001b[1;32m----> 5\u001b[0m     A, B \u001b[39m=\u001b[39m \u001b[39mmap\u001b[39m(\u001b[39mint\u001b[39m, \u001b[39minput\u001b[39m()\u001b[39m.\u001b[39msplit())\n\u001b[0;32m      6\u001b[0m     \u001b[39mprint\u001b[39m(A \u001b[39m+\u001b[39m B)\n\u001b[0;32m      7\u001b[0m     \u001b[39mif\u001b[39;00m A \u001b[39m==\u001b[39m \u001b[39m\"\u001b[39m\u001b[39m\"\u001b[39m \u001b[39mand\u001b[39;00m B \u001b[39m==\u001b[39m\u001b[39m\"\u001b[39m\u001b[39m\"\u001b[39m:\n",
      "\u001b[1;31mValueError\u001b[0m: not enough values to unpack (expected 2, got 0)"
     ]
    }
   ],
   "source": [
    "A = int(10)\n",
    "B = int(5)\n",
    "\n",
    "while A>0 and B <10:\n",
    "    A, B = map(int, input().split())\n",
    "    if A == \"\" and B ==\"\":\n",
    "        break\n",
    "    print(A + B)\n",
    "    "
   ]
  },
  {
   "cell_type": "code",
   "execution_count": null,
   "metadata": {},
   "outputs": [],
   "source": [
    "A = int(10)\n",
    "B = int(5)\n",
    "\n",
    "while True:\n",
    "    A, B = map(int, input().split())\n",
    "    if A == \"\" and B ==\"\":\n",
    "        break\n",
    "    print(A + B)\n",
    "    "
   ]
  }
 ],
 "metadata": {
  "kernelspec": {
   "display_name": "base",
   "language": "python",
   "name": "python3"
  },
  "language_info": {
   "codemirror_mode": {
    "name": "ipython",
    "version": 3
   },
   "file_extension": ".py",
   "mimetype": "text/x-python",
   "name": "python",
   "nbconvert_exporter": "python",
   "pygments_lexer": "ipython3",
   "version": "3.11.3"
  },
  "orig_nbformat": 4
 },
 "nbformat": 4,
 "nbformat_minor": 2
}
