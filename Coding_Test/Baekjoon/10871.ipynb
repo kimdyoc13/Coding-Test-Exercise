{
 "cells": [
  {
   "cell_type": "code",
   "execution_count": null,
   "metadata": {},
   "outputs": [],
   "source": [
    "N, X = map(int, input().split())\n",
    "\n",
    "list = list(map(int, input().split()))\n",
    "\n",
    "for i in list:\n",
    "    if X < i:\n",
    "        print(i)\n",
    "    elif X >i:\n",
    "        continue"
   ]
  },
  {
   "cell_type": "code",
   "execution_count": null,
   "metadata": {},
   "outputs": [],
   "source": [
    "N, X = map(int, input().split())\n",
    "\n",
    "P = list(map(int, input().split()))\n",
    "\n",
    "for i in P:\n",
    "    if X < i:\n",
    "        print(i)\n",
    "    elif X >i:\n",
    "        continue"
   ]
  }
 ],
 "metadata": {
  "language_info": {
   "name": "python"
  },
  "orig_nbformat": 4
 },
 "nbformat": 4,
 "nbformat_minor": 2
}
