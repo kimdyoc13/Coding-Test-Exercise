{
 "cells": [
  {
   "cell_type": "code",
   "execution_count": null,
   "metadata": {},
   "outputs": [],
   "source": [
    "from collections import deque\n",
    "\n",
    "n, k = map(int, input().split())\n",
    "\n",
    "# 1~n번 사람\n",
    "people = deque()\n",
    "for i in range(1, n+1): people.append(i)\n",
    "result = []\n",
    "\n",
    "while people:\n",
    "  for _ in range(k-1):\n",
    "    people.append(people.popleft())\n",
    "\n",
    "  result.append(people.popleft())\n",
    "\n",
    "print(str(result).replace('[', '<').replace(']', '>'))"
   ]
  }
 ],
 "metadata": {
  "language_info": {
   "name": "python"
  }
 },
 "nbformat": 4,
 "nbformat_minor": 2
}
