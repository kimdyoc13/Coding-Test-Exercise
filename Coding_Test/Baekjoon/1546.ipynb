{
 "cells": [
  {
   "cell_type": "code",
   "execution_count": null,
   "metadata": {},
   "outputs": [],
   "source": [
    "N = int(input())\n",
    "\n",
    "Score = []\n",
    "\n",
    "for i in range(N):\n",
    "    Score.append(i)\n",
    "\n",
    "max(Score)\n",
    "\n",
    "Chandged_Score = [((i / max(Score)) * 100) for i in range(N)]\n",
    "\n",
    "print(sum(Chandged_Score) / len(Chandged_Score))"
   ]
  },
  {
   "cell_type": "code",
   "execution_count": null,
   "metadata": {},
   "outputs": [],
   "source": [
    "N = int(input())\n",
    "Score = []\n",
    "\n",
    "for i in range(N):\n",
    "    map(int, input().split())\n",
    "    Score.append(i)\n",
    "\n",
    "Chandged_Score = [((i / max(Score)) * 100) for i in range(N)]\n",
    "\n",
    "print(sum(Chandged_Score) / len(Chandged_Score))"
   ]
  },
  {
   "cell_type": "code",
   "execution_count": 4,
   "metadata": {},
   "outputs": [
    {
     "name": "stdout",
     "output_type": "stream",
     "text": [
      "75.0\n"
     ]
    }
   ],
   "source": [
    "N = int(input())\n",
    "\n",
    "Score = list(map(int, input().split()))\n",
    "\n",
    "Score\n",
    "\n",
    "Chandged_Score = [((i / max(Score)) * 100) for i in Score]\n",
    "\n",
    "print(sum(Chandged_Score) / len(Chandged_Score))"
   ]
  },
  {
   "cell_type": "code",
   "execution_count": null,
   "metadata": {},
   "outputs": [],
   "source": []
  }
 ],
 "metadata": {
  "kernelspec": {
   "display_name": "base",
   "language": "python",
   "name": "python3"
  },
  "language_info": {
   "codemirror_mode": {
    "name": "ipython",
    "version": 3
   },
   "file_extension": ".py",
   "mimetype": "text/x-python",
   "name": "python",
   "nbconvert_exporter": "python",
   "pygments_lexer": "ipython3",
   "version": "3.11.3"
  },
  "orig_nbformat": 4
 },
 "nbformat": 4,
 "nbformat_minor": 2
}
