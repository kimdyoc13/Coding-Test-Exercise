{
 "cells": [
  {
   "cell_type": "code",
   "execution_count": null,
   "metadata": {},
   "outputs": [],
   "source": [
    "append.\n",
    "\n",
    "\n",
    "for i in range(1, N+1):\n",
    "    i = []\n",
    "\n",
    "i, j, k = map(int, input().split())"
   ]
  },
  {
   "cell_type": "code",
   "execution_count": 3,
   "metadata": {},
   "outputs": [
    {
     "name": "stdout",
     "output_type": "stream",
     "text": [
      "[]\n",
      "1\n",
      "2\n"
     ]
    }
   ],
   "source": [
    "N, M = map(int, input().split())\n",
    "\n",
    "for x in range(1, N+1):\n",
    "   x = []\n",
    "\n",
    "print(x)\n",
    "\n",
    "\n",
    "print(1)\n",
    "\n",
    "print(2)\n",
    "\n",
    "\n"
   ]
  },
  {
   "cell_type": "code",
   "execution_count": 4,
   "metadata": {},
   "outputs": [
    {
     "name": "stdout",
     "output_type": "stream",
     "text": [
      "[[], [], [], [], []]\n"
     ]
    }
   ],
   "source": [
    "N, M = map(int, input().split())\n",
    "\n",
    "bucket_list = []\n",
    "bucket = []\n",
    "for x in range(1, N+1):\n",
    "    bucket_list.append(bucket)\n",
    "\n",
    "print(bucket_list)"
   ]
  },
  {
   "cell_type": "code",
   "execution_count": null,
   "metadata": {},
   "outputs": [],
   "source": [
    "N, M = map(int, input().split())\n",
    "\n",
    "bucket_list = []\n",
    "bucket = []\n",
    "for x in range(1, N+1):\n",
    "    bucket_list.append(bucket)\n",
    "    \n",
    "\n",
    "for i in range(M):\n",
    "    i, j, k = map(int, input().split())\n",
    "    \n",
    "    bucket"
   ]
  },
  {
   "cell_type": "code",
   "execution_count": 1,
   "metadata": {},
   "outputs": [
    {
     "name": "stdout",
     "output_type": "stream",
     "text": [
      "[0, 0, 0, 0, 0]\n",
      "1 2 1 1 0 "
     ]
    }
   ],
   "source": [
    "N, M = map(int, input().split())\n",
    "basket = [0 for _ in range(N)]\n",
    "\n",
    "print(basket)\n",
    "\n",
    "for _ in range(M):\n",
    "    i, j, k = map(int, input().split())\n",
    "    for n in range(i, j+1):\n",
    "        basket[n-1] = k\n",
    "        \n",
    "for n in range(N):\n",
    "    print(basket[n], end = ' ')"
   ]
  },
  {
   "cell_type": "code",
   "execution_count": null,
   "metadata": {},
   "outputs": [],
   "source": []
  }
 ],
 "metadata": {
  "kernelspec": {
   "display_name": "Python 3",
   "language": "python",
   "name": "python3"
  },
  "language_info": {
   "codemirror_mode": {
    "name": "ipython",
    "version": 3
   },
   "file_extension": ".py",
   "mimetype": "text/x-python",
   "name": "python",
   "nbconvert_exporter": "python",
   "pygments_lexer": "ipython3",
   "version": "3.11.3"
  }
 },
 "nbformat": 4,
 "nbformat_minor": 2
}
