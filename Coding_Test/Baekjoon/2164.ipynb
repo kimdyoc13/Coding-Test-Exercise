{
 "cells": [
  {
   "cell_type": "code",
   "execution_count": null,
   "metadata": {},
   "outputs": [],
   "source": [
    "from collections import deque\n",
    "\n",
    "def find_last_card(N):\n",
    "    queue = deque(range(1, N+1))\n",
    "\n",
    "    while len(queue) > 1:\n",
    "        queue.popleft() \n",
    "        queue.append(queue.popleft())\n",
    "    return queue[0]\n",
    "\n",
    "N = int(input())\n",
    "print(find_last_card(N))"
   ]
  }
 ],
 "metadata": {
  "language_info": {
   "name": "python"
  }
 },
 "nbformat": 4,
 "nbformat_minor": 2
}
