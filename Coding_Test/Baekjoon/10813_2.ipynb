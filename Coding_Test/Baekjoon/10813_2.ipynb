{
 "cells": [
  {
   "cell_type": "code",
   "execution_count": null,
   "metadata": {},
   "outputs": [],
   "source": [
    "n,m = map(int, input().split())\n",
    "basket = [0]*n\n",
    "temp = n+1\n",
    "\n",
    "for x in range(n):\n",
    "  basket[x] = x+1\n",
    "\n",
    "for x in range(m):\n",
    "  i,j = map(int, input().split())\n",
    "  temp = basket[i-1]\n",
    "  basket[i-1] = basket[j-1]\n",
    "  basket[j-1] = temp\n",
    "\n",
    "for x in range(n):\n",
    "  print(basket[x], end=\" \")"
   ]
  }
 ],
 "metadata": {
  "language_info": {
   "name": "python"
  },
  "orig_nbformat": 4
 },
 "nbformat": 4,
 "nbformat_minor": 2
}
