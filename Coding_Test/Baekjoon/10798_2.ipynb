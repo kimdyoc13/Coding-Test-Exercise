{
 "cells": [
  {
   "cell_type": "code",
   "execution_count": 1,
   "metadata": {},
   "outputs": [
    {
     "ename": "TypeError",
     "evalue": "map() must have at least two arguments.",
     "output_type": "error",
     "traceback": [
      "\u001b[1;31m---------------------------------------------------------------------------\u001b[0m",
      "\u001b[1;31mTypeError\u001b[0m                                 Traceback (most recent call last)",
      "Cell \u001b[1;32mIn[1], line 1\u001b[0m\n\u001b[1;32m----> 1\u001b[0m q, w, e, r, t \u001b[38;5;241m=\u001b[39m \u001b[38;5;28;43mmap\u001b[39;49m\u001b[43m(\u001b[49m\u001b[38;5;28;43minput\u001b[39;49m\u001b[43m(\u001b[49m\u001b[43m)\u001b[49m\u001b[43m)\u001b[49m\n\u001b[0;32m      3\u001b[0m \u001b[38;5;28mprint\u001b[39m(q, w, e, r, t)\n",
      "\u001b[1;31mTypeError\u001b[0m: map() must have at least two arguments."
     ]
    }
   ],
   "source": [
    "q, w, e, r, t = map(input())\n",
    "\n",
    "print(q, w, e, r, t)"
   ]
  },
  {
   "cell_type": "code",
   "execution_count": 3,
   "metadata": {},
   "outputs": [
    {
     "ename": "NameError",
     "evalue": "name 'q' is not defined",
     "output_type": "error",
     "traceback": [
      "\u001b[1;31m---------------------------------------------------------------------------\u001b[0m",
      "\u001b[1;31mNameError\u001b[0m                                 Traceback (most recent call last)",
      "Cell \u001b[1;32mIn[3], line 1\u001b[0m\n\u001b[1;32m----> 1\u001b[0m qustion_list \u001b[38;5;241m=\u001b[39m (\u001b[43mq\u001b[49m, w, e, r, t)\n\u001b[0;32m      3\u001b[0m \u001b[38;5;28;01mfor\u001b[39;00m _ \u001b[38;5;129;01min\u001b[39;00m qustion_list:\n\u001b[0;32m      4\u001b[0m     _ \u001b[38;5;241m=\u001b[39m \u001b[38;5;28minput\u001b[39m()\n",
      "\u001b[1;31mNameError\u001b[0m: name 'q' is not defined"
     ]
    }
   ],
   "source": [
    "qustion_list = (q, w, e, r, t)\n",
    "\n",
    "for _ in qustion_list:\n",
    "    _ = input()\n",
    "\n",
    "print(q)\n",
    "print(w)"
   ]
  },
  {
   "cell_type": "code",
   "execution_count": 4,
   "metadata": {},
   "outputs": [],
   "source": [
    "for i in range(5):\n",
    "    K = input()\n",
    "    \n"
   ]
  },
  {
   "cell_type": "code",
   "execution_count": 5,
   "metadata": {},
   "outputs": [
    {
     "name": "stdout",
     "output_type": "stream",
     "text": [
      "Aa0FfBb1GgCc2HhDd3IiEe4Jj\n"
     ]
    }
   ],
   "source": [
    "word_list = []\n",
    "number_list = []\n",
    "\n",
    "for i in range(5):\n",
    "    word = input()\n",
    "    number = len(word)\n",
    "    word_list.append(word)\n",
    "    number_list.append(number)\n",
    "    \n",
    "    \n",
    "result = ''\n",
    "\n",
    "for i in range(max(number_list)):\n",
    "    for _ in range(5):\n",
    "        result += word_list[_][i]\n",
    "        \n",
    "print(result)\n",
    "\n",
    "\n"
   ]
  },
  {
   "cell_type": "code",
   "execution_count": null,
   "metadata": {},
   "outputs": [],
   "source": [
    "word_list = []\n",
    "number_list = []\n",
    "\n",
    "for i in range(5):\n",
    "    word = input()\n",
    "    number = len(word)\n",
    "    word_list.append(word)\n",
    "    number_list.append(number)\n",
    "    \n",
    "    \n",
    "result = ''\n",
    "\n",
    "for i in range(max(number_list)):\n",
    "    for _ in range(5):\n",
    "        result += word_list[_][i]\n",
    "        \n",
    "print(result)\n",
    "\n",
    "\n"
   ]
  },
  {
   "cell_type": "code",
   "execution_count": null,
   "metadata": {},
   "outputs": [],
   "source": []
  },
  {
   "cell_type": "code",
   "execution_count": 40,
   "metadata": {},
   "outputs": [
    {
     "data": {
      "text/plain": [
       "['qwe']"
      ]
     },
     "execution_count": 40,
     "metadata": {},
     "output_type": "execute_result"
    }
   ],
   "source": [
    "all = []\n",
    "new = []\n",
    "\n",
    "for i in range(0, 5):\n",
    "    word = input().split()\n",
    "word\n",
    "    \n",
    "# for j in range(5):\n",
    "#     for k in range(16):\n",
    "#         print(all[j], k)\n",
    "#         if len(all[j]) < k:\n",
    "#             break\n",
    "#         print(all[j][k][0])\n",
    "        \n",
    "    \n",
    "        # print(new)"
   ]
  }
 ],
 "metadata": {
  "kernelspec": {
   "display_name": "Python 3",
   "language": "python",
   "name": "python3"
  },
  "language_info": {
   "codemirror_mode": {
    "name": "ipython",
    "version": 3
   },
   "file_extension": ".py",
   "mimetype": "text/x-python",
   "name": "python",
   "nbconvert_exporter": "python",
   "pygments_lexer": "ipython3",
   "version": "3.12.2"
  }
 },
 "nbformat": 4,
 "nbformat_minor": 2
}
