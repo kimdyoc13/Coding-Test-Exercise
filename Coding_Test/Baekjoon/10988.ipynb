{
 "cells": [
  {
   "cell_type": "code",
   "execution_count": null,
   "metadata": {},
   "outputs": [],
   "source": [
    "name = str(input())\n",
    "reverse_name = name[: : -1]\n",
    "\n",
    "if name == reverse_name:\n",
    "    print('1')\n",
    "else:\n",
    "    print('0')"
   ]
  }
 ],
 "metadata": {
  "language_info": {
   "name": "python"
  },
  "orig_nbformat": 4
 },
 "nbformat": 4,
 "nbformat_minor": 2
}
