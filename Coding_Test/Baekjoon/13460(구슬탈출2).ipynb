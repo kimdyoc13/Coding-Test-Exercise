{
 "cells": [
  {
   "cell_type": "code",
   "execution_count": null,
   "metadata": {},
   "outputs": [],
   "source": [
    "n, m = map(int,input().split())\n",
    "MAP = []\n",
    "for _ in range(n):\n",
    "    MAP.append(list(map(str,input())))\n",
    "\n",
    "def move(x, y, dx, dy):\n",
    "    cnt = 0\n",
    "    nx, ny = x, y\n",
    "    while MAP[nx + dx][ny + dy] != '#' and MAP[nx][ny] != 'O':\n",
    "        nx += dx\n",
    "        ny += dy\n",
    "        cnt += 1\n",
    "    return nx,  ny, cnt\n",
    "\n",
    "for r in range(n):\n",
    "    for c in range(m):\n",
    "        if MAP[r][c] == 'R':\n",
    "            # red starting x, y\n",
    "            rsx, rsy = r, c\n",
    "        if MAP[r][c] == 'B':\n",
    "            # blue starting x, y\n",
    "            bsx, bsy = r, c\n",
    "        if MAP[r][c] == 'O':\n",
    "            # hole x, y\n",
    "            ox, oy = r, c\n",
    "\n",
    "# print(MAP)            \n",
    "\n",
    "def solution():\n",
    "    visited = {}\n",
    "    moves = [(-1,0),(1,0),(0,-1),(0,1)]\n",
    "    visited[(rsx,rsy)] = 1\n",
    "    s = [[rsx,rsy,bsx,bsy,0]]\n",
    "\n",
    "    while s:\n",
    "        rx, ry, bx, by, cnt = s.pop(0)\n",
    "        if cnt >= 10:\n",
    "            return -1\n",
    "\n",
    "        for dx, dy in moves:\n",
    "            rrx, rry, rcnt = move(rx,ry,dx,dy)\n",
    "            bbx, bby, bcnt = move(bx,by,dx,dy)\n",
    "\n",
    "            if MAP[bbx][bby] != 'O':\n",
    "                if rrx == ox and rry == oy:\n",
    "                    return cnt + 1\n",
    "\n",
    "                if rrx == bbx and rry == bby:\n",
    "                    if rcnt > bcnt:\n",
    "                        rrx, rry = rrx-dx, rry-dy\n",
    "                    else:\n",
    "                        bbx, bby = bbx-dx, bby-dy\n",
    "\n",
    "                if (rrx,rry,bbx,bby) in visited:\n",
    "                    continue\n",
    "                else:\n",
    "                    visited[(rrx,rry,bbx,bby)] = 1\n",
    "                    s.append([rrx,rry,bbx,bby,cnt+1])\n",
    "                    # print(\"방문처리 : \", rrx, rry, bbx, bby, cnt+1)\n",
    "\n",
    "    return -1\n",
    "\n",
    "print(solution())"
   ]
  },
  {
   "attachments": {},
   "cell_type": "markdown",
   "metadata": {},
   "source": [
    "백준 "
   ]
  },
  {
   "cell_type": "markdown",
   "metadata": {},
   "source": []
  }
 ],
 "metadata": {
  "language_info": {
   "name": "python"
  },
  "orig_nbformat": 4
 },
 "nbformat": 4,
 "nbformat_minor": 2
}
