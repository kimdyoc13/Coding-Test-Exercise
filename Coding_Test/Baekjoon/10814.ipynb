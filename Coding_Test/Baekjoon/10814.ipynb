{
 "cells": [
  {
   "cell_type": "code",
   "execution_count": null,
   "metadata": {},
   "outputs": [],
   "source": [
    "A=int(input())\n",
    "user = []\n",
    "for _ in range(A):\n",
    "    age, name = input().split()\n",
    "    user.append([int(age),name])\n",
    "\n",
    "for i in sorted(user,key=lambda x : x[0]):\n",
    "    print(i[0],i[1])"
   ]
  }
 ],
 "metadata": {
  "language_info": {
   "name": "python"
  }
 },
 "nbformat": 4,
 "nbformat_minor": 2
}
