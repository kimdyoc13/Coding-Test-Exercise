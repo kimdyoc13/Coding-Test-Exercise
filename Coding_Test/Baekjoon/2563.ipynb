{
 "cells": [
  {
   "cell_type": "code",
   "execution_count": null,
   "metadata": {},
   "outputs": [],
   "source": [
    "# 1. 모든 사각형의 넓이 구하기\n",
    "num_square = input()\n",
    "\n",
    "scope = 0\n",
    "\n",
    "for i in range(num_square):\n",
    "    a, b = map(int, input().split(' '))\n",
    "    x = a + 10\n",
    "    y = b + 10\n",
    "    \n",
    "    scope +=((x - a) * (y -b))\n",
    "    \n",
    "    \n",
    "# 2. 모든 사각형에서 겹치는 부분 빼기\n",
    "\n"
   ]
  }
 ],
 "metadata": {
  "language_info": {
   "name": "python"
  }
 },
 "nbformat": 4,
 "nbformat_minor": 2
}
