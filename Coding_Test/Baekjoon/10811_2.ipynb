{
 "cells": [
  {
   "cell_type": "code",
   "execution_count": null,
   "metadata": {},
   "outputs": [],
   "source": [
    "\n",
    "\n",
    "N, M = map(int, input().split())\n",
    "\n",
    "[ _ for _ in range(1, N+1)] \n",
    "\n",
    "\n"
   ]
  },
  {
   "cell_type": "code",
   "execution_count": null,
   "metadata": {},
   "outputs": [],
   "source": [
    "N, M = map(int, input().split())\n",
    "\n",
    "list_N = list(range(1, N+1))\n",
    "\n",
    "for i in range(M):\n",
    "    i, j = map(int, input().split())\n",
    "    i = i-1\n",
    "    j = j-1\n",
    "    list_N = list_N[0:i] + list(reversed(list_N[i:j+1])) + list_N[j+1 : ]\n",
    "    \n",
    "print(*list_N)"
   ]
  }
 ],
 "metadata": {
  "language_info": {
   "name": "python"
  },
  "orig_nbformat": 4
 },
 "nbformat": 4,
 "nbformat_minor": 2
}
