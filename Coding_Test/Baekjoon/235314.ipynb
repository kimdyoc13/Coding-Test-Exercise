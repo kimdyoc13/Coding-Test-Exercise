{
 "cells": [
  {
   "cell_type": "code",
   "execution_count": 1,
   "metadata": {},
   "outputs": [
    {
     "name": "stdout",
     "output_type": "stream",
     "text": [
      "long long int\n"
     ]
    }
   ],
   "source": [
    "\n",
    "\n",
    "if X <=4:\n",
    "    print(\"long int\")\n",
    "elif X <=8:\n",
    "    print(\"long long int\") \n",
    "elif X <= 12:\n",
    "    print(\"long long long int\")\n",
    "else:\n",
    "    print(\"long long long long int\")\n",
    "    \n"
   ]
  },
  {
   "attachments": {},
   "cell_type": "markdown",
   "metadata": {},
   "source": [
    "처음엔 이런식으로 코드를 구성했으나 이는 숫자 16까지만 제대로 작동한다는것을 파악하고 수정했다."
   ]
  },
  {
   "cell_type": "code",
   "execution_count": 5,
   "metadata": {},
   "outputs": [
    {
     "name": "stdout",
     "output_type": "stream",
     "text": [
      "longlonglong int\n"
     ]
    }
   ],
   "source": [
    "import math\n",
    "\n",
    "X = int(input())\n",
    "\n",
    "N = math.ceil(X / 4)\n",
    "\n",
    "\n",
    "print(\"long\" * N, \"int\")"
   ]
  },
  {
   "cell_type": "code",
   "execution_count": null,
   "metadata": {},
   "outputs": [],
   "source": [
    "X = int(input())\n",
    "\n",
    "N = math.ceil(X / 4)\n",
    "\n",
    "for i in range(N):\n",
    "    print(\"long\")\n"
   ]
  },
  {
   "attachments": {},
   "cell_type": "markdown",
   "metadata": {},
   "source": [
    "둘다 정답이 아니였다."
   ]
  },
  {
   "cell_type": "code",
   "execution_count": null,
   "metadata": {},
   "outputs": [],
   "source": [
    "n = int(input())\n",
    "answer = 'int'\n",
    "for i in range(n//4):\n",
    "    answer = 'long ' + answer\n",
    "print(answer)"
   ]
  },
  {
   "attachments": {},
   "cell_type": "markdown",
   "metadata": {},
   "source": [
    "인터넷에서 발췌한 코드이다"
   ]
  },
  {
   "cell_type": "code",
   "execution_count": null,
   "metadata": {},
   "outputs": [],
   "source": [
    "n = int(input())\n",
    "answer = 'int'\n",
    "\n",
    "for i in range(n/4)"
   ]
  },
  {
   "cell_type": "code",
   "execution_count": 6,
   "metadata": {},
   "outputs": [
    {
     "ename": "TypeError",
     "evalue": "'float' object cannot be interpreted as an integer",
     "output_type": "error",
     "traceback": [
      "\u001b[1;31m---------------------------------------------------------------------------\u001b[0m",
      "\u001b[1;31mTypeError\u001b[0m                                 Traceback (most recent call last)",
      "Cell \u001b[1;32mIn[6], line 1\u001b[0m\n\u001b[1;32m----> 1\u001b[0m \u001b[39mprint\u001b[39m(\u001b[39mrange\u001b[39m(\u001b[39m3\u001b[39m\u001b[39m/\u001b[39m\u001b[39m4\u001b[39m))\n",
      "\u001b[1;31mTypeError\u001b[0m: 'float' object cannot be interpreted as an integer"
     ]
    }
   ],
   "source": [
    "print(range(3/4))"
   ]
  },
  {
   "cell_type": "code",
   "execution_count": 11,
   "metadata": {},
   "outputs": [
    {
     "name": "stdout",
     "output_type": "stream",
     "text": [
      "long int\n"
     ]
    }
   ],
   "source": [
    "import math\n",
    "\n",
    "X = int(input())\n",
    "answer = 'int'\n",
    "N = math.ceil(X / 4)\n",
    "\n",
    "for i in range(N):\n",
    "    answer = 'long ' + answer\n",
    "    \n",
    "print(answer)"
   ]
  },
  {
   "cell_type": "code",
   "execution_count": 10,
   "metadata": {},
   "outputs": [
    {
     "name": "stdout",
     "output_type": "stream",
     "text": [
      "long long  int\n"
     ]
    }
   ],
   "source": [
    "import math\n",
    "\n",
    "X = int(input())\n",
    "\n",
    "N = math.ceil(X / 4)\n",
    "\n",
    "\n",
    "print(\"long \" * N, \"int\")"
   ]
  },
  {
   "attachments": {},
   "cell_type": "markdown",
   "metadata": {},
   "source": [
    "위는 틀린 코드이다"
   ]
  },
  {
   "cell_type": "code",
   "execution_count": null,
   "metadata": {},
   "outputs": [],
   "source": []
  }
 ],
 "metadata": {
  "kernelspec": {
   "display_name": "base",
   "language": "python",
   "name": "python3"
  },
  "language_info": {
   "codemirror_mode": {
    "name": "ipython",
    "version": 3
   },
   "file_extension": ".py",
   "mimetype": "text/x-python",
   "name": "python",
   "nbconvert_exporter": "python",
   "pygments_lexer": "ipython3",
   "version": "3.11.3"
  },
  "orig_nbformat": 4
 },
 "nbformat": 4,
 "nbformat_minor": 2
}
