{
 "cells": [
  {
   "cell_type": "code",
   "execution_count": null,
   "metadata": {},
   "outputs": [],
   "source": [
    "# initial setting\n",
    "grade_list = [\"A+\", \"A0\", \"B+\", \"B0\", \"C+\", \"C0\", \"D+\", \"D0\", \"F\"]\n",
    "score_list = [4.5, 4.0, 3.5, 3.0, 2.5, 2.0, 1.5, 1.0, 0.0]\n",
    "\n",
    "tot_credit = 0 # 누적 단위수(sum 단위수)\n",
    "tot_score = 0 # 누적 성적(sum 단위수x성적)\n",
    "\n",
    "for i in range(20):\n",
    "    a = list(map(str, input().strip().split()))\n",
    "    credit = float(a[1])\n",
    "    if a[2] == \"P\":\n",
    "        continue\n",
    "    else:\n",
    "        idx = grade_list.index(a[2])\n",
    "        score = score_list[idx]\n",
    "        tot_score += (credit*score)\n",
    "        tot_credit += credit\n",
    "\n",
    "avg_score = float(tot_score / tot_credit)\n",
    "print(avg_score)\n"
   ]
  }
 ],
 "metadata": {
  "language_info": {
   "name": "python"
  },
  "orig_nbformat": 4
 },
 "nbformat": 4,
 "nbformat_minor": 2
}
