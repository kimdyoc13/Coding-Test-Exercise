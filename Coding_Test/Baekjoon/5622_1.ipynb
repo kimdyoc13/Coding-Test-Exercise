{
 "cells": [
  {
   "cell_type": "code",
   "execution_count": 1,
   "metadata": {},
   "outputs": [
    {
     "ename": "AttributeError",
     "evalue": "'list' object has no attribute 'replace'",
     "output_type": "error",
     "traceback": [
      "\u001b[1;31m---------------------------------------------------------------------------\u001b[0m",
      "\u001b[1;31mAttributeError\u001b[0m                            Traceback (most recent call last)",
      "Cell \u001b[1;32mIn[1], line 12\u001b[0m\n\u001b[0;32m      7\u001b[0m     word_list\u001b[38;5;241m.\u001b[39mappend(context)\n\u001b[0;32m     10\u001b[0m \u001b[38;5;66;03m# 1. 알바벳 숫자로 변환\u001b[39;00m\n\u001b[1;32m---> 12\u001b[0m word_list \u001b[38;5;241m=\u001b[39m \u001b[43mword_list\u001b[49m\u001b[38;5;241;43m.\u001b[39;49m\u001b[43mreplace\u001b[49m(\u001b[38;5;124m'\u001b[39m\u001b[38;5;124mA\u001b[39m\u001b[38;5;124m'\u001b[39m, \u001b[38;5;241m3\u001b[39m)\u001b[38;5;241m.\u001b[39mreplace(\u001b[38;5;124m'\u001b[39m\u001b[38;5;124mB\u001b[39m\u001b[38;5;124m'\u001b[39m, \u001b[38;5;241m3\u001b[39m)\u001b[38;5;241m.\u001b[39mreplace(\u001b[38;5;124m'\u001b[39m\u001b[38;5;124mC\u001b[39m\u001b[38;5;124m'\u001b[39m, \u001b[38;5;241m3\u001b[39m)\n\u001b[0;32m     13\u001b[0m word_list \u001b[38;5;241m=\u001b[39m word_list\u001b[38;5;241m.\u001b[39mreplace(\u001b[38;5;124m'\u001b[39m\u001b[38;5;124mD\u001b[39m\u001b[38;5;124m'\u001b[39m, \u001b[38;5;241m4\u001b[39m)\u001b[38;5;241m.\u001b[39mreplace(\u001b[38;5;124m'\u001b[39m\u001b[38;5;124mE\u001b[39m\u001b[38;5;124m'\u001b[39m, \u001b[38;5;241m4\u001b[39m)\u001b[38;5;241m.\u001b[39mreplace(\u001b[38;5;124m'\u001b[39m\u001b[38;5;124mF\u001b[39m\u001b[38;5;124m'\u001b[39m, \u001b[38;5;241m4\u001b[39m)\n\u001b[0;32m     14\u001b[0m word_list \u001b[38;5;241m=\u001b[39m word_list\u001b[38;5;241m.\u001b[39mreplace(\u001b[38;5;124m'\u001b[39m\u001b[38;5;124mG\u001b[39m\u001b[38;5;124m'\u001b[39m, \u001b[38;5;241m5\u001b[39m)\u001b[38;5;241m.\u001b[39mreplace(\u001b[38;5;124m'\u001b[39m\u001b[38;5;124mH\u001b[39m\u001b[38;5;124m'\u001b[39m, \u001b[38;5;241m5\u001b[39m)\u001b[38;5;241m.\u001b[39mreplace(\u001b[38;5;124m'\u001b[39m\u001b[38;5;124mI\u001b[39m\u001b[38;5;124m'\u001b[39m, \u001b[38;5;241m5\u001b[39m)\n",
      "\u001b[1;31mAttributeError\u001b[0m: 'list' object has no attribute 'replace'"
     ]
    }
   ],
   "source": [
    "word = input()\n",
    "\n",
    "word = []\n",
    "\n",
    "# 0. 알파벡 하나씩 분리 \n",
    "for context in word:\n",
    "    word.append(context)\n",
    "    \n",
    "\n",
    "# 1. 알바벳 숫자로 변환\n",
    "\n",
    "word = word.replace('A', '3').replace('B', '3').replace('C', '3')\n",
    "word = word.replace('D', '4').replace('E', '4').replace('F', '4')\n",
    "word = word.replace('G', '5').replace('H', '5').replace('I', '5')\n",
    "word = word.replace('J', '6').replace('K', '6').replace('L', '6')\n",
    "word = word.replace('M', '7').replace('N', '7').replace('O', '7')\n",
    "word = word.replace('P', '8').replace('Q', '8').replace('R', '8').replace('S', '8')\n",
    "word = word.replace('T', '9').replace('U', '9').replace('V', '9')\n",
    "word = word.replace('W', '10').replace('X', '10').replace('Y', '10').replace('Z', '10')\n",
    "\n",
    "\n",
    "# 2. 숫자 시간으로 변환\n",
    "\n",
    "# 3. 시간의 합 계산 \n",
    "print(sum(word))"
   ]
  },
  {
   "cell_type": "code",
   "execution_count": 2,
   "metadata": {},
   "outputs": [
    {
     "name": "stdout",
     "output_type": "stream",
     "text": [
      "['1', '0', '3']\n"
     ]
    }
   ],
   "source": [
    "word = input()\n",
    "\n",
    "\n",
    "# 1. 알바벳 시간으로 변환\n",
    "\n",
    "word = word.replace('A', '3').replace('B', '3').replace('C', '3')\n",
    "word = word.replace('D', '4').replace('E', '4').replace('F', '4')\n",
    "word = word.replace('G', '5').replace('H', '5').replace('I', '5')\n",
    "word = word.replace('J', '6').replace('K', '6').replace('L', '6')\n",
    "word = word.replace('M', '7').replace('N', '7').replace('O', '7')\n",
    "word = word.replace('P', '8').replace('Q', '8').replace('R', '8').replace('S', '8')\n",
    "word = word.replace('T', '9').replace('U', '9').replace('V', '9')\n",
    "word = word.replace('W', '10').replace('X', '10').replace('Y', '10').replace('Z', '10')\n",
    "\n",
    "\n",
    "# 2. 시간을 하나씩 분리\n",
    "\n",
    "# # 3. 시간의 합 계산 \n",
    "# print(sum(word))"
   ]
  },
  {
   "cell_type": "code",
   "execution_count": 5,
   "metadata": {},
   "outputs": [
    {
     "name": "stdout",
     "output_type": "stream",
     "text": [
      "92\n",
      "['9', '2']\n",
      "13\n"
     ]
    }
   ],
   "source": [
    "word = input()\n",
    "\n",
    "# 1. 알파벳 숫자로 변환\n",
    "\n",
    "word = word.replace('A', '2').replace('B', '2').replace('C', '2')\n",
    "word = word.replace('D', '3').replace('E', '3').replace('F', '3')\n",
    "word = word.replace('G', '4').replace('H', '4').replace('I', '4')\n",
    "word = word.replace('J', '5').replace('K', '5').replace('L', '5')\n",
    "word = word.replace('M', '6').replace('N', '6').replace('O', '6')\n",
    "word = word.replace('P', '7').replace('Q', '7').replace('R', '7').replace('S', '8')\n",
    "word = word.replace('T', '8').replace('U', '8').replace('V', '8')\n",
    "word = word.replace('W', '9').replace('X', '9').replace('Y', '9').replace('Z', '9')\n",
    "# 2. 숫자를 리스트로 변환\n",
    "print(word)\n",
    "\n",
    "word_list = []\n",
    "\n",
    "for context in word:\n",
    "    word_list.append(context)\n",
    "    \n",
    "print(word_list)\n",
    "\n",
    "# 3. 숫자리스트를 시간으로 변환\n",
    "# 4. 리스트 합 구함\n",
    "sum = 0\n",
    "\n",
    "for i in word:\n",
    "    i = int(i)\n",
    "    sum += i +1\n",
    "    \n",
    "print(sum)\n",
    "    "
   ]
  },
  {
   "cell_type": "code",
   "execution_count": 7,
   "metadata": {},
   "outputs": [
    {
     "name": "stdout",
     "output_type": "stream",
     "text": [
      "17\n"
     ]
    }
   ],
   "source": [
    "word = input()\n",
    "\n",
    "# 1. 알파벳 숫자로 변환\n",
    "\n",
    "word = word.replace('A', '2').replace('B', '2').replace('C', '2')\n",
    "word = word.replace('D', '3').replace('E', '3').replace('F', '3')\n",
    "word = word.replace('G', '4').replace('H', '4').replace('I', '4')\n",
    "word = word.replace('J', '5').replace('K', '5').replace('L', '5')\n",
    "word = word.replace('M', '6').replace('N', '6').replace('O', '6')\n",
    "word = word.replace('P', '7').replace('Q', '7').replace('R', '7').replace('S', '8')\n",
    "word = word.replace('T', '8').replace('U', '8').replace('V', '8')\n",
    "word = word.replace('W', '9').replace('X', '9').replace('Y', '9').replace('Z', '9')\n",
    "# 2. 숫자를 리스트로 변환\n",
    "\n",
    "word_list = []\n",
    "\n",
    "for context in word:\n",
    "    word_list.append(context)\n",
    "    \n",
    "\n",
    "# 3. 숫자리스트를 시간으로 변환\n",
    "# 4. 리스트 합 구함\n",
    "sum = 0\n",
    "\n",
    "for i in word:\n",
    "    i = int(i)\n",
    "    sum += i +1\n",
    "    \n",
    "print(sum)\n",
    "    "
   ]
  },
  {
   "cell_type": "code",
   "execution_count": 9,
   "metadata": {},
   "outputs": [
    {
     "name": "stdout",
     "output_type": "stream",
     "text": [
      "36\n"
     ]
    }
   ],
   "source": [
    "word = input()\n",
    "\n",
    "# 1. 알파벳 숫자로 변환\n",
    "\n",
    "word = word.replace('A', '2').replace('B', '2').replace('C', '2')\n",
    "word = word.replace('D', '3').replace('E', '3').replace('F', '3')\n",
    "word = word.replace('G', '4').replace('H', '4').replace('I', '4')\n",
    "word = word.replace('J', '5').replace('K', '5').replace('L', '5')\n",
    "word = word.replace('M', '6').replace('N', '6').replace('O', '6')\n",
    "word = word.replace('P', '7').replace('Q', '7').replace('R', '7').replace('S', '8')\n",
    "word = word.replace('T', '8').replace('U', '8').replace('V', '8')\n",
    "word = word.replace('W', '9').replace('X', '9').replace('Y', '9').replace('Z', '9')\n",
    "    \n",
    "\n",
    "# 3. 숫자리스트를 시간으로 변환\n",
    "# 4. 리스트 합 구함\n",
    "sum = 0\n",
    "\n",
    "for i in word:\n",
    "    i = int(i)\n",
    "    sum += i +1\n",
    "    \n",
    "print(sum)\n",
    "    "
   ]
  },
  {
   "cell_type": "code",
   "execution_count": null,
   "metadata": {},
   "outputs": [],
   "source": [
    "word = input()\n",
    "\n",
    "\n",
    "word = word.replace('A', '2').replace('B', '2').replace('C', '2')\n",
    "word = word.replace('D', '3').replace('E', '3').replace('F', '3')\n",
    "word = word.replace('G', '4').replace('H', '4').replace('I', '4')\n",
    "word = word.replace('J', '5').replace('K', '5').replace('L', '5')\n",
    "word = word.replace('M', '6').replace('N', '6').replace('O', '6')\n",
    "word = word.replace('P', '7').replace('Q', '7').replace('R', '7').replace('S', '7')\n",
    "word = word.replace('T', '8').replace('U', '8').replace('V', '8')\n",
    "word = word.replace('W', '9').replace('X', '9').replace('Y', '9').replace('Z', '9')\n",
    "    \n",
    "\n",
    "\n",
    "sum = 0\n",
    "\n",
    "for i in word:\n",
    "    i = int(i)\n",
    "    sum += i +1\n",
    "    \n",
    "print(sum)\n",
    "    "
   ]
  }
 ],
 "metadata": {
  "kernelspec": {
   "display_name": "Python 3",
   "language": "python",
   "name": "python3"
  },
  "language_info": {
   "codemirror_mode": {
    "name": "ipython",
    "version": 3
   },
   "file_extension": ".py",
   "mimetype": "text/x-python",
   "name": "python",
   "nbconvert_exporter": "python",
   "pygments_lexer": "ipython3",
   "version": "3.12.2"
  }
 },
 "nbformat": 4,
 "nbformat_minor": 2
}
