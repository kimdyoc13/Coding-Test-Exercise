{
 "cells": [
  {
   "cell_type": "code",
   "execution_count": null,
   "metadata": {},
   "outputs": [],
   "source": [
    "import sys\n",
    "\n",
    "m = int(sys.stdin.readline())\n",
    "S = set()\n",
    "\n",
    "for _ in range(m):\n",
    "    temp = sys.stdin.readline().strip().split()\n",
    "    \n",
    "    if len(temp) == 1:\n",
    "        if temp[0] == \"all\":\n",
    "            S = set([i for i in range(1, 21)])\n",
    "        else:\n",
    "            S = set()\n",
    "    \n",
    "    else:\n",
    "        func, x = temp[0], temp[1]\n",
    "        x = int(x)\n",
    "\n",
    "        if func == \"add\":\n",
    "            S.add(x)\n",
    "        elif func == \"remove\":\n",
    "            S.discard(x)\n",
    "        elif func == \"check\":\n",
    "            print(1 if x in S else 0)\n",
    "        elif func == \"toggle\":\n",
    "            if x in S:\n",
    "                S.discard(x)\n",
    "            else:\n",
    "                S.add(x)"
   ]
  }
 ],
 "metadata": {
  "language_info": {
   "name": "python"
  }
 },
 "nbformat": 4,
 "nbformat_minor": 2
}
