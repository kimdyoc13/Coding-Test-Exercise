{
 "cells": [
  {
   "cell_type": "code",
   "execution_count": null,
   "metadata": {},
   "outputs": [],
   "source": [
    "table = [list(map(int, input().split())) for _ in range(9)]\n",
    "\n",
    "max_num = 0\n",
    "max_row, max_col = 0, 0\n",
    "for row in range(9):\n",
    "    for col in range(9):\n",
    "        if max_num <= table[row][col]:\n",
    "            max_row = row + 1\n",
    "            max_col = col + 1\n",
    "            max_num = table[row][col]\n",
    "\n",
    "print(max_num)\n",
    "print(max_row, max_col)"
   ]
  }
 ],
 "metadata": {
  "language_info": {
   "name": "python"
  },
  "orig_nbformat": 4
 },
 "nbformat": 4,
 "nbformat_minor": 2
}
