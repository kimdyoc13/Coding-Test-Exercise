{
 "cells": [
  {
   "cell_type": "code",
   "execution_count": 12,
   "metadata": {},
   "outputs": [
    {
     "name": "stdout",
     "output_type": "stream",
     "text": [
      "22 55\n"
     ]
    }
   ],
   "source": [
    "H, M = map(int, input().split())\n",
    "\n",
    "M = M - 45\n",
    "\n",
    "if M <0:\n",
    "    M = 60 +  M\n",
    "    H = H-1\n",
    "    \n",
    "    if H<0:\n",
    "        H = 24 + H\n",
    "\n",
    "print(H, M)"
   ]
  },
  {
   "cell_type": "code",
   "execution_count": 19,
   "metadata": {},
   "outputs": [
    {
     "name": "stdout",
     "output_type": "stream",
     "text": [
      "0 13\n"
     ]
    }
   ],
   "source": [
    "H, M = map(int, input().split())\n",
    "Time = int(input())\n",
    "\n",
    "M = M + Time\n",
    "\n",
    "if M >60:\n",
    "    H = int(H + (M / 60))\n",
    "    M = M % 60\n",
    "    \n",
    "    if H >=24:\n",
    "        H = H - 24\n",
    "\n",
    "print(H ,M)\n"
   ]
  },
  {
   "cell_type": "code",
   "execution_count": null,
   "metadata": {},
   "outputs": [],
   "source": [
    "H, M = map(int, input().split())\n",
    "Time = int(input())\n",
    "\n",
    "M = M + Time\n",
    "\n",
    "if M >=60:\n",
    "    H = H + int(M / 60)\n",
    "    M = M % 60\n",
    "    \n",
    "    if H >=24:\n",
    "        H = H % 24\n",
    "\n",
    "print(H ,M)\n"
   ]
  },
  {
   "cell_type": "code",
   "execution_count": null,
   "metadata": {},
   "outputs": [],
   "source": []
  }
 ],
 "metadata": {
  "kernelspec": {
   "display_name": "base",
   "language": "python",
   "name": "python3"
  },
  "language_info": {
   "codemirror_mode": {
    "name": "ipython",
    "version": 3
   },
   "file_extension": ".py",
   "mimetype": "text/x-python",
   "name": "python",
   "nbconvert_exporter": "python",
   "pygments_lexer": "ipython3",
   "version": "3.11.3"
  },
  "orig_nbformat": 4
 },
 "nbformat": 4,
 "nbformat_minor": 2
}
