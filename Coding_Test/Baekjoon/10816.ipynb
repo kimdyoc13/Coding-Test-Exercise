{
 "cells": [
  {
   "cell_type": "code",
   "execution_count": null,
   "metadata": {},
   "outputs": [],
   "source": [
    "from bisect import bisect_left, bisect_right\n",
    "from sys import stdin\n",
    "\n",
    "n = stdin.readline().rstrip()\n",
    "card = list(map(int,stdin.readline().split()))\n",
    "m = stdin.readline().rstrip()\n",
    "test = list(map(int,stdin.readline().split()))\n",
    "card.sort()\n",
    "\n",
    "def count_by_range(a, left_value, right_value):\n",
    "    right_index = bisect_right(a, right_value)\n",
    "    left_index = bisect_left(a, left_value)\n",
    "    return right_index - left_index\n",
    "\n",
    "\n",
    "for i in range(len(test)):\n",
    "    print(count_by_range(card, test[i], test[i]), end=' ')"
   ]
  }
 ],
 "metadata": {
  "language_info": {
   "name": "python"
  }
 },
 "nbformat": 4,
 "nbformat_minor": 2
}
