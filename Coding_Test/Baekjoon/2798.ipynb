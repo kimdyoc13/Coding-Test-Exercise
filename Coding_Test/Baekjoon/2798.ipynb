{
 "cells": [
  {
   "cell_type": "markdown",
   "metadata": {},
   "source": [
    "문제 : 블랙잭\n",
    "- 설명 \n",
    "    - N개의 숫자로 M 이 넘지 않는 수 만들기\n",
    "\n",
    "- 아이디어\n",
    "    - 리스트에 넣고 sort"
   ]
  },
  {
   "cell_type": "code",
   "execution_count": null,
   "metadata": {},
   "outputs": [],
   "source": [
    "def solution():\n",
    "    "
   ]
  }
 ],
 "metadata": {
  "language_info": {
   "name": "python"
  }
 },
 "nbformat": 4,
 "nbformat_minor": 2
}
