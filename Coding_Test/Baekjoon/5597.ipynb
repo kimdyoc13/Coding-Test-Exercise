{
 "cells": [
  {
   "cell_type": "code",
   "execution_count": null,
   "metadata": {},
   "outputs": [],
   "source": [
    "students_list = []\n",
    "\n",
    "a = list(range(1, 31))\n",
    "for i in range(28):\n",
    "    n = int(input())\n",
    "    students_list = students_list + n\n",
    "    \n",
    "result = list(set(a) - set(students_list))\n",
    "\n",
    "print(min(result))\n",
    "print(max(result))"
   ]
  },
  {
   "cell_type": "code",
   "execution_count": null,
   "metadata": {},
   "outputs": [],
   "source": [
    "students_list = []\n",
    "\n",
    "a = list(range(1, 31))\n",
    "for i in range(28):\n",
    "    n = int(input())\n",
    "    students_list.append(n)\n",
    "    \n",
    "result = list(set(a) - set(students_list))\n",
    "\n",
    "print(min(result))\n",
    "print(max(result))"
   ]
  },
  {
   "cell_type": "code",
   "execution_count": 2,
   "metadata": {},
   "outputs": [
    {
     "name": "stdout",
     "output_type": "stream",
     "text": [
      "[300, 700, 900, 1000]\n"
     ]
    }
   ],
   "source": [
    "meter_list = [3, 7, 9, 10]\n",
    "centi_meter_list = [100*i for i in meter_list if i >0]\n",
    "\n",
    "print(centi_meter_list)\n",
    "\n"
   ]
  },
  {
   "cell_type": "code",
   "execution_count": null,
   "metadata": {},
   "outputs": [],
   "source": []
  }
 ],
 "metadata": {
  "kernelspec": {
   "display_name": "Python 3",
   "language": "python",
   "name": "python3"
  },
  "language_info": {
   "codemirror_mode": {
    "name": "ipython",
    "version": 3
   },
   "file_extension": ".py",
   "mimetype": "text/x-python",
   "name": "python",
   "nbconvert_exporter": "python",
   "pygments_lexer": "ipython3",
   "version": "3.12.1"
  }
 },
 "nbformat": 4,
 "nbformat_minor": 2
}
