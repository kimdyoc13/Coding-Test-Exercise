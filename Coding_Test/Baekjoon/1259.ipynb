{
 "cells": [
  {
   "cell_type": "code",
   "execution_count": null,
   "metadata": {},
   "outputs": [],
   "source": [
    "def solution():\n",
    "    while True:\n",
    "        # 받기\n",
    "        N = str(input())\n",
    "        # 거르기\n",
    "        if int(N) == 0:\n",
    "            break\n",
    "        \n",
    "        # Yes, No 판별\n",
    "        if N == N[::-1]:\n",
    "            print(\"yes\")\n",
    "        else:\n",
    "            print(\"no\")"
   ]
  }
 ],
 "metadata": {
  "language_info": {
   "name": "python"
  }
 },
 "nbformat": 4,
 "nbformat_minor": 2
}
