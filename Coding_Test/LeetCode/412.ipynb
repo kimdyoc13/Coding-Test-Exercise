{
 "cells": [
  {
   "cell_type": "code",
   "execution_count": null,
   "metadata": {},
   "outputs": [],
   "source": [
    "class Solution:\n",
    "    def fizzBuzz(self, n: int) -> List[str]:\n",
    "        L = []\n",
    "        for i in range(1, n+1):\n",
    "            if i % 3 ==0 and i % 5 ==0:\n",
    "                L.append(\"FizzBuzz\")\n",
    "            elif i % 3 ==0:\n",
    "                L.append(\"Fizz\")\n",
    "            elif i % 5 ==0:\n",
    "                L.append(\"Buzz\")\n",
    "            else:\n",
    "                L.append(str(i))\n",
    "        return L\n",
    "\n"
   ]
  }
 ],
 "metadata": {
  "language_info": {
   "name": "python"
  },
  "orig_nbformat": 4
 },
 "nbformat": 4,
 "nbformat_minor": 2
}
