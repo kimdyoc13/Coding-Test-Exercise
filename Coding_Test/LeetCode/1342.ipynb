{
 "cells": [
  {
   "cell_type": "code",
   "execution_count": null,
   "metadata": {},
   "outputs": [],
   "source": [
    "class Solution:\n",
    "    def numberOfSteps(self, num: int) -> int:\n",
    "        x = 0\n",
    "        while num != 0:\n",
    "            if num % 2  == 0:\n",
    "                num = num / 2\n",
    "                x = x+1\n",
    "            elif num % 2 ==1:\n",
    "                num = num-1\n",
    "                x = x+1\n",
    "        return x"
   ]
  }
 ],
 "metadata": {
  "language_info": {
   "name": "python"
  },
  "orig_nbformat": 4
 },
 "nbformat": 4,
 "nbformat_minor": 2
}
